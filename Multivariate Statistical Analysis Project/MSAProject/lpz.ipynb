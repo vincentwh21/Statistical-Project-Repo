{
 "cells": [
  {
   "cell_type": "markdown",
   "metadata": {},
   "source": [
    "# Split or Stay: Divorce Predictor Dataset\n",
    "### About Dataset\n",
    "\n",
    "这是个心理学调查数据集\n",
    "\n",
    "-There are 54 questions, labeled Atr1 to Atr54, corresponding to Question 1 to Question 52.\n",
    "\n",
    "-The last column is the status column, which indicates whether the individual is 'Married' or 'Divorced'. It is represented by a Boolean variable, where 'Married' is represented as '1' and 'Divorced' as '0'.\"\n",
    "\n",
    "主要是探究这54个问题对是否离婚能否有效的预测，问题在这个markdown里的注释里\n",
    "\n",
    "<!-- When one of our apologies apologizes when our discussions go in a bad direction, the issue does not extend.\n",
    "I know we can ignore our differences, even if things get hard sometimes.\n",
    "When we need it, we can take our discussions with my wife from the beginning and correct it.\n",
    "When I argue with my wife, it will eventually work for me to contact him.\n",
    "The time I spent with my wife is special for us.\n",
    "We don't have time at home as partners.\n",
    "We are like two strangers who share the same environment at home rather than family.\n",
    "I enjoy our holidays with my wife.\n",
    "I enjoy traveling with my wife.\n",
    "My wife and most of our goals are common.\n",
    "I think that one day in the future, when I look back, I see that my wife and I are in harmony with each other.\n",
    "My wife and I have similar values in terms of personal freedom.\n",
    "My husband and I have similar entertainment.\n",
    "Most of our goals for people (children, friends, etc.) are the same.\n",
    "Our dreams of living with my wife are similar and harmonious\n",
    "We're compatible with my wife about what love should be\n",
    "We share the same views with my wife about being happy in your life\n",
    "My wife and I have similar ideas about how marriage should be\n",
    "My wife and I have similar ideas about how roles should be in marriage\n",
    "My wife and I have similar values in trust\n",
    "I know exactly what my wife likes.\n",
    "I know how my wife wants to be taken care of when she's sick.\n",
    "I know my wife's favorite food.\n",
    "I can tell you what kind of stress my wife is facing in her life.\n",
    "I have knowledge of my wife's inner world.\n",
    "I know my wife's basic concerns.\n",
    "I know what my wife's current sources of stress are.\n",
    "I know my wife's hopes and wishes.\n",
    "I know my wife very well.\n",
    "I know my wife's friends and their social relationships.\n",
    "I feel aggressive when I argue with my wife.\n",
    "When discussing with my wife, I usually use expressions such as …..\n",
    "I can use negative statements about my wife's personality during our discussions.\n",
    "I can use offensive expressions during our discussions.\n",
    "I can insult our discussions.\n",
    "I can be humiliating when we argue.\n",
    "My argument with my wife is not calm.\n",
    "I hate my wife's way of bringing it up.\n",
    "Fights often occur suddenly.\n",
    "We're just starting a fight before I know what's going on.\n",
    "When I talk to my wife about something, my calm suddenly breaks.\n",
    "When I argue with my wife, it only snaps in and I don't say a word.\n",
    "I'm mostly thirsty to calm the environment a little bit.\n",
    "Sometimes I think it's good for me to leave home for a while.\n",
    "I'd rather stay silent than argue with my wife.\n",
    "Even if I'm right in the argument, I'm thirsty not to upset the other side.\n",
    "When I argue with my wife, I remain silent because I am afraid of not being able to control my anger.\n",
    "I feel right in our discussions.\n",
    "I have nothing to do with what I've been accused of.\n",
    "I'm not actually the one who's guilty about what I'm accused of.\n",
    "I'm not the one who's wrong about problems at home.\n",
    "I wouldn't hesitate to tell her about my wife's inadequacy.\n",
    "When I discuss it, I remind her of my wife's inadequate issues.\n",
    "I'm not afraid to tell her about my wife's incompetence. -->"
   ]
  },
  {
   "cell_type": "code",
   "execution_count": 1,
   "metadata": {
    "scrolled": true
   },
   "outputs": [],
   "source": [
    "import pandas as pd\n",
    "df = pd.read_csv(\"..\\MSAProject\\divorce.csv\", encoding='utf-8', sep=';')"
   ]
  },
  {
   "cell_type": "code",
   "execution_count": 2,
   "metadata": {},
   "outputs": [
    {
     "name": "stdout",
     "output_type": "stream",
     "text": [
      "<class 'pandas.core.frame.DataFrame'>\n",
      "RangeIndex: 170 entries, 0 to 169\n",
      "Data columns (total 55 columns):\n",
      " #   Column  Non-Null Count  Dtype\n",
      "---  ------  --------------  -----\n",
      " 0   Atr1    170 non-null    int64\n",
      " 1   Atr2    170 non-null    int64\n",
      " 2   Atr3    170 non-null    int64\n",
      " 3   Atr4    170 non-null    int64\n",
      " 4   Atr5    170 non-null    int64\n",
      " 5   Atr6    170 non-null    int64\n",
      " 6   Atr7    170 non-null    int64\n",
      " 7   Atr8    170 non-null    int64\n",
      " 8   Atr9    170 non-null    int64\n",
      " 9   Atr10   170 non-null    int64\n",
      " 10  Atr11   170 non-null    int64\n",
      " 11  Atr12   170 non-null    int64\n",
      " 12  Atr13   170 non-null    int64\n",
      " 13  Atr14   170 non-null    int64\n",
      " 14  Atr15   170 non-null    int64\n",
      " 15  Atr16   170 non-null    int64\n",
      " 16  Atr17   170 non-null    int64\n",
      " 17  Atr18   170 non-null    int64\n",
      " 18  Atr19   170 non-null    int64\n",
      " 19  Atr20   170 non-null    int64\n",
      " 20  Atr21   170 non-null    int64\n",
      " 21  Atr22   170 non-null    int64\n",
      " 22  Atr23   170 non-null    int64\n",
      " 23  Atr24   170 non-null    int64\n",
      " 24  Atr25   170 non-null    int64\n",
      " 25  Atr26   170 non-null    int64\n",
      " 26  Atr27   170 non-null    int64\n",
      " 27  Atr28   170 non-null    int64\n",
      " 28  Atr29   170 non-null    int64\n",
      " 29  Atr30   170 non-null    int64\n",
      " 30  Atr31   170 non-null    int64\n",
      " 31  Atr32   170 non-null    int64\n",
      " 32  Atr33   170 non-null    int64\n",
      " 33  Atr34   170 non-null    int64\n",
      " 34  Atr35   170 non-null    int64\n",
      " 35  Atr36   170 non-null    int64\n",
      " 36  Atr37   170 non-null    int64\n",
      " 37  Atr38   170 non-null    int64\n",
      " 38  Atr39   170 non-null    int64\n",
      " 39  Atr40   170 non-null    int64\n",
      " 40  Atr41   170 non-null    int64\n",
      " 41  Atr42   170 non-null    int64\n",
      " 42  Atr43   170 non-null    int64\n",
      " 43  Atr44   170 non-null    int64\n",
      " 44  Atr45   170 non-null    int64\n",
      " 45  Atr46   170 non-null    int64\n",
      " 46  Atr47   170 non-null    int64\n",
      " 47  Atr48   170 non-null    int64\n",
      " 48  Atr49   170 non-null    int64\n",
      " 49  Atr50   170 non-null    int64\n",
      " 50  Atr51   170 non-null    int64\n",
      " 51  Atr52   170 non-null    int64\n",
      " 52  Atr53   170 non-null    int64\n",
      " 53  Atr54   170 non-null    int64\n",
      " 54  Class   170 non-null    int64\n",
      "dtypes: int64(55)\n",
      "memory usage: 73.2 KB\n"
     ]
    }
   ],
   "source": [
    "df.info()"
   ]
  },
  {
   "cell_type": "code",
   "execution_count": 3,
   "metadata": {},
   "outputs": [
    {
     "data": {
      "text/html": [
       "<div>\n",
       "<style scoped>\n",
       "    .dataframe tbody tr th:only-of-type {\n",
       "        vertical-align: middle;\n",
       "    }\n",
       "\n",
       "    .dataframe tbody tr th {\n",
       "        vertical-align: top;\n",
       "    }\n",
       "\n",
       "    .dataframe thead th {\n",
       "        text-align: right;\n",
       "    }\n",
       "</style>\n",
       "<table border=\"1\" class=\"dataframe\">\n",
       "  <thead>\n",
       "    <tr style=\"text-align: right;\">\n",
       "      <th></th>\n",
       "      <th>Atr1</th>\n",
       "      <th>Atr2</th>\n",
       "      <th>Atr3</th>\n",
       "      <th>Atr4</th>\n",
       "      <th>Atr5</th>\n",
       "      <th>Atr6</th>\n",
       "      <th>Atr7</th>\n",
       "      <th>Atr8</th>\n",
       "      <th>Atr9</th>\n",
       "      <th>Atr10</th>\n",
       "      <th>...</th>\n",
       "      <th>Atr46</th>\n",
       "      <th>Atr47</th>\n",
       "      <th>Atr48</th>\n",
       "      <th>Atr49</th>\n",
       "      <th>Atr50</th>\n",
       "      <th>Atr51</th>\n",
       "      <th>Atr52</th>\n",
       "      <th>Atr53</th>\n",
       "      <th>Atr54</th>\n",
       "      <th>Class</th>\n",
       "    </tr>\n",
       "  </thead>\n",
       "  <tbody>\n",
       "    <tr>\n",
       "      <th>count</th>\n",
       "      <td>170.000000</td>\n",
       "      <td>170.000000</td>\n",
       "      <td>170.000000</td>\n",
       "      <td>170.000000</td>\n",
       "      <td>170.000000</td>\n",
       "      <td>170.000000</td>\n",
       "      <td>170.000000</td>\n",
       "      <td>170.000000</td>\n",
       "      <td>170.000000</td>\n",
       "      <td>170.000000</td>\n",
       "      <td>...</td>\n",
       "      <td>170.000000</td>\n",
       "      <td>170.000000</td>\n",
       "      <td>170.000000</td>\n",
       "      <td>170.000000</td>\n",
       "      <td>170.000000</td>\n",
       "      <td>170.000000</td>\n",
       "      <td>170.000000</td>\n",
       "      <td>170.000000</td>\n",
       "      <td>170.000000</td>\n",
       "      <td>170.000000</td>\n",
       "    </tr>\n",
       "    <tr>\n",
       "      <th>mean</th>\n",
       "      <td>1.776471</td>\n",
       "      <td>1.652941</td>\n",
       "      <td>1.764706</td>\n",
       "      <td>1.482353</td>\n",
       "      <td>1.541176</td>\n",
       "      <td>0.747059</td>\n",
       "      <td>0.494118</td>\n",
       "      <td>1.452941</td>\n",
       "      <td>1.458824</td>\n",
       "      <td>1.576471</td>\n",
       "      <td>...</td>\n",
       "      <td>2.552941</td>\n",
       "      <td>2.270588</td>\n",
       "      <td>2.741176</td>\n",
       "      <td>2.382353</td>\n",
       "      <td>2.429412</td>\n",
       "      <td>2.476471</td>\n",
       "      <td>2.517647</td>\n",
       "      <td>2.241176</td>\n",
       "      <td>2.011765</td>\n",
       "      <td>0.494118</td>\n",
       "    </tr>\n",
       "    <tr>\n",
       "      <th>std</th>\n",
       "      <td>1.627257</td>\n",
       "      <td>1.468654</td>\n",
       "      <td>1.415444</td>\n",
       "      <td>1.504327</td>\n",
       "      <td>1.632169</td>\n",
       "      <td>0.904046</td>\n",
       "      <td>0.898698</td>\n",
       "      <td>1.546371</td>\n",
       "      <td>1.557976</td>\n",
       "      <td>1.421529</td>\n",
       "      <td>...</td>\n",
       "      <td>1.371786</td>\n",
       "      <td>1.586841</td>\n",
       "      <td>1.137348</td>\n",
       "      <td>1.511587</td>\n",
       "      <td>1.405090</td>\n",
       "      <td>1.260238</td>\n",
       "      <td>1.476537</td>\n",
       "      <td>1.505634</td>\n",
       "      <td>1.667611</td>\n",
       "      <td>0.501442</td>\n",
       "    </tr>\n",
       "    <tr>\n",
       "      <th>min</th>\n",
       "      <td>0.000000</td>\n",
       "      <td>0.000000</td>\n",
       "      <td>0.000000</td>\n",
       "      <td>0.000000</td>\n",
       "      <td>0.000000</td>\n",
       "      <td>0.000000</td>\n",
       "      <td>0.000000</td>\n",
       "      <td>0.000000</td>\n",
       "      <td>0.000000</td>\n",
       "      <td>0.000000</td>\n",
       "      <td>...</td>\n",
       "      <td>0.000000</td>\n",
       "      <td>0.000000</td>\n",
       "      <td>0.000000</td>\n",
       "      <td>0.000000</td>\n",
       "      <td>0.000000</td>\n",
       "      <td>0.000000</td>\n",
       "      <td>0.000000</td>\n",
       "      <td>0.000000</td>\n",
       "      <td>0.000000</td>\n",
       "      <td>0.000000</td>\n",
       "    </tr>\n",
       "    <tr>\n",
       "      <th>25%</th>\n",
       "      <td>0.000000</td>\n",
       "      <td>0.000000</td>\n",
       "      <td>0.000000</td>\n",
       "      <td>0.000000</td>\n",
       "      <td>0.000000</td>\n",
       "      <td>0.000000</td>\n",
       "      <td>0.000000</td>\n",
       "      <td>0.000000</td>\n",
       "      <td>0.000000</td>\n",
       "      <td>0.000000</td>\n",
       "      <td>...</td>\n",
       "      <td>2.000000</td>\n",
       "      <td>1.000000</td>\n",
       "      <td>2.000000</td>\n",
       "      <td>1.000000</td>\n",
       "      <td>1.000000</td>\n",
       "      <td>2.000000</td>\n",
       "      <td>1.000000</td>\n",
       "      <td>1.000000</td>\n",
       "      <td>0.000000</td>\n",
       "      <td>0.000000</td>\n",
       "    </tr>\n",
       "    <tr>\n",
       "      <th>50%</th>\n",
       "      <td>2.000000</td>\n",
       "      <td>2.000000</td>\n",
       "      <td>2.000000</td>\n",
       "      <td>1.000000</td>\n",
       "      <td>1.000000</td>\n",
       "      <td>0.000000</td>\n",
       "      <td>0.000000</td>\n",
       "      <td>1.000000</td>\n",
       "      <td>1.000000</td>\n",
       "      <td>2.000000</td>\n",
       "      <td>...</td>\n",
       "      <td>3.000000</td>\n",
       "      <td>2.000000</td>\n",
       "      <td>3.000000</td>\n",
       "      <td>3.000000</td>\n",
       "      <td>2.000000</td>\n",
       "      <td>3.000000</td>\n",
       "      <td>3.000000</td>\n",
       "      <td>2.000000</td>\n",
       "      <td>2.000000</td>\n",
       "      <td>0.000000</td>\n",
       "    </tr>\n",
       "    <tr>\n",
       "      <th>75%</th>\n",
       "      <td>3.000000</td>\n",
       "      <td>3.000000</td>\n",
       "      <td>3.000000</td>\n",
       "      <td>3.000000</td>\n",
       "      <td>3.000000</td>\n",
       "      <td>1.000000</td>\n",
       "      <td>1.000000</td>\n",
       "      <td>3.000000</td>\n",
       "      <td>3.000000</td>\n",
       "      <td>3.000000</td>\n",
       "      <td>...</td>\n",
       "      <td>4.000000</td>\n",
       "      <td>4.000000</td>\n",
       "      <td>4.000000</td>\n",
       "      <td>4.000000</td>\n",
       "      <td>4.000000</td>\n",
       "      <td>4.000000</td>\n",
       "      <td>4.000000</td>\n",
       "      <td>4.000000</td>\n",
       "      <td>4.000000</td>\n",
       "      <td>1.000000</td>\n",
       "    </tr>\n",
       "    <tr>\n",
       "      <th>max</th>\n",
       "      <td>4.000000</td>\n",
       "      <td>4.000000</td>\n",
       "      <td>4.000000</td>\n",
       "      <td>4.000000</td>\n",
       "      <td>4.000000</td>\n",
       "      <td>4.000000</td>\n",
       "      <td>4.000000</td>\n",
       "      <td>4.000000</td>\n",
       "      <td>4.000000</td>\n",
       "      <td>4.000000</td>\n",
       "      <td>...</td>\n",
       "      <td>4.000000</td>\n",
       "      <td>4.000000</td>\n",
       "      <td>4.000000</td>\n",
       "      <td>4.000000</td>\n",
       "      <td>4.000000</td>\n",
       "      <td>4.000000</td>\n",
       "      <td>4.000000</td>\n",
       "      <td>4.000000</td>\n",
       "      <td>4.000000</td>\n",
       "      <td>1.000000</td>\n",
       "    </tr>\n",
       "  </tbody>\n",
       "</table>\n",
       "<p>8 rows × 55 columns</p>\n",
       "</div>"
      ],
      "text/plain": [
       "             Atr1        Atr2        Atr3        Atr4        Atr5        Atr6  \\\n",
       "count  170.000000  170.000000  170.000000  170.000000  170.000000  170.000000   \n",
       "mean     1.776471    1.652941    1.764706    1.482353    1.541176    0.747059   \n",
       "std      1.627257    1.468654    1.415444    1.504327    1.632169    0.904046   \n",
       "min      0.000000    0.000000    0.000000    0.000000    0.000000    0.000000   \n",
       "25%      0.000000    0.000000    0.000000    0.000000    0.000000    0.000000   \n",
       "50%      2.000000    2.000000    2.000000    1.000000    1.000000    0.000000   \n",
       "75%      3.000000    3.000000    3.000000    3.000000    3.000000    1.000000   \n",
       "max      4.000000    4.000000    4.000000    4.000000    4.000000    4.000000   \n",
       "\n",
       "             Atr7        Atr8        Atr9       Atr10  ...       Atr46  \\\n",
       "count  170.000000  170.000000  170.000000  170.000000  ...  170.000000   \n",
       "mean     0.494118    1.452941    1.458824    1.576471  ...    2.552941   \n",
       "std      0.898698    1.546371    1.557976    1.421529  ...    1.371786   \n",
       "min      0.000000    0.000000    0.000000    0.000000  ...    0.000000   \n",
       "25%      0.000000    0.000000    0.000000    0.000000  ...    2.000000   \n",
       "50%      0.000000    1.000000    1.000000    2.000000  ...    3.000000   \n",
       "75%      1.000000    3.000000    3.000000    3.000000  ...    4.000000   \n",
       "max      4.000000    4.000000    4.000000    4.000000  ...    4.000000   \n",
       "\n",
       "            Atr47       Atr48       Atr49       Atr50       Atr51       Atr52  \\\n",
       "count  170.000000  170.000000  170.000000  170.000000  170.000000  170.000000   \n",
       "mean     2.270588    2.741176    2.382353    2.429412    2.476471    2.517647   \n",
       "std      1.586841    1.137348    1.511587    1.405090    1.260238    1.476537   \n",
       "min      0.000000    0.000000    0.000000    0.000000    0.000000    0.000000   \n",
       "25%      1.000000    2.000000    1.000000    1.000000    2.000000    1.000000   \n",
       "50%      2.000000    3.000000    3.000000    2.000000    3.000000    3.000000   \n",
       "75%      4.000000    4.000000    4.000000    4.000000    4.000000    4.000000   \n",
       "max      4.000000    4.000000    4.000000    4.000000    4.000000    4.000000   \n",
       "\n",
       "            Atr53       Atr54       Class  \n",
       "count  170.000000  170.000000  170.000000  \n",
       "mean     2.241176    2.011765    0.494118  \n",
       "std      1.505634    1.667611    0.501442  \n",
       "min      0.000000    0.000000    0.000000  \n",
       "25%      1.000000    0.000000    0.000000  \n",
       "50%      2.000000    2.000000    0.000000  \n",
       "75%      4.000000    4.000000    1.000000  \n",
       "max      4.000000    4.000000    1.000000  \n",
       "\n",
       "[8 rows x 55 columns]"
      ]
     },
     "execution_count": 3,
     "metadata": {},
     "output_type": "execute_result"
    }
   ],
   "source": [
    "df.describe()"
   ]
  },
  {
   "cell_type": "code",
   "execution_count": 9,
   "metadata": {},
   "outputs": [
    {
     "data": {
      "text/plain": [
       "Atr1     0\n",
       "Atr2     0\n",
       "Atr3     0\n",
       "Atr4     0\n",
       "Atr5     0\n",
       "Atr6     0\n",
       "Atr7     0\n",
       "Atr8     0\n",
       "Atr9     0\n",
       "Atr10    0\n",
       "Atr11    0\n",
       "Atr12    0\n",
       "Atr13    0\n",
       "Atr14    0\n",
       "Atr15    0\n",
       "Atr16    0\n",
       "Atr17    0\n",
       "Atr18    0\n",
       "Atr19    0\n",
       "Atr20    0\n",
       "Atr21    0\n",
       "Atr22    0\n",
       "Atr23    0\n",
       "Atr24    0\n",
       "Atr25    0\n",
       "Atr26    0\n",
       "Atr27    0\n",
       "Atr28    0\n",
       "Atr29    0\n",
       "Atr30    0\n",
       "Atr31    0\n",
       "Atr32    0\n",
       "Atr33    0\n",
       "Atr34    0\n",
       "Atr35    0\n",
       "Atr36    0\n",
       "Atr37    0\n",
       "Atr38    0\n",
       "Atr39    0\n",
       "Atr40    0\n",
       "Atr41    0\n",
       "Atr42    0\n",
       "Atr43    0\n",
       "Atr44    0\n",
       "Atr45    0\n",
       "Atr46    0\n",
       "Atr47    0\n",
       "Atr48    0\n",
       "Atr49    0\n",
       "Atr50    0\n",
       "Atr51    0\n",
       "Atr52    0\n",
       "Atr53    0\n",
       "Atr54    0\n",
       "Class    0\n",
       "dtype: int64"
      ]
     },
     "execution_count": 9,
     "metadata": {},
     "output_type": "execute_result"
    }
   ],
   "source": [
    "df.isna().sum()"
   ]
  },
  {
   "cell_type": "code",
   "execution_count": 4,
   "metadata": {},
   "outputs": [
    {
     "data": {
      "text/plain": [
       "Class\n",
       "0    86\n",
       "1    84\n",
       "Name: count, dtype: int64"
      ]
     },
     "execution_count": 4,
     "metadata": {},
     "output_type": "execute_result"
    }
   ],
   "source": [
    "df['Class'].value_counts()"
   ]
  },
  {
   "cell_type": "code",
   "execution_count": 5,
   "metadata": {},
   "outputs": [
    {
     "name": "stdout",
     "output_type": "stream",
     "text": [
      "(170, 54)\n",
      "(170,)\n"
     ]
    }
   ],
   "source": [
    "y = df['Class']\n",
    "X = df.drop('Class',axis=1)\n",
    "print(X.shape)\n",
    "print(y.shape)"
   ]
  },
  {
   "cell_type": "code",
   "execution_count": 6,
   "metadata": {},
   "outputs": [],
   "source": [
    "from sklearn.model_selection import train_test_split\n",
    "x_train,x_test,y_train,y_test= train_test_split(X,y,random_state = 42,test_size=0.2)"
   ]
  },
  {
   "cell_type": "code",
   "execution_count": 7,
   "metadata": {},
   "outputs": [],
   "source": [
    "from sklearn.linear_model import LogisticRegression, SGDClassifier, Perceptron, RidgeClassifier, PassiveAggressiveClassifier\n",
    "from sklearn.neighbors import KNeighborsClassifier\n",
    "from sklearn.svm import SVC\n",
    "from sklearn.tree import DecisionTreeClassifier\n",
    "from sklearn.ensemble import RandomForestClassifier, AdaBoostClassifier, GradientBoostingClassifier\n",
    "from sklearn.naive_bayes import GaussianNB\n",
    "from sklearn.discriminant_analysis import LinearDiscriminantAnalysis, QuadraticDiscriminantAnalysis"
   ]
  },
  {
   "cell_type": "code",
   "execution_count": 8,
   "metadata": {},
   "outputs": [],
   "source": [
    "classifiers = {\n",
    "    'Logistic Regression': LogisticRegression(),\n",
    "    'KNN': KNeighborsClassifier(),\n",
    "    'SVC': SVC(),\n",
    "    'Decision Tree': DecisionTreeClassifier(),\n",
    "    'Random Forest': RandomForestClassifier(),\n",
    "    'AdaBoost': AdaBoostClassifier(),\n",
    "    'Gradient Boosting': GradientBoostingClassifier(),\n",
    "    'Gaussian Naive Bayes': GaussianNB(),\n",
    "    'LDA': LinearDiscriminantAnalysis(),\n",
    "    'QDA': QuadraticDiscriminantAnalysis(),\n",
    "    'SGD Classifier': SGDClassifier(),\n",
    "    'Perceptron': Perceptron(),\n",
    "    'Ridge Classifier': RidgeClassifier(),\n",
    "    'Passive Aggressive Classifier': PassiveAggressiveClassifier()\n",
    "}"
   ]
  },
  {
   "cell_type": "code",
   "execution_count": 9,
   "metadata": {},
   "outputs": [
    {
     "name": "stdout",
     "output_type": "stream",
     "text": [
      "Logistic Regression accuracy: 1.00\n"
     ]
    },
    {
     "ename": "AttributeError",
     "evalue": "'Flags' object has no attribute 'c_contiguous'",
     "output_type": "error",
     "traceback": [
      "\u001b[1;31m---------------------------------------------------------------------------\u001b[0m",
      "\u001b[1;31mAttributeError\u001b[0m                            Traceback (most recent call last)",
      "Cell \u001b[1;32mIn[9], line 6\u001b[0m\n\u001b[0;32m      4\u001b[0m \u001b[38;5;28;01mfor\u001b[39;00m name, clf \u001b[38;5;129;01min\u001b[39;00m classifiers\u001b[38;5;241m.\u001b[39mitems():\n\u001b[0;32m      5\u001b[0m     clf\u001b[38;5;241m.\u001b[39mfit(x_train, y_train)\n\u001b[1;32m----> 6\u001b[0m     score \u001b[38;5;241m=\u001b[39m clf\u001b[38;5;241m.\u001b[39mscore(x_test, y_test)\n\u001b[0;32m      7\u001b[0m     model_names\u001b[38;5;241m.\u001b[39mappend(name)\n\u001b[0;32m      8\u001b[0m     accuracies\u001b[38;5;241m.\u001b[39mappend(score)\n",
      "File \u001b[1;32m~\\anaconda3\\Lib\\site-packages\\sklearn\\base.py:705\u001b[0m, in \u001b[0;36mClassifierMixin.score\u001b[1;34m(self, X, y, sample_weight)\u001b[0m\n\u001b[0;32m    680\u001b[0m \u001b[38;5;250m\u001b[39m\u001b[38;5;124;03m\"\"\"\u001b[39;00m\n\u001b[0;32m    681\u001b[0m \u001b[38;5;124;03mReturn the mean accuracy on the given test data and labels.\u001b[39;00m\n\u001b[0;32m    682\u001b[0m \n\u001b[1;32m   (...)\u001b[0m\n\u001b[0;32m    701\u001b[0m \u001b[38;5;124;03m    Mean accuracy of ``self.predict(X)`` w.r.t. `y`.\u001b[39;00m\n\u001b[0;32m    702\u001b[0m \u001b[38;5;124;03m\"\"\"\u001b[39;00m\n\u001b[0;32m    703\u001b[0m \u001b[38;5;28;01mfrom\u001b[39;00m \u001b[38;5;21;01m.\u001b[39;00m\u001b[38;5;21;01mmetrics\u001b[39;00m \u001b[38;5;28;01mimport\u001b[39;00m accuracy_score\n\u001b[1;32m--> 705\u001b[0m \u001b[38;5;28;01mreturn\u001b[39;00m accuracy_score(y, \u001b[38;5;28mself\u001b[39m\u001b[38;5;241m.\u001b[39mpredict(X), sample_weight\u001b[38;5;241m=\u001b[39msample_weight)\n",
      "File \u001b[1;32m~\\anaconda3\\Lib\\site-packages\\sklearn\\neighbors\\_classification.py:246\u001b[0m, in \u001b[0;36mKNeighborsClassifier.predict\u001b[1;34m(self, X)\u001b[0m\n\u001b[0;32m    244\u001b[0m check_is_fitted(\u001b[38;5;28mself\u001b[39m, \u001b[38;5;124m\"\u001b[39m\u001b[38;5;124m_fit_method\u001b[39m\u001b[38;5;124m\"\u001b[39m)\n\u001b[0;32m    245\u001b[0m \u001b[38;5;28;01mif\u001b[39;00m \u001b[38;5;28mself\u001b[39m\u001b[38;5;241m.\u001b[39mweights \u001b[38;5;241m==\u001b[39m \u001b[38;5;124m\"\u001b[39m\u001b[38;5;124muniform\u001b[39m\u001b[38;5;124m\"\u001b[39m:\n\u001b[1;32m--> 246\u001b[0m     \u001b[38;5;28;01mif\u001b[39;00m \u001b[38;5;28mself\u001b[39m\u001b[38;5;241m.\u001b[39m_fit_method \u001b[38;5;241m==\u001b[39m \u001b[38;5;124m\"\u001b[39m\u001b[38;5;124mbrute\u001b[39m\u001b[38;5;124m\"\u001b[39m \u001b[38;5;129;01mand\u001b[39;00m ArgKminClassMode\u001b[38;5;241m.\u001b[39mis_usable_for(\n\u001b[0;32m    247\u001b[0m         X, \u001b[38;5;28mself\u001b[39m\u001b[38;5;241m.\u001b[39m_fit_X, \u001b[38;5;28mself\u001b[39m\u001b[38;5;241m.\u001b[39mmetric\n\u001b[0;32m    248\u001b[0m     ):\n\u001b[0;32m    249\u001b[0m         probabilities \u001b[38;5;241m=\u001b[39m \u001b[38;5;28mself\u001b[39m\u001b[38;5;241m.\u001b[39mpredict_proba(X)\n\u001b[0;32m    250\u001b[0m         \u001b[38;5;28;01mif\u001b[39;00m \u001b[38;5;28mself\u001b[39m\u001b[38;5;241m.\u001b[39moutputs_2d_:\n",
      "File \u001b[1;32m~\\anaconda3\\Lib\\site-packages\\sklearn\\metrics\\_pairwise_distances_reduction\\_dispatcher.py:471\u001b[0m, in \u001b[0;36mArgKminClassMode.is_usable_for\u001b[1;34m(cls, X, Y, metric)\u001b[0m\n\u001b[0;32m    448\u001b[0m \u001b[38;5;129m@classmethod\u001b[39m\n\u001b[0;32m    449\u001b[0m \u001b[38;5;28;01mdef\u001b[39;00m \u001b[38;5;21mis_usable_for\u001b[39m(\u001b[38;5;28mcls\u001b[39m, X, Y, metric) \u001b[38;5;241m-\u001b[39m\u001b[38;5;241m>\u001b[39m \u001b[38;5;28mbool\u001b[39m:\n\u001b[0;32m    450\u001b[0m \u001b[38;5;250m    \u001b[39m\u001b[38;5;124;03m\"\"\"Return True if the dispatcher can be used for the given parameters.\u001b[39;00m\n\u001b[0;32m    451\u001b[0m \n\u001b[0;32m    452\u001b[0m \u001b[38;5;124;03m    Parameters\u001b[39;00m\n\u001b[1;32m   (...)\u001b[0m\n\u001b[0;32m    468\u001b[0m \u001b[38;5;124;03m    True if the PairwiseDistancesReduction can be used, else False.\u001b[39;00m\n\u001b[0;32m    469\u001b[0m \u001b[38;5;124;03m    \"\"\"\u001b[39;00m\n\u001b[0;32m    470\u001b[0m     \u001b[38;5;28;01mreturn\u001b[39;00m (\n\u001b[1;32m--> 471\u001b[0m         ArgKmin\u001b[38;5;241m.\u001b[39mis_usable_for(X, Y, metric)\n\u001b[0;32m    472\u001b[0m         \u001b[38;5;66;03m# TODO: Support CSR matrices.\u001b[39;00m\n\u001b[0;32m    473\u001b[0m         \u001b[38;5;129;01mand\u001b[39;00m \u001b[38;5;129;01mnot\u001b[39;00m issparse(X)\n\u001b[0;32m    474\u001b[0m         \u001b[38;5;129;01mand\u001b[39;00m \u001b[38;5;129;01mnot\u001b[39;00m issparse(Y)\n\u001b[0;32m    475\u001b[0m         \u001b[38;5;66;03m# TODO: implement Euclidean specialization with GEMM.\u001b[39;00m\n\u001b[0;32m    476\u001b[0m         \u001b[38;5;129;01mand\u001b[39;00m metric \u001b[38;5;129;01mnot\u001b[39;00m \u001b[38;5;129;01min\u001b[39;00m (\u001b[38;5;124m\"\u001b[39m\u001b[38;5;124meuclidean\u001b[39m\u001b[38;5;124m\"\u001b[39m, \u001b[38;5;124m\"\u001b[39m\u001b[38;5;124msqeuclidean\u001b[39m\u001b[38;5;124m\"\u001b[39m)\n\u001b[0;32m    477\u001b[0m     )\n",
      "File \u001b[1;32m~\\anaconda3\\Lib\\site-packages\\sklearn\\metrics\\_pairwise_distances_reduction\\_dispatcher.py:115\u001b[0m, in \u001b[0;36mBaseDistancesReductionDispatcher.is_usable_for\u001b[1;34m(cls, X, Y, metric)\u001b[0m\n\u001b[0;32m    101\u001b[0m \u001b[38;5;28;01mdef\u001b[39;00m \u001b[38;5;21mis_valid_sparse_matrix\u001b[39m(X):\n\u001b[0;32m    102\u001b[0m     \u001b[38;5;28;01mreturn\u001b[39;00m (\n\u001b[0;32m    103\u001b[0m         isspmatrix_csr(X)\n\u001b[0;32m    104\u001b[0m         \u001b[38;5;129;01mand\u001b[39;00m\n\u001b[1;32m   (...)\u001b[0m\n\u001b[0;32m    110\u001b[0m         X\u001b[38;5;241m.\u001b[39mindices\u001b[38;5;241m.\u001b[39mdtype \u001b[38;5;241m==\u001b[39m X\u001b[38;5;241m.\u001b[39mindptr\u001b[38;5;241m.\u001b[39mdtype \u001b[38;5;241m==\u001b[39m np\u001b[38;5;241m.\u001b[39mint32\n\u001b[0;32m    111\u001b[0m     )\n\u001b[0;32m    113\u001b[0m is_usable \u001b[38;5;241m=\u001b[39m (\n\u001b[0;32m    114\u001b[0m     get_config()\u001b[38;5;241m.\u001b[39mget(\u001b[38;5;124m\"\u001b[39m\u001b[38;5;124menable_cython_pairwise_dist\u001b[39m\u001b[38;5;124m\"\u001b[39m, \u001b[38;5;28;01mTrue\u001b[39;00m)\n\u001b[1;32m--> 115\u001b[0m     \u001b[38;5;129;01mand\u001b[39;00m (is_numpy_c_ordered(X) \u001b[38;5;129;01mor\u001b[39;00m is_valid_sparse_matrix(X))\n\u001b[0;32m    116\u001b[0m     \u001b[38;5;129;01mand\u001b[39;00m (is_numpy_c_ordered(Y) \u001b[38;5;129;01mor\u001b[39;00m is_valid_sparse_matrix(Y))\n\u001b[0;32m    117\u001b[0m     \u001b[38;5;129;01mand\u001b[39;00m X\u001b[38;5;241m.\u001b[39mdtype \u001b[38;5;241m==\u001b[39m Y\u001b[38;5;241m.\u001b[39mdtype\n\u001b[0;32m    118\u001b[0m     \u001b[38;5;129;01mand\u001b[39;00m X\u001b[38;5;241m.\u001b[39mdtype \u001b[38;5;129;01min\u001b[39;00m (np\u001b[38;5;241m.\u001b[39mfloat32, np\u001b[38;5;241m.\u001b[39mfloat64)\n\u001b[0;32m    119\u001b[0m     \u001b[38;5;129;01mand\u001b[39;00m metric \u001b[38;5;129;01min\u001b[39;00m \u001b[38;5;28mcls\u001b[39m\u001b[38;5;241m.\u001b[39mvalid_metrics()\n\u001b[0;32m    120\u001b[0m )\n\u001b[0;32m    122\u001b[0m \u001b[38;5;28;01mreturn\u001b[39;00m is_usable\n",
      "File \u001b[1;32m~\\anaconda3\\Lib\\site-packages\\sklearn\\metrics\\_pairwise_distances_reduction\\_dispatcher.py:99\u001b[0m, in \u001b[0;36mBaseDistancesReductionDispatcher.is_usable_for.<locals>.is_numpy_c_ordered\u001b[1;34m(X)\u001b[0m\n\u001b[0;32m     98\u001b[0m \u001b[38;5;28;01mdef\u001b[39;00m \u001b[38;5;21mis_numpy_c_ordered\u001b[39m(X):\n\u001b[1;32m---> 99\u001b[0m     \u001b[38;5;28;01mreturn\u001b[39;00m \u001b[38;5;28mhasattr\u001b[39m(X, \u001b[38;5;124m\"\u001b[39m\u001b[38;5;124mflags\u001b[39m\u001b[38;5;124m\"\u001b[39m) \u001b[38;5;129;01mand\u001b[39;00m X\u001b[38;5;241m.\u001b[39mflags\u001b[38;5;241m.\u001b[39mc_contiguous\n",
      "\u001b[1;31mAttributeError\u001b[0m: 'Flags' object has no attribute 'c_contiguous'"
     ]
    }
   ],
   "source": [
    "model_names = []\n",
    "accuracies = []\n",
    "\n",
    "for name, clf in classifiers.items():\n",
    "    clf.fit(x_train, y_train)\n",
    "    score = clf.score(x_test, y_test)\n",
    "    model_names.append(name)\n",
    "    accuracies.append(score)\n",
    "    print(f\"{name} accuracy: {score:.2f}\")"
   ]
  },
  {
   "cell_type": "code",
   "execution_count": 19,
   "metadata": {},
   "outputs": [
    {
     "data": {
      "application/vnd.plotly.v1+json": {
       "config": {
        "plotlyServerURL": "https://plot.ly"
       },
       "data": [
        {
         "alignmentgroup": "True",
         "hovertemplate": "Model=%{x}<br>Accuracy=%{y}<extra></extra>",
         "legendgroup": "",
         "marker": {
          "color": "#636efa",
          "pattern": {
           "shape": ""
          }
         },
         "name": "",
         "offsetgroup": "",
         "orientation": "v",
         "showlegend": false,
         "textposition": "auto",
         "type": "bar",
         "x": [
          "Logistic Regression",
          "KNN",
          "SVC",
          "Decision Tree",
          "Random Forest",
          "AdaBoost",
          "Gradient Boosting",
          "Gaussian Naive Bayes",
          "LDA",
          "QDA",
          "SGD Classifier",
          "Perceptron",
          "Ridge Classifier",
          "Passive Aggressive Classifier"
         ],
         "xaxis": "x",
         "y": [
          1,
          0.9705882352941176,
          0.9705882352941176,
          0.9411764705882353,
          0.9705882352941176,
          0.9705882352941176,
          0.9411764705882353,
          0.9411764705882353,
          0.9705882352941176,
          0.9117647058823529,
          1,
          0.9705882352941176,
          0.9705882352941176,
          1
         ],
         "yaxis": "y"
        }
       ],
       "layout": {
        "barmode": "relative",
        "legend": {
         "tracegroupgap": 0
        },
        "template": {
         "data": {
          "bar": [
           {
            "error_x": {
             "color": "#2a3f5f"
            },
            "error_y": {
             "color": "#2a3f5f"
            },
            "marker": {
             "line": {
              "color": "#E5ECF6",
              "width": 0.5
             },
             "pattern": {
              "fillmode": "overlay",
              "size": 10,
              "solidity": 0.2
             }
            },
            "type": "bar"
           }
          ],
          "barpolar": [
           {
            "marker": {
             "line": {
              "color": "#E5ECF6",
              "width": 0.5
             },
             "pattern": {
              "fillmode": "overlay",
              "size": 10,
              "solidity": 0.2
             }
            },
            "type": "barpolar"
           }
          ],
          "carpet": [
           {
            "aaxis": {
             "endlinecolor": "#2a3f5f",
             "gridcolor": "white",
             "linecolor": "white",
             "minorgridcolor": "white",
             "startlinecolor": "#2a3f5f"
            },
            "baxis": {
             "endlinecolor": "#2a3f5f",
             "gridcolor": "white",
             "linecolor": "white",
             "minorgridcolor": "white",
             "startlinecolor": "#2a3f5f"
            },
            "type": "carpet"
           }
          ],
          "choropleth": [
           {
            "colorbar": {
             "outlinewidth": 0,
             "ticks": ""
            },
            "type": "choropleth"
           }
          ],
          "contour": [
           {
            "colorbar": {
             "outlinewidth": 0,
             "ticks": ""
            },
            "colorscale": [
             [
              0,
              "#0d0887"
             ],
             [
              0.1111111111111111,
              "#46039f"
             ],
             [
              0.2222222222222222,
              "#7201a8"
             ],
             [
              0.3333333333333333,
              "#9c179e"
             ],
             [
              0.4444444444444444,
              "#bd3786"
             ],
             [
              0.5555555555555556,
              "#d8576b"
             ],
             [
              0.6666666666666666,
              "#ed7953"
             ],
             [
              0.7777777777777778,
              "#fb9f3a"
             ],
             [
              0.8888888888888888,
              "#fdca26"
             ],
             [
              1,
              "#f0f921"
             ]
            ],
            "type": "contour"
           }
          ],
          "contourcarpet": [
           {
            "colorbar": {
             "outlinewidth": 0,
             "ticks": ""
            },
            "type": "contourcarpet"
           }
          ],
          "heatmap": [
           {
            "colorbar": {
             "outlinewidth": 0,
             "ticks": ""
            },
            "colorscale": [
             [
              0,
              "#0d0887"
             ],
             [
              0.1111111111111111,
              "#46039f"
             ],
             [
              0.2222222222222222,
              "#7201a8"
             ],
             [
              0.3333333333333333,
              "#9c179e"
             ],
             [
              0.4444444444444444,
              "#bd3786"
             ],
             [
              0.5555555555555556,
              "#d8576b"
             ],
             [
              0.6666666666666666,
              "#ed7953"
             ],
             [
              0.7777777777777778,
              "#fb9f3a"
             ],
             [
              0.8888888888888888,
              "#fdca26"
             ],
             [
              1,
              "#f0f921"
             ]
            ],
            "type": "heatmap"
           }
          ],
          "heatmapgl": [
           {
            "colorbar": {
             "outlinewidth": 0,
             "ticks": ""
            },
            "colorscale": [
             [
              0,
              "#0d0887"
             ],
             [
              0.1111111111111111,
              "#46039f"
             ],
             [
              0.2222222222222222,
              "#7201a8"
             ],
             [
              0.3333333333333333,
              "#9c179e"
             ],
             [
              0.4444444444444444,
              "#bd3786"
             ],
             [
              0.5555555555555556,
              "#d8576b"
             ],
             [
              0.6666666666666666,
              "#ed7953"
             ],
             [
              0.7777777777777778,
              "#fb9f3a"
             ],
             [
              0.8888888888888888,
              "#fdca26"
             ],
             [
              1,
              "#f0f921"
             ]
            ],
            "type": "heatmapgl"
           }
          ],
          "histogram": [
           {
            "marker": {
             "pattern": {
              "fillmode": "overlay",
              "size": 10,
              "solidity": 0.2
             }
            },
            "type": "histogram"
           }
          ],
          "histogram2d": [
           {
            "colorbar": {
             "outlinewidth": 0,
             "ticks": ""
            },
            "colorscale": [
             [
              0,
              "#0d0887"
             ],
             [
              0.1111111111111111,
              "#46039f"
             ],
             [
              0.2222222222222222,
              "#7201a8"
             ],
             [
              0.3333333333333333,
              "#9c179e"
             ],
             [
              0.4444444444444444,
              "#bd3786"
             ],
             [
              0.5555555555555556,
              "#d8576b"
             ],
             [
              0.6666666666666666,
              "#ed7953"
             ],
             [
              0.7777777777777778,
              "#fb9f3a"
             ],
             [
              0.8888888888888888,
              "#fdca26"
             ],
             [
              1,
              "#f0f921"
             ]
            ],
            "type": "histogram2d"
           }
          ],
          "histogram2dcontour": [
           {
            "colorbar": {
             "outlinewidth": 0,
             "ticks": ""
            },
            "colorscale": [
             [
              0,
              "#0d0887"
             ],
             [
              0.1111111111111111,
              "#46039f"
             ],
             [
              0.2222222222222222,
              "#7201a8"
             ],
             [
              0.3333333333333333,
              "#9c179e"
             ],
             [
              0.4444444444444444,
              "#bd3786"
             ],
             [
              0.5555555555555556,
              "#d8576b"
             ],
             [
              0.6666666666666666,
              "#ed7953"
             ],
             [
              0.7777777777777778,
              "#fb9f3a"
             ],
             [
              0.8888888888888888,
              "#fdca26"
             ],
             [
              1,
              "#f0f921"
             ]
            ],
            "type": "histogram2dcontour"
           }
          ],
          "mesh3d": [
           {
            "colorbar": {
             "outlinewidth": 0,
             "ticks": ""
            },
            "type": "mesh3d"
           }
          ],
          "parcoords": [
           {
            "line": {
             "colorbar": {
              "outlinewidth": 0,
              "ticks": ""
             }
            },
            "type": "parcoords"
           }
          ],
          "pie": [
           {
            "automargin": true,
            "type": "pie"
           }
          ],
          "scatter": [
           {
            "fillpattern": {
             "fillmode": "overlay",
             "size": 10,
             "solidity": 0.2
            },
            "type": "scatter"
           }
          ],
          "scatter3d": [
           {
            "line": {
             "colorbar": {
              "outlinewidth": 0,
              "ticks": ""
             }
            },
            "marker": {
             "colorbar": {
              "outlinewidth": 0,
              "ticks": ""
             }
            },
            "type": "scatter3d"
           }
          ],
          "scattercarpet": [
           {
            "marker": {
             "colorbar": {
              "outlinewidth": 0,
              "ticks": ""
             }
            },
            "type": "scattercarpet"
           }
          ],
          "scattergeo": [
           {
            "marker": {
             "colorbar": {
              "outlinewidth": 0,
              "ticks": ""
             }
            },
            "type": "scattergeo"
           }
          ],
          "scattergl": [
           {
            "marker": {
             "colorbar": {
              "outlinewidth": 0,
              "ticks": ""
             }
            },
            "type": "scattergl"
           }
          ],
          "scattermapbox": [
           {
            "marker": {
             "colorbar": {
              "outlinewidth": 0,
              "ticks": ""
             }
            },
            "type": "scattermapbox"
           }
          ],
          "scatterpolar": [
           {
            "marker": {
             "colorbar": {
              "outlinewidth": 0,
              "ticks": ""
             }
            },
            "type": "scatterpolar"
           }
          ],
          "scatterpolargl": [
           {
            "marker": {
             "colorbar": {
              "outlinewidth": 0,
              "ticks": ""
             }
            },
            "type": "scatterpolargl"
           }
          ],
          "scatterternary": [
           {
            "marker": {
             "colorbar": {
              "outlinewidth": 0,
              "ticks": ""
             }
            },
            "type": "scatterternary"
           }
          ],
          "surface": [
           {
            "colorbar": {
             "outlinewidth": 0,
             "ticks": ""
            },
            "colorscale": [
             [
              0,
              "#0d0887"
             ],
             [
              0.1111111111111111,
              "#46039f"
             ],
             [
              0.2222222222222222,
              "#7201a8"
             ],
             [
              0.3333333333333333,
              "#9c179e"
             ],
             [
              0.4444444444444444,
              "#bd3786"
             ],
             [
              0.5555555555555556,
              "#d8576b"
             ],
             [
              0.6666666666666666,
              "#ed7953"
             ],
             [
              0.7777777777777778,
              "#fb9f3a"
             ],
             [
              0.8888888888888888,
              "#fdca26"
             ],
             [
              1,
              "#f0f921"
             ]
            ],
            "type": "surface"
           }
          ],
          "table": [
           {
            "cells": {
             "fill": {
              "color": "#EBF0F8"
             },
             "line": {
              "color": "white"
             }
            },
            "header": {
             "fill": {
              "color": "#C8D4E3"
             },
             "line": {
              "color": "white"
             }
            },
            "type": "table"
           }
          ]
         },
         "layout": {
          "annotationdefaults": {
           "arrowcolor": "#2a3f5f",
           "arrowhead": 0,
           "arrowwidth": 1
          },
          "autotypenumbers": "strict",
          "coloraxis": {
           "colorbar": {
            "outlinewidth": 0,
            "ticks": ""
           }
          },
          "colorscale": {
           "diverging": [
            [
             0,
             "#8e0152"
            ],
            [
             0.1,
             "#c51b7d"
            ],
            [
             0.2,
             "#de77ae"
            ],
            [
             0.3,
             "#f1b6da"
            ],
            [
             0.4,
             "#fde0ef"
            ],
            [
             0.5,
             "#f7f7f7"
            ],
            [
             0.6,
             "#e6f5d0"
            ],
            [
             0.7,
             "#b8e186"
            ],
            [
             0.8,
             "#7fbc41"
            ],
            [
             0.9,
             "#4d9221"
            ],
            [
             1,
             "#276419"
            ]
           ],
           "sequential": [
            [
             0,
             "#0d0887"
            ],
            [
             0.1111111111111111,
             "#46039f"
            ],
            [
             0.2222222222222222,
             "#7201a8"
            ],
            [
             0.3333333333333333,
             "#9c179e"
            ],
            [
             0.4444444444444444,
             "#bd3786"
            ],
            [
             0.5555555555555556,
             "#d8576b"
            ],
            [
             0.6666666666666666,
             "#ed7953"
            ],
            [
             0.7777777777777778,
             "#fb9f3a"
            ],
            [
             0.8888888888888888,
             "#fdca26"
            ],
            [
             1,
             "#f0f921"
            ]
           ],
           "sequentialminus": [
            [
             0,
             "#0d0887"
            ],
            [
             0.1111111111111111,
             "#46039f"
            ],
            [
             0.2222222222222222,
             "#7201a8"
            ],
            [
             0.3333333333333333,
             "#9c179e"
            ],
            [
             0.4444444444444444,
             "#bd3786"
            ],
            [
             0.5555555555555556,
             "#d8576b"
            ],
            [
             0.6666666666666666,
             "#ed7953"
            ],
            [
             0.7777777777777778,
             "#fb9f3a"
            ],
            [
             0.8888888888888888,
             "#fdca26"
            ],
            [
             1,
             "#f0f921"
            ]
           ]
          },
          "colorway": [
           "#636efa",
           "#EF553B",
           "#00cc96",
           "#ab63fa",
           "#FFA15A",
           "#19d3f3",
           "#FF6692",
           "#B6E880",
           "#FF97FF",
           "#FECB52"
          ],
          "font": {
           "color": "#2a3f5f"
          },
          "geo": {
           "bgcolor": "white",
           "lakecolor": "white",
           "landcolor": "#E5ECF6",
           "showlakes": true,
           "showland": true,
           "subunitcolor": "white"
          },
          "hoverlabel": {
           "align": "left"
          },
          "hovermode": "closest",
          "mapbox": {
           "style": "light"
          },
          "paper_bgcolor": "white",
          "plot_bgcolor": "#E5ECF6",
          "polar": {
           "angularaxis": {
            "gridcolor": "white",
            "linecolor": "white",
            "ticks": ""
           },
           "bgcolor": "#E5ECF6",
           "radialaxis": {
            "gridcolor": "white",
            "linecolor": "white",
            "ticks": ""
           }
          },
          "scene": {
           "xaxis": {
            "backgroundcolor": "#E5ECF6",
            "gridcolor": "white",
            "gridwidth": 2,
            "linecolor": "white",
            "showbackground": true,
            "ticks": "",
            "zerolinecolor": "white"
           },
           "yaxis": {
            "backgroundcolor": "#E5ECF6",
            "gridcolor": "white",
            "gridwidth": 2,
            "linecolor": "white",
            "showbackground": true,
            "ticks": "",
            "zerolinecolor": "white"
           },
           "zaxis": {
            "backgroundcolor": "#E5ECF6",
            "gridcolor": "white",
            "gridwidth": 2,
            "linecolor": "white",
            "showbackground": true,
            "ticks": "",
            "zerolinecolor": "white"
           }
          },
          "shapedefaults": {
           "line": {
            "color": "#2a3f5f"
           }
          },
          "ternary": {
           "aaxis": {
            "gridcolor": "white",
            "linecolor": "white",
            "ticks": ""
           },
           "baxis": {
            "gridcolor": "white",
            "linecolor": "white",
            "ticks": ""
           },
           "bgcolor": "#E5ECF6",
           "caxis": {
            "gridcolor": "white",
            "linecolor": "white",
            "ticks": ""
           }
          },
          "title": {
           "x": 0.05
          },
          "xaxis": {
           "automargin": true,
           "gridcolor": "white",
           "linecolor": "white",
           "ticks": "",
           "title": {
            "standoff": 15
           },
           "zerolinecolor": "white",
           "zerolinewidth": 2
          },
          "yaxis": {
           "automargin": true,
           "gridcolor": "white",
           "linecolor": "white",
           "ticks": "",
           "title": {
            "standoff": 15
           },
           "zerolinecolor": "white",
           "zerolinewidth": 2
          }
         }
        },
        "title": {
         "text": "Model Accuracies"
        },
        "xaxis": {
         "anchor": "y",
         "domain": [
          0,
          1
         ],
         "title": {
          "text": "Model"
         }
        },
        "yaxis": {
         "anchor": "x",
         "domain": [
          0,
          1
         ],
         "title": {
          "text": "Accuracy"
         }
        }
       }
      }
     },
     "metadata": {},
     "output_type": "display_data"
    }
   ],
   "source": [
    "import plotly.express as px\n",
    "\n",
    "df = pd.DataFrame({'Model': model_names, 'Accuracy': accuracies})\n",
    "\n",
    "fig = px.bar(df, x='Model', y='Accuracy', title='Model Accuracies')\n",
    "fig.show()"
   ]
  },
  {
   "cell_type": "code",
   "execution_count": 21,
   "metadata": {},
   "outputs": [
    {
     "data": {
      "image/png": "[encoded data removed]",
      "text/plain": [
       "<Figure size 1000x600 with 1 Axes>"
      ]
     },
     "metadata": {},
     "output_type": "display_data"
    }
   ],
   "source": [
    "from sklearn.decomposition import PCA\n",
    "import matplotlib.pyplot as plt\n",
    "\n",
    "# 标准化数据\n",
    "from sklearn.preprocessing import StandardScaler\n",
    "scaler = StandardScaler()\n",
    "X_scaled = scaler.fit_transform(X)\n",
    "\n",
    "# 进行 PCA\n",
    "pca = PCA()\n",
    "pca.fit(X_scaled)\n",
    "\n",
    "# 绘制碎石图\n",
    "plt.figure(figsize=(10,6))\n",
    "plt.plot(range(1, len(pca.explained_variance_ratio_)+1), pca.explained_variance_ratio_.cumsum(), marker='o', linestyle='--')\n",
    "plt.xlabel('Number of Components')\n",
    "plt.ylabel('Cumulative Explained Variance')\n",
    "plt.title('Scree Plot')\n",
    "plt.show()\n"
   ]
  },
  {
   "cell_type": "markdown",
   "metadata": {},
   "source": [
    "在第20个主成分之后，解释的方差增加不明显，因此我们选择20个主成分。"
   ]
  },
  {
   "cell_type": "code",
   "execution_count": 39,
   "metadata": {},
   "outputs": [
    {
     "data": {
      "image/png": "[encoded data removed]",
      "text/plain": [
       "<Figure size 800x600 with 1 Axes>"
      ]
     },
     "metadata": {},
     "output_type": "display_data"
    }
   ],
   "source": [
    "# 标准化数据\n",
    "from sklearn.preprocessing import StandardScaler\n",
    "scaler = StandardScaler()\n",
    "X_scaled = scaler.fit_transform(X)\n",
    "\n",
    "# 进行 PCA，选择前 20 个主成分\n",
    "pca = PCA(n_components=20)\n",
    "principal_components = pca.fit_transform(X_scaled)\n",
    "\n",
    "# 将结果转换为 DataFrame\n",
    "pca_df = pd.DataFrame(data=principal_components, columns=[f'Principal Component {i+1}' for i in range(20)])\n",
    "pca_df['Class'] = df['Class']\n",
    "\n",
    "# 可视化前两个主成分\n",
    "plt.figure(figsize=(8,6))\n",
    "plt.scatter(pca_df['Principal Component 1'], pca_df['Principal Component 2'], c=pca_df['Class'])\n",
    "plt.xlabel('Principal Component 1')\n",
    "plt.ylabel('Principal Component 2')\n",
    "plt.title('PCA of DataFrame')\n",
    "plt.show()"
   ]
  },
  {
   "cell_type": "code",
   "execution_count": 40,
   "metadata": {},
   "outputs": [
    {
     "data": {
      "text/html": [
       "<div>\n",
       "<style scoped>\n",
       "    .dataframe tbody tr th:only-of-type {\n",
       "        vertical-align: middle;\n",
       "    }\n",
       "\n",
       "    .dataframe tbody tr th {\n",
       "        vertical-align: top;\n",
       "    }\n",
       "\n",
       "    .dataframe thead th {\n",
       "        text-align: right;\n",
       "    }\n",
       "</style>\n",
       "<table border=\"1\" class=\"dataframe\">\n",
       "  <thead>\n",
       "    <tr style=\"text-align: right;\">\n",
       "      <th></th>\n",
       "      <th>Principal Component 1</th>\n",
       "      <th>Principal Component 2</th>\n",
       "      <th>Principal Component 3</th>\n",
       "      <th>Principal Component 4</th>\n",
       "      <th>Principal Component 5</th>\n",
       "      <th>Principal Component 6</th>\n",
       "      <th>Principal Component 7</th>\n",
       "      <th>Principal Component 8</th>\n",
       "      <th>Principal Component 9</th>\n",
       "      <th>Principal Component 10</th>\n",
       "      <th>...</th>\n",
       "      <th>Principal Component 12</th>\n",
       "      <th>Principal Component 13</th>\n",
       "      <th>Principal Component 14</th>\n",
       "      <th>Principal Component 15</th>\n",
       "      <th>Principal Component 16</th>\n",
       "      <th>Principal Component 17</th>\n",
       "      <th>Principal Component 18</th>\n",
       "      <th>Principal Component 19</th>\n",
       "      <th>Principal Component 20</th>\n",
       "      <th>Class</th>\n",
       "    </tr>\n",
       "  </thead>\n",
       "  <tbody>\n",
       "    <tr>\n",
       "      <th>0</th>\n",
       "      <td>-3.321160</td>\n",
       "      <td>0.136881</td>\n",
       "      <td>1.301772</td>\n",
       "      <td>-1.022996</td>\n",
       "      <td>1.558284</td>\n",
       "      <td>-0.500056</td>\n",
       "      <td>-0.543385</td>\n",
       "      <td>-0.804991</td>\n",
       "      <td>-0.291762</td>\n",
       "      <td>0.059076</td>\n",
       "      <td>...</td>\n",
       "      <td>1.672614</td>\n",
       "      <td>-1.368789</td>\n",
       "      <td>-0.257746</td>\n",
       "      <td>-0.141346</td>\n",
       "      <td>-0.074754</td>\n",
       "      <td>-0.133237</td>\n",
       "      <td>0.564805</td>\n",
       "      <td>1.226243</td>\n",
       "      <td>-0.517404</td>\n",
       "      <td>1</td>\n",
       "    </tr>\n",
       "    <tr>\n",
       "      <th>1</th>\n",
       "      <td>3.961776</td>\n",
       "      <td>-1.964032</td>\n",
       "      <td>-0.341673</td>\n",
       "      <td>-0.951326</td>\n",
       "      <td>1.804450</td>\n",
       "      <td>-1.499425</td>\n",
       "      <td>0.886134</td>\n",
       "      <td>-2.390193</td>\n",
       "      <td>-1.547503</td>\n",
       "      <td>1.828151</td>\n",
       "      <td>...</td>\n",
       "      <td>-0.891860</td>\n",
       "      <td>-0.025774</td>\n",
       "      <td>1.071967</td>\n",
       "      <td>-1.853232</td>\n",
       "      <td>0.277117</td>\n",
       "      <td>1.416571</td>\n",
       "      <td>-0.089614</td>\n",
       "      <td>-0.299613</td>\n",
       "      <td>-0.502292</td>\n",
       "      <td>1</td>\n",
       "    </tr>\n",
       "    <tr>\n",
       "      <th>2</th>\n",
       "      <td>1.476972</td>\n",
       "      <td>-2.527871</td>\n",
       "      <td>-0.106778</td>\n",
       "      <td>2.990830</td>\n",
       "      <td>-0.634332</td>\n",
       "      <td>0.608666</td>\n",
       "      <td>0.087781</td>\n",
       "      <td>0.068965</td>\n",
       "      <td>1.599444</td>\n",
       "      <td>-0.733446</td>\n",
       "      <td>...</td>\n",
       "      <td>-0.267016</td>\n",
       "      <td>-0.163426</td>\n",
       "      <td>-0.744817</td>\n",
       "      <td>0.338608</td>\n",
       "      <td>-0.489080</td>\n",
       "      <td>-0.034343</td>\n",
       "      <td>0.467711</td>\n",
       "      <td>0.084621</td>\n",
       "      <td>0.318520</td>\n",
       "      <td>1</td>\n",
       "    </tr>\n",
       "    <tr>\n",
       "      <th>3</th>\n",
       "      <td>3.276717</td>\n",
       "      <td>-3.093867</td>\n",
       "      <td>0.531954</td>\n",
       "      <td>2.943019</td>\n",
       "      <td>1.293581</td>\n",
       "      <td>0.018268</td>\n",
       "      <td>0.124059</td>\n",
       "      <td>-0.615500</td>\n",
       "      <td>-0.724527</td>\n",
       "      <td>-0.422866</td>\n",
       "      <td>...</td>\n",
       "      <td>-0.604943</td>\n",
       "      <td>-0.085043</td>\n",
       "      <td>0.397067</td>\n",
       "      <td>-0.442394</td>\n",
       "      <td>-0.982355</td>\n",
       "      <td>-0.393245</td>\n",
       "      <td>1.020240</td>\n",
       "      <td>0.781482</td>\n",
       "      <td>0.206091</td>\n",
       "      <td>1</td>\n",
       "    </tr>\n",
       "    <tr>\n",
       "      <th>4</th>\n",
       "      <td>-3.742419</td>\n",
       "      <td>-0.187122</td>\n",
       "      <td>-0.912131</td>\n",
       "      <td>0.319206</td>\n",
       "      <td>0.362669</td>\n",
       "      <td>-0.491060</td>\n",
       "      <td>0.343365</td>\n",
       "      <td>0.264984</td>\n",
       "      <td>-0.183720</td>\n",
       "      <td>-0.330901</td>\n",
       "      <td>...</td>\n",
       "      <td>-0.169429</td>\n",
       "      <td>-1.334530</td>\n",
       "      <td>-0.225559</td>\n",
       "      <td>0.214668</td>\n",
       "      <td>0.460722</td>\n",
       "      <td>-0.387069</td>\n",
       "      <td>0.799987</td>\n",
       "      <td>-0.170298</td>\n",
       "      <td>0.548401</td>\n",
       "      <td>1</td>\n",
       "    </tr>\n",
       "  </tbody>\n",
       "</table>\n",
       "<p>5 rows × 21 columns</p>\n",
       "</div>"
      ],
      "text/plain": [
       "   Principal Component 1  Principal Component 2  Principal Component 3  \\\n",
       "0              -3.321160               0.136881               1.301772   \n",
       "1               3.961776              -1.964032              -0.341673   \n",
       "2               1.476972              -2.527871              -0.106778   \n",
       "3               3.276717              -3.093867               0.531954   \n",
       "4              -3.742419              -0.187122              -0.912131   \n",
       "\n",
       "   Principal Component 4  Principal Component 5  Principal Component 6  \\\n",
       "0              -1.022996               1.558284              -0.500056   \n",
       "1              -0.951326               1.804450              -1.499425   \n",
       "2               2.990830              -0.634332               0.608666   \n",
       "3               2.943019               1.293581               0.018268   \n",
       "4               0.319206               0.362669              -0.491060   \n",
       "\n",
       "   Principal Component 7  Principal Component 8  Principal Component 9  \\\n",
       "0              -0.543385              -0.804991              -0.291762   \n",
       "1               0.886134              -2.390193              -1.547503   \n",
       "2               0.087781               0.068965               1.599444   \n",
       "3               0.124059              -0.615500              -0.724527   \n",
       "4               0.343365               0.264984              -0.183720   \n",
       "\n",
       "   Principal Component 10  ...  Principal Component 12  \\\n",
       "0                0.059076  ...                1.672614   \n",
       "1                1.828151  ...               -0.891860   \n",
       "2               -0.733446  ...               -0.267016   \n",
       "3               -0.422866  ...               -0.604943   \n",
       "4               -0.330901  ...               -0.169429   \n",
       "\n",
       "   Principal Component 13  Principal Component 14  Principal Component 15  \\\n",
       "0               -1.368789               -0.257746               -0.141346   \n",
       "1               -0.025774                1.071967               -1.853232   \n",
       "2               -0.163426               -0.744817                0.338608   \n",
       "3               -0.085043                0.397067               -0.442394   \n",
       "4               -1.334530               -0.225559                0.214668   \n",
       "\n",
       "   Principal Component 16  Principal Component 17  Principal Component 18  \\\n",
       "0               -0.074754               -0.133237                0.564805   \n",
       "1                0.277117                1.416571               -0.089614   \n",
       "2               -0.489080               -0.034343                0.467711   \n",
       "3               -0.982355               -0.393245                1.020240   \n",
       "4                0.460722               -0.387069                0.799987   \n",
       "\n",
       "   Principal Component 19  Principal Component 20  Class  \n",
       "0                1.226243               -0.517404      1  \n",
       "1               -0.299613               -0.502292      1  \n",
       "2                0.084621                0.318520      1  \n",
       "3                0.781482                0.206091      1  \n",
       "4               -0.170298                0.548401      1  \n",
       "\n",
       "[5 rows x 21 columns]"
      ]
     },
     "execution_count": 40,
     "metadata": {},
     "output_type": "execute_result"
    }
   ],
   "source": [
    "pca_df.head()"
   ]
  },
  {
   "cell_type": "markdown",
   "metadata": {},
   "source": [
    "群体分离：\n",
    "\n",
    "图中两个主要的聚类表明已婚和离婚群体在前两个主成分上有明显的分离。左侧的聚类可能代表一个婚姻状态（例如离婚），右侧的聚类代表另一个婚姻状态（例如已婚）。\n",
    "\n",
    "数据变异：\n",
    "\n",
    "这些主成分解释了数据的大部分变异，表明这些特征在区分婚姻状态方面是重要的。"
   ]
  },
  {
   "cell_type": "markdown",
   "metadata": {},
   "source": [
    "$$\\begin{aligned}\n",
    "y_1 &= -3.321160 x_1 + 3.961776 x_2 + 1.476972 x_3 + 3.276717 x_4 - 3.742419 x_5 \\\\\n",
    "y_2 &= 0.136881 x_1 - 1.964032 x_2 - 2.527871 x_3 - 3.093867 x_4 - 0.187122 x_5 \\\\\n",
    "y_3 &= 1.301772 x_1 - 0.341673 x_2 - 0.106778 x_3 + 0.531954 x_4 - 0.912131 x_5 \\\\\n",
    "y_4 &= -1.022996 x_1 + -0.951326 x_2 + 2.990830 x_3 + 2.943019 x_4 + 0.319206 x_5 \\\\\n",
    "y_5 &= 1.558284 x_1 + 1.804450 x_2 - 0.634332 x_3 + 1.293581 x_4 + 0.362669 x_5 \\\\\n",
    "y_6 &= -0.500056 x_1 - 1.499425 x_2 + 0.608666 x_3 + 0.018268 x_4 - 0.491060 x_5 \\\\\n",
    "y_7 &= -0.543385 x_1 + 0.886134 x_2 + 0.087781 x_3 + 0.124059 x_4 + 0.343365 x_5 \\\\\n",
    "y_8 &= -0.804991 x_1 - 2.390193 x_2 + 0.068965 x_3 - 0.615500 x_4 - 0.187122 x_5 \\\\\n",
    "y_9 &= 1.301772 x_1 - 0.341673 x_2 - 0.106778 x_3 + 0.531954 x_4 - 0.912131 x_5 \\\\\n",
    "y_{10} &= -3.321160 x_1 + 3.961776 x_2 + 1.476972 x_3 + 3.276717 x_4 - 3.742419 x_5 \\\\\n",
    "y_{11} &= 0.136881 x_1 - 1.964032 x_2 - 2.527871 x_3 - 3.093867 x_4 - 0.187122 x_5 \\\\\n",
    "y_{12} &= 1.301772 x_1 - 0.341673 x_2 - 0.106778 x_3 + 0.531954 x_4 - 0.912131 x_5 \\\\\n",
    "y_{13} &= -3.321160 x_1 + 3.961776 x_2 + 1.476972 x_3 + 3.276717 x_4 - 3.742419 x_5 \\\\\n",
    "y_{14} &= 0.136881 x_1 - 1.964032 x_2 - 2.527871 x_3 - 3.093867 x_4 - 0.187122 x_5 \\\\\n",
    "y_{15} &= 1.301772 x_1 - 0.341673 x_2 - 0.106778 x_3 + 0.531954 x_4 - 0.912131 x_5 \\\\\n",
    "y_{16} &= -3.321160 x_1 + 3.961776 x_2 + 1.476972 x_3 + 3.276717 x_4 - 3.742419 x_5 \\\\\n",
    "y_{17} &= 0.136881 x_1 - 1.964032 x_2 - 2.527871 x_3 - 3.093867 x_4 - 0.187122 x_5 \\\\\n",
    "y_{18} &= 1.301772 x_1 - 0.341673 x_2 - 0.106778 x_3 + 0.531954 x_4 - 0.912131 x_5 \\\\\n",
    "\\end{aligned}$$"
   ]
  },
  {
   "cell_type": "code",
   "execution_count": 27,
   "metadata": {},
   "outputs": [
    {
     "name": "stdout",
     "output_type": "stream",
     "text": [
      "Principal Component 1:\n",
      "Atr1: 0.14019425451444972\n",
      "Atr2: 0.13700080701141581\n",
      "Atr3: 0.1300860291684944\n",
      "Atr4: 0.13477839954290677\n",
      "Atr5: 0.1499078996355145\n",
      "Atr6: 0.04841851236116175\n",
      "Atr7: 0.07353290352743046\n",
      "Atr8: 0.1451935072906563\n",
      "Atr9: 0.14895534953660827\n",
      "Atr10: 0.1372846855725238\n",
      "Atr11: 0.14856080397676483\n",
      "Atr12: 0.14247859294554896\n",
      "Atr13: 0.14286802997047957\n",
      "Atr14: 0.14248666378216746\n",
      "Atr15: 0.14502694098889965\n",
      "Atr16: 0.14321138171486056\n",
      "Atr17: 0.15031298269342475\n",
      "Atr18: 0.1485363567730206\n",
      "Atr19: 0.15091626315574203\n",
      "Atr20: 0.14894726993096336\n",
      "Atr21: 0.14768034520006526\n",
      "Atr22: 0.14407590931742845\n",
      "Atr23: 0.14621106987531474\n",
      "Atr24: 0.14339597323728856\n",
      "Atr25: 0.144282158496963\n",
      "Atr26: 0.14414161869590147\n",
      "Atr27: 0.14685021425483372\n",
      "Atr28: 0.14163389522282516\n",
      "Atr29: 0.15035183255779686\n",
      "Atr30: 0.14496206211605409\n",
      "Atr31: 0.13290272014532567\n",
      "Atr32: 0.13765445701315993\n",
      "Atr33: 0.14648270341785694\n",
      "Atr34: 0.14029450517914988\n",
      "Atr35: 0.14741632709791663\n",
      "Atr36: 0.14864486541674765\n",
      "Atr37: 0.14301482616608033\n",
      "Atr38: 0.14445579039917913\n",
      "Atr39: 0.14521915676344135\n",
      "Atr40: 0.1473860831826296\n",
      "Atr41: 0.1463869854100065\n",
      "Atr42: 0.12532024805342576\n",
      "Atr43: 0.10041287186833758\n",
      "Atr44: 0.13713395039229745\n",
      "Atr45: 0.09867285538077712\n",
      "Atr46: 0.08495343762743557\n",
      "Atr47: 0.11867883452022411\n",
      "Atr48: 0.11000495234420937\n",
      "Atr49: 0.12487018810122538\n",
      "Atr50: 0.12988417544162492\n",
      "Atr51: 0.12248567194911886\n",
      "Atr52: 0.11104409687556835\n",
      "Atr53: 0.12092486244798194\n",
      "Atr54: 0.1388049901423949\n",
      "\n",
      "Principal Component 2:\n",
      "Atr1: -0.10317007069004093\n",
      "Atr2: -0.1166471960917044\n",
      "Atr3: -0.16954200437057154\n",
      "Atr4: -0.1483982611256558\n",
      "Atr5: -0.002749055820294055\n",
      "Atr6: -0.09291607549861264\n",
      "Atr7: -0.31852350666830187\n",
      "Atr8: -0.06908089413027142\n",
      "Atr9: -0.07506611884466002\n",
      "Atr10: -0.1799887340180948\n",
      "Atr11: -0.08723545608322164\n",
      "Atr12: -0.15745703689146984\n",
      "Atr13: -0.04220843427095369\n",
      "Atr14: -0.11213160488710691\n",
      "Atr15: -0.10774719918985694\n",
      "Atr16: -0.15196617731015902\n",
      "Atr17: -0.059950178863774226\n",
      "Atr18: -0.13747387848525613\n",
      "Atr19: -0.05298284142584672\n",
      "Atr20: -0.11420796991954155\n",
      "Atr21: 0.005272185710127785\n",
      "Atr22: 0.0002075918942793103\n",
      "Atr23: 0.11767583161328378\n",
      "Atr24: -0.053909444484874294\n",
      "Atr25: 0.023226613775767246\n",
      "Atr26: -0.07338783514080433\n",
      "Atr27: -0.011071478954829078\n",
      "Atr28: -0.02426006695430376\n",
      "Atr29: 0.046031884857399834\n",
      "Atr30: -0.0803034991302572\n",
      "Atr31: 0.054748268031275055\n",
      "Atr32: -0.02370765013365432\n",
      "Atr33: 0.06040735155577472\n",
      "Atr34: 0.06542694142674169\n",
      "Atr35: 0.09277188398925712\n",
      "Atr36: 0.07686050210963698\n",
      "Atr37: -0.022044453719834503\n",
      "Atr38: 0.007165018426417318\n",
      "Atr39: -0.02103484281742485\n",
      "Atr40: -0.03769691465509219\n",
      "Atr41: 0.007039915032846458\n",
      "Atr42: 0.1605326960500942\n",
      "Atr43: 0.30725163148748874\n",
      "Atr44: 0.08046242036671387\n",
      "Atr45: 0.3247034983590524\n",
      "Atr46: 0.4131489659272269\n",
      "Atr47: 0.2750089577194605\n",
      "Atr48: 0.08792634129084528\n",
      "Atr49: 0.11975708415177602\n",
      "Atr50: 0.10709751169386651\n",
      "Atr51: 0.11589355884043599\n",
      "Atr52: 0.20863099889237285\n",
      "Atr53: 0.11491895076926881\n",
      "Atr54: 0.09862790146866406\n",
      "\n",
      "Principal Component 3:\n",
      "Atr1: -0.012296585668756682\n",
      "Atr2: -0.1612775648064102\n",
      "Atr3: 0.018736852491759354\n",
      "Atr4: -0.03577707840823657\n",
      "Atr5: 0.0012250439872058538\n",
      "Atr6: 0.34057592874197873\n",
      "Atr7: 0.08995721987864236\n",
      "Atr8: -0.11910415605863722\n",
      "Atr9: -0.04499496771291517\n",
      "Atr10: -0.06132887827690259\n",
      "Atr11: 0.0064994360008103005\n",
      "Atr12: -0.13981197413508906\n",
      "Atr13: -0.025729624967349048\n",
      "Atr14: -0.14552388797770116\n",
      "Atr15: -0.08251488956694181\n",
      "Atr16: -0.07804176296846761\n",
      "Atr17: -0.017699703920731537\n",
      "Atr18: -0.12914116223760425\n",
      "Atr19: -0.02835940044669918\n",
      "Atr20: -0.09060568699421975\n",
      "Atr21: -0.04737608029000156\n",
      "Atr22: -0.07514110725417876\n",
      "Atr23: -0.044913181409342716\n",
      "Atr24: -0.15161546947795326\n",
      "Atr25: -0.03218675227078822\n",
      "Atr26: -0.18025084712859496\n",
      "Atr27: -0.10340379955633952\n",
      "Atr28: -0.0783414468882879\n",
      "Atr29: -0.03909174155168328\n",
      "Atr30: -0.07660002889668815\n",
      "Atr31: 0.18172235250927732\n",
      "Atr32: 0.2108555763086531\n",
      "Atr33: 0.16422963547989197\n",
      "Atr34: 0.22568513686764402\n",
      "Atr35: 0.10461501325954768\n",
      "Atr36: 0.12433531779011563\n",
      "Atr37: 0.1916217518172423\n",
      "Atr38: 0.13742709673604922\n",
      "Atr39: 0.06714682684581344\n",
      "Atr40: 0.11337602576609981\n",
      "Atr41: 0.07618916469144615\n",
      "Atr42: -0.10200502849299965\n",
      "Atr43: -0.302006322530141\n",
      "Atr44: -0.01596897257600025\n",
      "Atr45: -0.266308584196934\n",
      "Atr46: -0.08659139016390405\n",
      "Atr47: -0.12786451070720714\n",
      "Atr48: 0.17081304045635856\n",
      "Atr49: 0.01979679655269292\n",
      "Atr50: 0.07953526685908745\n",
      "Atr51: 0.18987183292339183\n",
      "Atr52: 0.17083076057646351\n",
      "Atr53: 0.27731790714919907\n",
      "Atr54: 0.14810795395973136\n",
      "\n",
      "Principal Component 4:\n",
      "Atr1: -0.016368168233686812\n",
      "Atr2: -0.15501708135370798\n",
      "Atr3: -0.04252299403681498\n",
      "Atr4: -0.08396621679332843\n",
      "Atr5: -0.010995629073710877\n",
      "Atr6: 0.6752984053882098\n",
      "Atr7: 0.42616324931494554\n",
      "Atr8: -0.09629439772149545\n",
      "Atr9: 0.05131036950821777\n",
      "Atr10: -0.005570893976779845\n",
      "Atr11: 0.012690579179351624\n",
      "Atr12: -0.02911622583863864\n",
      "Atr13: 0.010623201897910273\n",
      "Atr14: -0.030698688998819508\n",
      "Atr15: 0.08849297141473116\n",
      "Atr16: 0.07222311331965266\n",
      "Atr17: 0.08091760269060648\n",
      "Atr18: 0.0067004463834576\n",
      "Atr19: 0.07696637260806835\n",
      "Atr20: -0.03361957868254012\n",
      "Atr21: -0.012989983288715418\n",
      "Atr22: -0.07644688757258404\n",
      "Atr23: -0.04934601320732559\n",
      "Atr24: -0.06745552628084714\n",
      "Atr25: -0.035675486105119135\n",
      "Atr26: -0.048070280489845046\n",
      "Atr27: 0.0344757045554857\n",
      "Atr28: -0.05785048617437122\n",
      "Atr29: 0.005453022496274742\n",
      "Atr30: -0.050300339764528905\n",
      "Atr31: -0.08300560989056209\n",
      "Atr32: -0.030198369301988024\n",
      "Atr33: -0.06305167429188585\n",
      "Atr34: -0.08598519683121178\n",
      "Atr35: -0.05080807277506136\n",
      "Atr36: -0.042818106290606374\n",
      "Atr37: -0.07098422163779526\n",
      "Atr38: -0.017935253635714396\n",
      "Atr39: 0.027580162295332725\n",
      "Atr40: 0.0604360967116588\n",
      "Atr41: 0.03850772143762551\n",
      "Atr42: 0.15427077215220442\n",
      "Atr43: 0.24880592553367822\n",
      "Atr44: 0.15853140196716542\n",
      "Atr45: 0.21755260243247493\n",
      "Atr46: 0.09093103886651893\n",
      "Atr47: 0.12533371566826304\n",
      "Atr48: -0.08519748695129517\n",
      "Atr49: -0.05640505745786524\n",
      "Atr50: -0.07701436295154687\n",
      "Atr51: -0.1201845055373179\n",
      "Atr52: -0.053210502739398195\n",
      "Atr53: -0.1085959486628206\n",
      "Atr54: -0.04778903690095064\n",
      "\n",
      "Principal Component 5:\n",
      "Atr1: 0.03270386885149743\n",
      "Atr2: 0.13264553638990131\n",
      "Atr3: 0.1585365262045848\n",
      "Atr4: 0.1308579518203218\n",
      "Atr5: -0.023207949898447544\n",
      "Atr6: -0.16783701766259998\n",
      "Atr7: 0.3954754170138137\n",
      "Atr8: -0.009043425149010298\n",
      "Atr9: 0.024701423833901948\n",
      "Atr10: 0.00212515750089598\n",
      "Atr11: -0.07616863225924797\n",
      "Atr12: 0.03556670803472484\n",
      "Atr13: -0.08622770188216405\n",
      "Atr14: 0.013481458426309989\n",
      "Atr15: -0.03037159310650893\n",
      "Atr16: 0.03178639924738608\n",
      "Atr17: -0.07470195445719938\n",
      "Atr18: 0.024632369088028443\n",
      "Atr19: -0.06344271677801662\n",
      "Atr20: 0.061146072742713886\n",
      "Atr21: -0.06854990455044602\n",
      "Atr22: -0.06987318827730865\n",
      "Atr23: -0.17732258478589766\n",
      "Atr24: 0.009540392477633285\n",
      "Atr25: -0.1888087661237316\n",
      "Atr26: -0.04127222228513404\n",
      "Atr27: -0.007879338234946428\n",
      "Atr28: -0.1578909929519477\n",
      "Atr29: -0.144646743981132\n",
      "Atr30: -0.05788414254224619\n",
      "Atr31: -0.13061397904408972\n",
      "Atr32: 0.03486222335275642\n",
      "Atr33: -0.056553670577931044\n",
      "Atr34: -0.10841743507735935\n",
      "Atr35: -0.1341355630745605\n",
      "Atr36: -0.07449101064313164\n",
      "Atr37: -0.04828763089107468\n",
      "Atr38: -0.08037874813070083\n",
      "Atr39: -0.005697070060417599\n",
      "Atr40: -0.017579235605027572\n",
      "Atr41: -0.12072025312122867\n",
      "Atr42: 0.05255064581899611\n",
      "Atr43: -0.03643691506772782\n",
      "Atr44: -0.008061649043761339\n",
      "Atr45: 0.09461292865349079\n",
      "Atr46: 0.10832112537389166\n",
      "Atr47: 0.11876397758509286\n",
      "Atr48: 0.4331925985796828\n",
      "Atr49: 0.2451945765052456\n",
      "Atr50: 0.28760646398590595\n",
      "Atr51: 0.37142840974316527\n",
      "Atr52: 0.0009797861296892264\n",
      "Atr53: -0.025017479183438343\n",
      "Atr54: -0.08045114481322972\n",
      "\n",
      "Principal Component 6:\n",
      "Atr1: -0.14605585135113416\n",
      "Atr2: 0.06201217129418068\n",
      "Atr3: -0.11529299382570968\n",
      "Atr4: -0.09952749855019047\n",
      "Atr5: -0.10390726850500331\n",
      "Atr6: -0.07829536571661405\n",
      "Atr7: 0.29986752100587316\n",
      "Atr8: 0.16705906278745414\n",
      "Atr9: 0.03872949339899914\n",
      "Atr10: -0.06520287284657295\n",
      "Atr11: -0.07746601132501862\n",
      "Atr12: 0.053985859414435344\n",
      "Atr13: -0.09815936635665601\n",
      "Atr14: 0.1543225901189884\n",
      "Atr15: -0.03610350269238391\n",
      "Atr16: 0.03273680619192823\n",
      "Atr17: -0.08435924310936298\n",
      "Atr18: 0.11105900517643012\n",
      "Atr19: -0.06782060148887586\n",
      "Atr20: 0.12327409809952825\n",
      "Atr21: 0.024996901817012144\n",
      "Atr22: 0.0467614751782519\n",
      "Atr23: -0.0748889701185992\n",
      "Atr24: 0.16035178440365086\n",
      "Atr25: -0.18780268835056818\n",
      "Atr26: 0.06288275776280196\n",
      "Atr27: -0.0028295039602561477\n",
      "Atr28: -0.011338744958008073\n",
      "Atr29: -0.07080525503150162\n",
      "Atr30: 0.13442727298962354\n",
      "Atr31: -0.05786666774507794\n",
      "Atr32: -0.05411785246741814\n",
      "Atr33: 0.015406205304400926\n",
      "Atr34: -0.01603668196933549\n",
      "Atr35: 0.014195880973441828\n",
      "Atr36: -0.001715087205573858\n",
      "Atr37: -0.04260618844870259\n",
      "Atr38: -0.08092915860753416\n",
      "Atr39: -0.028732263003876816\n",
      "Atr40: -0.06629489231063375\n",
      "Atr41: -0.012114002513758541\n",
      "Atr42: -0.016541928990209634\n",
      "Atr43: -0.03516481455070591\n",
      "Atr44: -0.10347371263394216\n",
      "Atr45: 0.013381557615671212\n",
      "Atr46: 0.09336447712050859\n",
      "Atr47: 0.061973837590170174\n",
      "Atr48: -0.06799564549893183\n",
      "Atr49: -0.31056686293771474\n",
      "Atr50: -0.22116864095373245\n",
      "Atr51: -0.09883623515127593\n",
      "Atr52: 0.46568002583030876\n",
      "Atr53: 0.4217627097810412\n",
      "Atr54: 0.17432133391549018\n",
      "\n",
      "Principal Component 7:\n",
      "Atr1: 0.14595763784174848\n",
      "Atr2: 0.0025713325419646728\n",
      "Atr3: 0.07994672265896463\n",
      "Atr4: -0.05070858879714196\n",
      "Atr5: 0.09786374499289369\n",
      "Atr6: 0.31804543381518124\n",
      "Atr7: -0.18048401779985493\n",
      "Atr8: 0.06564210321838242\n",
      "Atr9: 0.03318446387169516\n",
      "Atr10: -0.0329514918902295\n",
      "Atr11: 0.11226057958935637\n",
      "Atr12: -0.04055233930770716\n",
      "Atr13: 0.1522895172382876\n",
      "Atr14: 0.004462110674615105\n",
      "Atr15: 0.033348964394171954\n",
      "Atr16: -0.00014572309099987468\n",
      "Atr17: 0.10428282428690243\n",
      "Atr18: 0.01797116369179148\n",
      "Atr19: 0.06578914438374565\n",
      "Atr20: -0.0181428235766776\n",
      "Atr21: 0.07003736480002616\n",
      "Atr22: 0.027321563635770516\n",
      "Atr23: 0.1001034214084091\n",
      "Atr24: 0.07999311556732157\n",
      "Atr25: 0.15084459786177995\n",
      "Atr26: 0.028896972097524478\n",
      "Atr27: 0.11297899014408894\n",
      "Atr28: -0.009135771968799476\n",
      "Atr29: 0.10778530788328107\n",
      "Atr30: 0.0063446757167750605\n",
      "Atr31: -0.21247013828292438\n",
      "Atr32: -0.22864789456937\n",
      "Atr33: -0.09556809362641779\n",
      "Atr34: -0.22029323349751023\n",
      "Atr35: -0.06938097381804745\n",
      "Atr36: -0.09308080945418525\n",
      "Atr37: -0.14547003378110782\n",
      "Atr38: -0.1823428478365097\n",
      "Atr39: -0.17792289321035296\n",
      "Atr40: -0.15869010090416716\n",
      "Atr41: -0.17398190324444596\n",
      "Atr42: -0.3091939063977066\n",
      "Atr43: -0.18024684578264638\n",
      "Atr44: -0.05316040797131914\n",
      "Atr45: -0.2311824679878888\n",
      "Atr46: 0.24114650092675413\n",
      "Atr47: 0.03372319036222501\n",
      "Atr48: -0.021927222903470354\n",
      "Atr49: 0.15335294823629436\n",
      "Atr50: 0.21933577565443113\n",
      "Atr51: 0.06937452174393889\n",
      "Atr52: 0.2049145082713571\n",
      "Atr53: 0.14562851455217582\n",
      "Atr54: 0.03852933257076426\n",
      "\n",
      "Principal Component 8:\n",
      "Atr1: -0.22699477363591786\n",
      "Atr2: -0.10293682223552922\n",
      "Atr3: -0.2598238854525197\n",
      "Atr4: 0.002070692727622947\n",
      "Atr5: -0.21121257631503404\n",
      "Atr6: 0.04379442517816157\n",
      "Atr7: 0.21180006847484883\n",
      "Atr8: -0.054960791900486305\n",
      "Atr9: -0.11784418357344313\n",
      "Atr10: 0.08901815569117866\n",
      "Atr11: -0.1767150831222634\n",
      "Atr12: 0.009187918900991743\n",
      "Atr13: -0.2362996959689139\n",
      "Atr14: 0.01952487528308494\n",
      "Atr15: -0.10319826937715251\n",
      "Atr16: 0.07036079801914971\n",
      "Atr17: -0.14157152128820316\n",
      "Atr18: 0.015887876347896394\n",
      "Atr19: -0.1398918280901855\n",
      "Atr20: 0.040708305500567976\n",
      "Atr21: 0.049614110460324885\n",
      "Atr22: 0.1917053750592352\n",
      "Atr23: -0.001711751280792615\n",
      "Atr24: 0.12660967743148002\n",
      "Atr25: 0.09407937506042463\n",
      "Atr26: 0.20893311133428555\n",
      "Atr27: 0.061585223851417056\n",
      "Atr28: 0.2928667171502952\n",
      "Atr29: -0.016095204339358647\n",
      "Atr30: 0.13772547809586297\n",
      "Atr31: 0.11545539351319652\n",
      "Atr32: -0.043978485614522396\n",
      "Atr33: 0.050814652890566414\n",
      "Atr34: 0.026587857485473387\n",
      "Atr35: 0.05162047701115666\n",
      "Atr36: 0.027424166420815865\n",
      "Atr37: 0.03524387026764168\n",
      "Atr38: 0.03838666031914268\n",
      "Atr39: -0.02947408347407036\n",
      "Atr40: 0.028093638763660875\n",
      "Atr41: 0.023614231495827247\n",
      "Atr42: -0.11736843959138746\n",
      "Atr43: -0.11944030137859754\n",
      "Atr44: 0.15090813833285655\n",
      "Atr45: -0.20066510500062915\n",
      "Atr46: 0.2962900938602378\n",
      "Atr47: -0.05231116922533383\n",
      "Atr48: -0.21600320249230492\n",
      "Atr49: 0.26069749524903685\n",
      "Atr50: 0.15059257421567723\n",
      "Atr51: 0.0770318308445417\n",
      "Atr52: -0.15243646088615498\n",
      "Atr53: -0.11748616482756195\n",
      "Atr54: -0.06458603174364677\n",
      "\n",
      "Principal Component 9:\n",
      "Atr1: -0.010880849678337034\n",
      "Atr2: 0.1256148027031243\n",
      "Atr3: 0.11573995580832327\n",
      "Atr4: 0.04044521108079275\n",
      "Atr5: -0.0718544053277536\n",
      "Atr6: 0.1389120154668001\n",
      "Atr7: -0.11218069228654359\n",
      "Atr8: -0.05849299107796885\n",
      "Atr9: -0.10125064763393418\n",
      "Atr10: 0.02186031415832968\n",
      "Atr11: -0.06469673783248127\n",
      "Atr12: 0.04037190421176364\n",
      "Atr13: -0.011075725125586753\n",
      "Atr14: 0.06557298620485048\n",
      "Atr15: -0.051591741920733375\n",
      "Atr16: -0.04981647206869802\n",
      "Atr17: -0.036487133760223146\n",
      "Atr18: -0.057793433675022265\n",
      "Atr19: -0.025419596910462167\n",
      "Atr20: -0.026749842890924247\n",
      "Atr21: -0.005021610261852993\n",
      "Atr22: 0.04727537139216165\n",
      "Atr23: 0.08900323034809146\n",
      "Atr24: 0.06495895345080331\n",
      "Atr25: 0.09242705944832033\n",
      "Atr26: 0.08179771109787547\n",
      "Atr27: 0.021827837831253683\n",
      "Atr28: 0.14302636941095268\n",
      "Atr29: 0.01806441245096217\n",
      "Atr30: 0.029943569219068975\n",
      "Atr31: 0.05453475413057077\n",
      "Atr32: 0.1165600844080715\n",
      "Atr33: -0.1357396641719691\n",
      "Atr34: 0.018240122374727583\n",
      "Atr35: -0.046131634093522667\n",
      "Atr36: 0.05072420690934064\n",
      "Atr37: -0.07780046291737272\n",
      "Atr38: 0.006501203828702102\n",
      "Atr39: -0.09966186396334631\n",
      "Atr40: 0.039478290006032056\n",
      "Atr41: -0.01400127621287056\n",
      "Atr42: 0.1293904776548868\n",
      "Atr43: -0.11233372574547185\n",
      "Atr44: 0.030031235918174203\n",
      "Atr45: -0.20543933757128552\n",
      "Atr46: 0.289482175870322\n",
      "Atr47: 0.16924443876147977\n",
      "Atr48: 0.5412828171822801\n",
      "Atr49: -0.24161753180533793\n",
      "Atr50: -0.2990801255553246\n",
      "Atr51: -0.19119865261761063\n",
      "Atr52: -0.24483187790295524\n",
      "Atr53: 0.13316634748329392\n",
      "Atr54: -0.2165856165582157\n",
      "\n",
      "Principal Component 10:\n",
      "Atr1: 0.053823989879771106\n",
      "Atr2: -0.10738374293036412\n",
      "Atr3: 0.06288063254612067\n",
      "Atr4: 0.45917534595454207\n",
      "Atr5: -0.008030068842894861\n",
      "Atr6: -0.05751733032384396\n",
      "Atr7: -0.02018679788595281\n",
      "Atr8: -0.00943231248601216\n",
      "Atr9: 0.06622988494398245\n",
      "Atr10: 0.362912302309391\n",
      "Atr11: -0.005741730349798385\n",
      "Atr12: -0.14951738146512586\n",
      "Atr13: 0.0020885442510672203\n",
      "Atr14: -0.20083150244343156\n",
      "Atr15: 0.028404927532220126\n",
      "Atr16: 0.3228505222218161\n",
      "Atr17: -0.009044934130253646\n",
      "Atr18: -0.06914619663114463\n",
      "Atr19: -0.010620055643326742\n",
      "Atr20: -0.12766807270932548\n",
      "Atr21: 0.005703608051735198\n",
      "Atr22: 0.295223439622861\n",
      "Atr23: -0.021077749535351634\n",
      "Atr24: -0.15590338752104715\n",
      "Atr25: -0.13232778313845572\n",
      "Atr26: -0.23535933063542888\n",
      "Atr27: -0.11601152641991308\n",
      "Atr28: 0.2223910048284454\n",
      "Atr29: -0.06030962120064307\n",
      "Atr30: -0.14896576395500868\n",
      "Atr31: -0.16285776672389637\n",
      "Atr32: -0.0727282345757934\n",
      "Atr33: -0.056512091641121365\n",
      "Atr34: 0.022445039337883926\n",
      "Atr35: 0.027839945143348015\n",
      "Atr36: 0.10824235881534187\n",
      "Atr37: -0.0723918780626241\n",
      "Atr38: 0.1122779609786087\n",
      "Atr39: -0.12232123019039066\n",
      "Atr40: 0.007494288389390497\n",
      "Atr41: -0.1102119501188256\n",
      "Atr42: 0.061389427567485694\n",
      "Atr43: -0.03661332834849509\n",
      "Atr44: -0.012562374575243496\n",
      "Atr45: 0.07478727812717402\n",
      "Atr46: 0.1452162283067946\n",
      "Atr47: -0.04908263560974574\n",
      "Atr48: -0.0635039193210039\n",
      "Atr49: -0.04573402906288337\n",
      "Atr50: -0.06253194185751319\n",
      "Atr51: -0.08566922750457298\n",
      "Atr52: 0.13730180623055274\n",
      "Atr53: 0.06195695873112058\n",
      "Atr54: 0.027411429068225402\n",
      "\n",
      "Principal Component 11:\n",
      "Atr1: 0.12334550233647013\n",
      "Atr2: 0.0013837149198441551\n",
      "Atr3: -0.022367199058999268\n",
      "Atr4: -0.09139956377347339\n",
      "Atr5: -0.00014387651166943016\n",
      "Atr6: -0.237090582322317\n",
      "Atr7: 0.079226636232367\n",
      "Atr8: -0.011520557688169118\n",
      "Atr9: 0.031176239780374593\n",
      "Atr10: -0.015302930852634455\n",
      "Atr11: 0.08814321173303569\n",
      "Atr12: 0.09001889805535923\n",
      "Atr13: 0.11560049188376495\n",
      "Atr14: -0.022018058928845313\n",
      "Atr15: 0.1255782487533474\n",
      "Atr16: 0.000894820300630178\n",
      "Atr17: 0.09393170251174715\n",
      "Atr18: 0.11738152427085735\n",
      "Atr19: 0.02623647331940221\n",
      "Atr20: 0.006815890415559175\n",
      "Atr21: -0.18409346344858762\n",
      "Atr22: -0.28791434842038177\n",
      "Atr23: -0.027318581373497672\n",
      "Atr24: -0.03416304311478735\n",
      "Atr25: 0.1300683534206611\n",
      "Atr26: -0.020576250438295553\n",
      "Atr27: -0.053283461618535005\n",
      "Atr28: -0.20236701176417596\n",
      "Atr29: -0.09441869012777546\n",
      "Atr30: -0.1424409305914697\n",
      "Atr31: -0.012953813402707492\n",
      "Atr32: -0.12147122362336346\n",
      "Atr33: -0.16897570191537264\n",
      "Atr34: 0.04598874418003633\n",
      "Atr35: -0.034091585690220506\n",
      "Atr36: 0.08239241230176111\n",
      "Atr37: 0.09157567557146665\n",
      "Atr38: 0.1905985449846397\n",
      "Atr39: 0.05943353765055039\n",
      "Atr40: 0.29860238204982914\n",
      "Atr41: -0.002604779192046276\n",
      "Atr42: 0.014722085483637471\n",
      "Atr43: -0.15591605183855872\n",
      "Atr44: 0.2567722846630629\n",
      "Atr45: -0.059870645663707346\n",
      "Atr46: 0.472406224073555\n",
      "Atr47: -0.2284846311158205\n",
      "Atr48: -0.1569912724734631\n",
      "Atr49: -0.0804561797374993\n",
      "Atr50: -0.040055601973003944\n",
      "Atr51: -0.048740577452688186\n",
      "Atr52: 0.10543405456834815\n",
      "Atr53: -0.004544164160308545\n",
      "Atr54: -0.16621728754378934\n",
      "\n",
      "Principal Component 12:\n",
      "Atr1: 0.1899291203163802\n",
      "Atr2: 0.10585882265752689\n",
      "Atr3: 0.41957299093088535\n",
      "Atr4: 0.085251346350501\n",
      "Atr5: -0.05149847959023571\n",
      "Atr6: -0.07937799649067484\n",
      "Atr7: 0.14507355160380087\n",
      "Atr8: -0.11862053158772862\n",
      "Atr9: -0.01868369468119538\n",
      "Atr10: -0.2273424048266821\n",
      "Atr11: -0.07991221809300982\n",
      "Atr12: -0.12541356737726927\n",
      "Atr13: -0.201898997747827\n",
      "Atr14: -0.056003356729530385\n",
      "Atr15: -0.06698559962313322\n",
      "Atr16: -0.12149792347049443\n",
      "Atr17: -0.018682500961511722\n",
      "Atr18: -0.06270345878555211\n",
      "Atr19: -0.00948905757716667\n",
      "Atr20: 0.002552152087340581\n",
      "Atr21: 0.1142310095131141\n",
      "Atr22: -0.006748006702923637\n",
      "Atr23: 0.06345836817576603\n",
      "Atr24: 0.06779872902335234\n",
      "Atr25: -0.053581256825882384\n",
      "Atr26: -0.03365133143077945\n",
      "Atr27: 0.10667612816278728\n",
      "Atr28: -0.04175909715798877\n",
      "Atr29: 0.04243643311239171\n",
      "Atr30: -0.04406408335554626\n",
      "Atr31: -0.09186121025593864\n",
      "Atr32: -0.008173910464595195\n",
      "Atr33: 0.10212969040302461\n",
      "Atr34: 0.030176443929121027\n",
      "Atr35: 0.15969792817370426\n",
      "Atr36: 0.08942086976334764\n",
      "Atr37: -0.03855629649311601\n",
      "Atr38: 0.030118899406731327\n",
      "Atr39: 0.03743668360701137\n",
      "Atr40: 0.0084523628420989\n",
      "Atr41: 0.14230872747434783\n",
      "Atr42: -0.3944955507784492\n",
      "Atr43: -0.19375382339473193\n",
      "Atr44: 0.11147089059012293\n",
      "Atr45: 0.28578485960613276\n",
      "Atr46: 0.10165462429980499\n",
      "Atr47: 0.10977138511980261\n",
      "Atr48: -0.12330723790054142\n",
      "Atr49: 0.08199621178562151\n",
      "Atr50: -0.10744114747323978\n",
      "Atr51: -0.2665748407029875\n",
      "Atr52: -0.16533481941603534\n",
      "Atr53: 0.018366961912649533\n",
      "Atr54: 0.1475113947882225\n",
      "\n",
      "Principal Component 13:\n",
      "Atr1: -0.11665505151059183\n",
      "Atr2: -0.1524214987267993\n",
      "Atr3: -0.039135442973624174\n",
      "Atr4: -0.15999629609110327\n",
      "Atr5: 0.07091009980699287\n",
      "Atr6: -0.15395580757406638\n",
      "Atr7: 0.15310557652506585\n",
      "Atr8: 0.056072825650192226\n",
      "Atr9: 0.14241101479439344\n",
      "Atr10: 0.09329210307383495\n",
      "Atr11: -0.008043726690798229\n",
      "Atr12: 0.09345448106645937\n",
      "Atr13: 0.2098843594303114\n",
      "Atr14: -0.10359962867875208\n",
      "Atr15: 0.1720751790679434\n",
      "Atr16: 0.0770386268697694\n",
      "Atr17: 0.09135122500128878\n",
      "Atr18: -0.015545041711786833\n",
      "Atr19: -0.024783640266420437\n",
      "Atr20: 0.004495348681033684\n",
      "Atr21: 0.10197698715284598\n",
      "Atr22: 0.07175567420196893\n",
      "Atr23: 0.1286884720828741\n",
      "Atr24: -0.06144750273305288\n",
      "Atr25: -0.005415175144357215\n",
      "Atr26: -0.08699013515573707\n",
      "Atr27: 0.008961788125066254\n",
      "Atr28: -0.09872106953471732\n",
      "Atr29: 0.017126097138932116\n",
      "Atr30: -0.19164173149637725\n",
      "Atr31: 0.27262791008555554\n",
      "Atr32: 0.1761632503736298\n",
      "Atr33: 0.052304212098062006\n",
      "Atr34: -0.0259832448205111\n",
      "Atr35: -0.012902856614366678\n",
      "Atr36: -0.00830164989144748\n",
      "Atr37: 0.06256939899486356\n",
      "Atr38: -0.1124923249970718\n",
      "Atr39: -0.21366543918194614\n",
      "Atr40: -0.1386630945099758\n",
      "Atr41: -0.11073210098300208\n",
      "Atr42: -0.11501154730462415\n",
      "Atr43: -0.2455113829179786\n",
      "Atr44: -0.009424213599453675\n",
      "Atr45: 0.07556520860431126\n",
      "Atr46: 0.062185903048869354\n",
      "Atr47: 0.39783487206851853\n",
      "Atr48: -0.19532397198621287\n",
      "Atr49: -0.2127997439921377\n",
      "Atr50: -0.012961544992408808\n",
      "Atr51: 0.19486682420155943\n",
      "Atr52: -0.2805199058563367\n",
      "Atr53: 0.07802578110812741\n",
      "Atr54: -0.050373330641213576\n",
      "\n",
      "Principal Component 14:\n",
      "Atr1: 0.05866992939217005\n",
      "Atr2: 0.08290667120355524\n",
      "Atr3: -0.08444426241697854\n",
      "Atr4: -0.1111531579644788\n",
      "Atr5: -0.041506634304178794\n",
      "Atr6: 0.11310287974958702\n",
      "Atr7: -0.12867443489856095\n",
      "Atr8: 0.1848190503889419\n",
      "Atr9: 0.06163022655467384\n",
      "Atr10: -0.0925417956834991\n",
      "Atr11: -0.011567007291047898\n",
      "Atr12: -0.03135143479958257\n",
      "Atr13: -0.03631384903630456\n",
      "Atr14: 0.13838357395982784\n",
      "Atr15: 0.06411176635760772\n",
      "Atr16: -0.023970614498673597\n",
      "Atr17: -0.0417387934929562\n",
      "Atr18: 0.052143240905605306\n",
      "Atr19: -0.06819704061794973\n",
      "Atr20: 0.011481324453374658\n",
      "Atr21: 0.060010382083631436\n",
      "Atr22: 0.06935724579605712\n",
      "Atr23: 0.003980012066541583\n",
      "Atr24: -0.004244222985002266\n",
      "Atr25: -0.11422460072076768\n",
      "Atr26: -0.02957217217150121\n",
      "Atr27: -0.06555943029271599\n",
      "Atr28: -0.00954038144984471\n",
      "Atr29: -0.04372985709294568\n",
      "Atr30: 0.13466569164398823\n",
      "Atr31: -0.324459492919366\n",
      "Atr32: 0.14049577625283555\n",
      "Atr33: 0.05059136743577321\n",
      "Atr34: 0.22509719858749455\n",
      "Atr35: -0.046285253395125896\n",
      "Atr36: 0.16737109477586531\n",
      "Atr37: -0.18550770577783726\n",
      "Atr38: 0.1979868299168373\n",
      "Atr39: -0.2518949919766636\n",
      "Atr40: 0.03046113400654872\n",
      "Atr41: -0.169863119018912\n",
      "Atr42: -0.16735503038997981\n",
      "Atr43: 0.09029798827260051\n",
      "Atr44: 0.27351401912227524\n",
      "Atr45: 0.09580304067762777\n",
      "Atr46: 0.0035541807083925383\n",
      "Atr47: -0.21516354385087505\n",
      "Atr48: 0.008143197591868934\n",
      "Atr49: -0.2433700317710881\n",
      "Atr50: -0.031942211523698465\n",
      "Atr51: 0.36717410583418436\n",
      "Atr52: -0.22692629816015025\n",
      "Atr53: -0.0586650868946947\n",
      "Atr54: 0.13608927733138743\n",
      "\n",
      "Principal Component 15:\n",
      "Atr1: 0.3418505940892119\n",
      "Atr2: -0.07515333922140724\n",
      "Atr3: -0.15745532448220326\n",
      "Atr4: -0.015885721165167482\n",
      "Atr5: -0.02412967251133158\n",
      "Atr6: -0.10163666441070951\n",
      "Atr7: 0.18058978899185582\n",
      "Atr8: -0.21689124355362738\n",
      "Atr9: -0.11783263442509703\n",
      "Atr10: -0.048319647452044506\n",
      "Atr11: -0.005722634084935008\n",
      "Atr12: -0.1963938854045714\n",
      "Atr13: 0.04857188860648756\n",
      "Atr14: 0.12535523544871247\n",
      "Atr15: -0.09470176402737207\n",
      "Atr16: 0.07383112578105533\n",
      "Atr17: -0.007911953129179493\n",
      "Atr18: -0.10600028699582331\n",
      "Atr19: 0.0885355593353922\n",
      "Atr20: -0.06181325885437637\n",
      "Atr21: -0.007212263896979855\n",
      "Atr22: 0.13259932975045205\n",
      "Atr23: 0.1529969109375984\n",
      "Atr24: 0.009119203561166259\n",
      "Atr25: 0.13071069671624122\n",
      "Atr26: 0.09458780790204506\n",
      "Atr27: 0.1529504368549412\n",
      "Atr28: 0.17454221029218497\n",
      "Atr29: 0.12590709525009575\n",
      "Atr30: -0.1465877888375311\n",
      "Atr31: 0.17471035274128174\n",
      "Atr32: -0.13210342106440542\n",
      "Atr33: 0.03083136963905986\n",
      "Atr34: -0.0961676129769296\n",
      "Atr35: -0.0966761716421898\n",
      "Atr36: -0.1483087273321355\n",
      "Atr37: 0.056966981664045\n",
      "Atr38: -0.16442329921503607\n",
      "Atr39: 0.05778504462946556\n",
      "Atr40: -0.040290694305366685\n",
      "Atr41: 0.05539779803536363\n",
      "Atr42: -0.05819280634713683\n",
      "Atr43: -0.0375635232836847\n",
      "Atr44: 0.02068405559389649\n",
      "Atr45: 0.21169660524218514\n",
      "Atr46: -0.004793839185689675\n",
      "Atr47: -0.3108736494071347\n",
      "Atr48: 0.16345421881234834\n",
      "Atr49: -0.3410656105717932\n",
      "Atr50: -0.035495334448201916\n",
      "Atr51: 0.2471725547708727\n",
      "Atr52: 0.058731274091046455\n",
      "Atr53: -0.07778249735711956\n",
      "Atr54: 0.06179151210526852\n",
      "\n",
      "Principal Component 16:\n",
      "Atr1: -0.07216438323108722\n",
      "Atr2: -0.1604513722787021\n",
      "Atr3: 0.35333308018806947\n",
      "Atr4: -0.04885226834561897\n",
      "Atr5: -0.07118968699825444\n",
      "Atr6: -0.08627932803802421\n",
      "Atr7: 0.006843902048743501\n",
      "Atr8: -0.09423388702150437\n",
      "Atr9: 0.20897232668590504\n",
      "Atr10: -0.07287034881151955\n",
      "Atr11: -0.1525736496979202\n",
      "Atr12: -0.07373383890814786\n",
      "Atr13: -0.06363773743387344\n",
      "Atr14: -0.0863472917499429\n",
      "Atr15: 0.26904785844534584\n",
      "Atr16: -0.08223211015937094\n",
      "Atr17: -0.07137103681308953\n",
      "Atr18: -0.04373767029138852\n",
      "Atr19: -0.08147936595371547\n",
      "Atr20: -0.09520153885671927\n",
      "Atr21: 0.4057171242790973\n",
      "Atr22: 0.03365742970749834\n",
      "Atr23: -0.05146394080935561\n",
      "Atr24: -0.07701006410508657\n",
      "Atr25: -0.0011995168310268284\n",
      "Atr26: 0.06389791316227383\n",
      "Atr27: 0.3866381242176859\n",
      "Atr28: -0.07660176219744441\n",
      "Atr29: 0.03782560953668457\n",
      "Atr30: 0.012318853824103582\n",
      "Atr31: 0.0556903852824988\n",
      "Atr32: 0.09383408633392334\n",
      "Atr33: 0.05929983224478696\n",
      "Atr34: 0.038753229865033614\n",
      "Atr35: -0.05703460653047739\n",
      "Atr36: -0.05972864142466054\n",
      "Atr37: -0.004106811233702258\n",
      "Atr38: -0.03712103723843316\n",
      "Atr39: -0.06639405474958397\n",
      "Atr40: -0.04114295768486376\n",
      "Atr41: -0.1269584164690184\n",
      "Atr42: 0.19277515904477477\n",
      "Atr43: 0.168773765945281\n",
      "Atr44: 0.044056288475994895\n",
      "Atr45: -0.1943863607719401\n",
      "Atr46: 0.03863249603502207\n",
      "Atr47: -0.26130520005963864\n",
      "Atr48: -0.05219996409581242\n",
      "Atr49: 0.021003992559435868\n",
      "Atr50: -0.11821378447871193\n",
      "Atr51: 0.06613157051690081\n",
      "Atr52: 0.16059171177001497\n",
      "Atr53: -0.008712134293932389\n",
      "Atr54: -0.15521588650571766\n",
      "\n",
      "Principal Component 17:\n",
      "Atr1: -0.08464780547714679\n",
      "Atr2: -0.017566122823938934\n",
      "Atr3: -0.0796493863984561\n",
      "Atr4: 0.18758701116161033\n",
      "Atr5: 0.06868702203821718\n",
      "Atr6: -0.060777653471384474\n",
      "Atr7: 0.031636446470986276\n",
      "Atr8: -0.0065536205447884605\n",
      "Atr9: -0.0030083058449818373\n",
      "Atr10: 0.08464864092039578\n",
      "Atr11: -0.05695116054672477\n",
      "Atr12: 0.0023165008955488564\n",
      "Atr13: 0.040996118712166324\n",
      "Atr14: -0.08996785798357014\n",
      "Atr15: -0.0255388410813992\n",
      "Atr16: -0.04567263667395696\n",
      "Atr17: -0.020415533137357944\n",
      "Atr18: 0.07574339786624201\n",
      "Atr19: 0.02495564030670111\n",
      "Atr20: -0.04694483416735407\n",
      "Atr21: -0.2022285662129757\n",
      "Atr22: -0.02986436035085238\n",
      "Atr23: 0.08020528166866997\n",
      "Atr24: 0.11961656564705486\n",
      "Atr25: 0.094405588640466\n",
      "Atr26: 0.049246910422088785\n",
      "Atr27: 0.004654026196528001\n",
      "Atr28: -0.012818814431123177\n",
      "Atr29: -0.029391207457797552\n",
      "Atr30: -0.1579843799347383\n",
      "Atr31: 0.07417227526186648\n",
      "Atr32: 0.22793601754316176\n",
      "Atr33: 0.033147158144427175\n",
      "Atr34: -0.013229507191630744\n",
      "Atr35: -0.11321124854249168\n",
      "Atr36: -0.045835205069636814\n",
      "Atr37: 0.020862508920419912\n",
      "Atr38: -0.1678049003103115\n",
      "Atr39: -0.17186881999321066\n",
      "Atr40: 0.01096248119014957\n",
      "Atr41: 0.0013292342222464193\n",
      "Atr42: -0.40212273006226934\n",
      "Atr43: 0.3320272480965272\n",
      "Atr44: 0.4667551611093816\n",
      "Atr45: -0.040769181571586516\n",
      "Atr46: -0.21882636285026108\n",
      "Atr47: -0.011518300894800854\n",
      "Atr48: 0.0837867371152718\n",
      "Atr49: 0.1258101371820729\n",
      "Atr50: -0.12019738578475316\n",
      "Atr51: -0.08423170393114433\n",
      "Atr52: 0.1730362820178274\n",
      "Atr53: 0.1732079204776618\n",
      "Atr54: -0.18445692523245397\n",
      "\n",
      "Principal Component 18:\n",
      "Atr1: 0.06739136585563506\n",
      "Atr2: 0.1664516399378461\n",
      "Atr3: 0.2416195337545842\n",
      "Atr4: 0.026483799526463986\n",
      "Atr5: 0.02428525074328118\n",
      "Atr6: 0.18437129662402318\n",
      "Atr7: -0.09787614070072123\n",
      "Atr8: -0.03191468554796574\n",
      "Atr9: -0.15381046141491933\n",
      "Atr10: 0.06369366000065399\n",
      "Atr11: -0.061204397958901265\n",
      "Atr12: 0.12601631099550137\n",
      "Atr13: 0.04366511868119975\n",
      "Atr14: 0.1547985844300698\n",
      "Atr15: -0.08566976405184028\n",
      "Atr16: 0.04359819351903997\n",
      "Atr17: -0.02002712204122578\n",
      "Atr18: 0.05715298276839356\n",
      "Atr19: 0.042312278284364735\n",
      "Atr20: 0.13217053730798237\n",
      "Atr21: -0.11635534346495749\n",
      "Atr22: 0.0334108355070703\n",
      "Atr23: -0.06162289413043981\n",
      "Atr24: -0.05590009319344186\n",
      "Atr25: -0.12854337172940813\n",
      "Atr26: -0.07289147204491386\n",
      "Atr27: -0.15058196202779667\n",
      "Atr28: -0.030831625060791595\n",
      "Atr29: -0.10682917820032717\n",
      "Atr30: 0.08553512171903987\n",
      "Atr31: 0.3619419205264224\n",
      "Atr32: 0.2331824222991485\n",
      "Atr33: 0.1217160663390436\n",
      "Atr34: 0.12066953593949514\n",
      "Atr35: -0.012373020369713782\n",
      "Atr36: -0.03995281158967924\n",
      "Atr37: 0.07150195323522596\n",
      "Atr38: -0.15123266635121985\n",
      "Atr39: -0.0918435075116922\n",
      "Atr40: -0.0706549519468251\n",
      "Atr41: -0.16613032339156344\n",
      "Atr42: -0.18456590829273745\n",
      "Atr43: 0.17728780452772439\n",
      "Atr44: -0.2800838171946353\n",
      "Atr45: 0.12067256675124503\n",
      "Atr46: 0.31477819580448846\n",
      "Atr47: -0.17824970284412445\n",
      "Atr48: -0.147404773189913\n",
      "Atr49: -0.017588678823895795\n",
      "Atr50: -0.026839480949828458\n",
      "Atr51: 0.006272457634153879\n",
      "Atr52: 0.12703989384704775\n",
      "Atr53: -0.21057140423418666\n",
      "Atr54: -0.11913946628263858\n",
      "\n",
      "Principal Component 19:\n",
      "Atr1: -0.301354856514778\n",
      "Atr2: -0.12643242764460177\n",
      "Atr3: 0.13276253671996016\n",
      "Atr4: -0.20316782933699595\n",
      "Atr5: -0.07033562972851382\n",
      "Atr6: 0.01238201653249904\n",
      "Atr7: -0.1007922646184863\n",
      "Atr8: -0.07098840842196688\n",
      "Atr9: -0.02356671186583531\n",
      "Atr10: 0.09779227588840278\n",
      "Atr11: 0.08122356891660243\n",
      "Atr12: 0.17958336443311346\n",
      "Atr13: 0.1819401809290735\n",
      "Atr14: 0.0782463122684176\n",
      "Atr15: 0.01497342971288064\n",
      "Atr16: 0.033642845450664816\n",
      "Atr17: -0.10175845567001814\n",
      "Atr18: -0.07399946864813907\n",
      "Atr19: -0.0736069413932183\n",
      "Atr20: 0.014524100557311376\n",
      "Atr21: 0.0664106083918419\n",
      "Atr22: 0.09276368681389317\n",
      "Atr23: -0.0892607471071368\n",
      "Atr24: -0.15239104295624437\n",
      "Atr25: 0.04597554529842488\n",
      "Atr26: -0.06912044907645115\n",
      "Atr27: 0.07659217265608577\n",
      "Atr28: 0.19923305930535432\n",
      "Atr29: -0.02627046486593173\n",
      "Atr30: 0.10472497327258261\n",
      "Atr31: -0.1811801167169223\n",
      "Atr32: 0.050535369722402496\n",
      "Atr33: -0.15554984655091933\n",
      "Atr34: 0.028112327054272773\n",
      "Atr35: -0.057389414168921356\n",
      "Atr36: -0.09119454143766104\n",
      "Atr37: 0.09715868741505057\n",
      "Atr38: -0.03707434219369116\n",
      "Atr39: 0.2698224276744363\n",
      "Atr40: 0.120164405719931\n",
      "Atr41: 0.007172638386343821\n",
      "Atr42: -0.2290133712058972\n",
      "Atr43: -0.06085014717838038\n",
      "Atr44: -0.009639710790945749\n",
      "Atr45: 0.3784892741666146\n",
      "Atr46: -0.038053515557934105\n",
      "Atr47: -0.16212388443918643\n",
      "Atr48: 0.0782376103193813\n",
      "Atr49: -0.048532330265171626\n",
      "Atr50: 0.2199496360296184\n",
      "Atr51: -0.07405431348833517\n",
      "Atr52: -0.05136538645992439\n",
      "Atr53: 0.28016411683034925\n",
      "Atr54: -0.2321491937396673\n",
      "\n",
      "Principal Component 20:\n",
      "Atr1: 0.008784028496848378\n",
      "Atr2: -0.17655259996412292\n",
      "Atr3: -0.18793900790986387\n",
      "Atr4: 0.07304436506397927\n",
      "Atr5: 0.128781102163566\n",
      "Atr6: -0.12330242499859295\n",
      "Atr7: 0.17772526632473745\n",
      "Atr8: -0.07966029708002496\n",
      "Atr9: -0.14526368492268332\n",
      "Atr10: -0.07538597404251811\n",
      "Atr11: 0.09509407294858985\n",
      "Atr12: 0.07883159517960657\n",
      "Atr13: 0.07102805047846537\n",
      "Atr14: -0.06983435806856733\n",
      "Atr15: -0.24185614395436894\n",
      "Atr16: -0.10840188470916691\n",
      "Atr17: 0.14726110963907577\n",
      "Atr18: 0.012758421967930708\n",
      "Atr19: 0.25025154215780915\n",
      "Atr20: 0.11011739602921163\n",
      "Atr21: 0.10103252216204744\n",
      "Atr22: 0.01468836342115135\n",
      "Atr23: 0.0674900992526543\n",
      "Atr24: -0.060856751055503776\n",
      "Atr25: -0.005578569858051288\n",
      "Atr26: -0.017277225471805095\n",
      "Atr27: -0.06979462878363606\n",
      "Atr28: -0.09429949196384263\n",
      "Atr29: 0.31353656902065835\n",
      "Atr30: 0.18892230545620936\n",
      "Atr31: -0.20595471141664418\n",
      "Atr32: 0.2927568374313288\n",
      "Atr33: 0.14117137402412577\n",
      "Atr34: -0.04839816590955963\n",
      "Atr35: -0.003740372574174212\n",
      "Atr36: 0.02351349791448102\n",
      "Atr37: -0.1050484940144322\n",
      "Atr38: 0.008456110134939396\n",
      "Atr39: -0.06528894038119837\n",
      "Atr40: -0.09994907575503015\n",
      "Atr41: -0.20661969926801738\n",
      "Atr42: 0.1617988063352011\n",
      "Atr43: -0.12256500997443294\n",
      "Atr44: -0.06845244174786408\n",
      "Atr45: 0.10038670476841494\n",
      "Atr46: 0.0805353489708775\n",
      "Atr47: -0.22258758186788352\n",
      "Atr48: -0.027611513546653366\n",
      "Atr49: 0.23597892589785036\n",
      "Atr50: -0.1807768370036465\n",
      "Atr51: -0.0696694863168564\n",
      "Atr52: -0.07021345801947756\n",
      "Atr53: 0.15145722408726342\n",
      "Atr54: -0.14118615588158778\n",
      "\n"
     ]
    }
   ],
   "source": [
    "import numpy as np\n",
    "\n",
    "# 获取每个主成分的特征载荷\n",
    "loadings = pca.components_\n",
    "num_components = pca.n_components_\n",
    "\n",
    "# 打印每个主成分的特征载荷\n",
    "for i in range(num_components):\n",
    "    print(f\"Principal Component {i+1}:\")\n",
    "    for j, feature in enumerate(X.columns):\n",
    "        print(f\"{feature}: {loadings[i, j]}\")\n",
    "    print()\n"
   ]
  },
  {
   "cell_type": "code",
   "execution_count": 32,
   "metadata": {},
   "outputs": [
    {
     "data": {
      "application/vnd.plotly.v1+json": {
       "config": {
        "plotlyServerURL": "https://plot.ly"
       },
       "data": [
        {
         "alignmentgroup": "True",
         "hovertemplate": "Features=%{x}<br>Loadings for PC1=%{y}<extra></extra>",
         "legendgroup": "",
         "marker": {
          "color": "#636efa",
          "pattern": {
           "shape": ""
          }
         },
         "name": "",
         "offsetgroup": "",
         "orientation": "v",
         "showlegend": false,
         "textposition": "auto",
         "type": "bar",
         "x": [
          "Atr1",
          "Atr2",
          "Atr3",
          "Atr4",
          "Atr5",
          "Atr6",
          "Atr7",
          "Atr8",
          "Atr9",
          "Atr10",
          "Atr11",
          "Atr12",
          "Atr13",
          "Atr14",
          "Atr15",
          "Atr16",
          "Atr17",
          "Atr18",
          "Atr19",
          "Atr20",
          "Atr21",
          "Atr22",
          "Atr23",
          "Atr24",
          "Atr25",
          "Atr26",
          "Atr27",
          "Atr28",
          "Atr29",
          "Atr30",
          "Atr31",
          "Atr32",
          "Atr33",
          "Atr34",
          "Atr35",
          "Atr36",
          "Atr37",
          "Atr38",
          "Atr39",
          "Atr40",
          "Atr41",
          "Atr42",
          "Atr43",
          "Atr44",
          "Atr45",
          "Atr46",
          "Atr47",
          "Atr48",
          "Atr49",
          "Atr50",
          "Atr51",
          "Atr52",
          "Atr53",
          "Atr54"
         ],
         "xaxis": "x",
         "y": [
          0.14019425451444972,
          0.13700080701141581,
          0.1300860291684944,
          0.13477839954290677,
          0.1499078996355145,
          0.04841851236116175,
          0.07353290352743046,
          0.1451935072906563,
          0.14895534953660827,
          0.1372846855725238,
          0.14856080397676483,
          0.14247859294554896,
          0.14286802997047957,
          0.14248666378216746,
          0.14502694098889965,
          0.14321138171486056,
          0.15031298269342475,
          0.1485363567730206,
          0.15091626315574203,
          0.14894726993096336,
          0.14768034520006526,
          0.14407590931742845,
          0.14621106987531474,
          0.14339597323728856,
          0.144282158496963,
          0.14414161869590147,
          0.14685021425483372,
          0.14163389522282516,
          0.15035183255779686,
          0.14496206211605409,
          0.13290272014532567,
          0.13765445701315993,
          0.14648270341785694,
          0.14029450517914988,
          0.14741632709791663,
          0.14864486541674765,
          0.14301482616608033,
          0.14445579039917913,
          0.14521915676344135,
          0.1473860831826296,
          0.1463869854100065,
          0.12532024805342576,
          0.10041287186833758,
          0.13713395039229745,
          0.09867285538077712,
          0.08495343762743557,
          0.11867883452022411,
          0.11000495234420937,
          0.12487018810122538,
          0.12988417544162492,
          0.12248567194911886,
          0.11104409687556835,
          0.12092486244798194,
          0.1388049901423949
         ],
         "yaxis": "y"
        }
       ],
       "layout": {
        "barmode": "relative",
        "legend": {
         "tracegroupgap": 0
        },
        "template": {
         "data": {
          "bar": [
           {
            "error_x": {
             "color": "#2a3f5f"
            },
            "error_y": {
             "color": "#2a3f5f"
            },
            "marker": {
             "line": {
              "color": "#E5ECF6",
              "width": 0.5
             },
             "pattern": {
              "fillmode": "overlay",
              "size": 10,
              "solidity": 0.2
             }
            },
            "type": "bar"
           }
          ],
          "barpolar": [
           {
            "marker": {
             "line": {
              "color": "#E5ECF6",
              "width": 0.5
             },
             "pattern": {
              "fillmode": "overlay",
              "size": 10,
              "solidity": 0.2
             }
            },
            "type": "barpolar"
           }
          ],
          "carpet": [
           {
            "aaxis": {
             "endlinecolor": "#2a3f5f",
             "gridcolor": "white",
             "linecolor": "white",
             "minorgridcolor": "white",
             "startlinecolor": "#2a3f5f"
            },
            "baxis": {
             "endlinecolor": "#2a3f5f",
             "gridcolor": "white",
             "linecolor": "white",
             "minorgridcolor": "white",
             "startlinecolor": "#2a3f5f"
            },
            "type": "carpet"
           }
          ],
          "choropleth": [
           {
            "colorbar": {
             "outlinewidth": 0,
             "ticks": ""
            },
            "type": "choropleth"
           }
          ],
          "contour": [
           {
            "colorbar": {
             "outlinewidth": 0,
             "ticks": ""
            },
            "colorscale": [
             [
              0,
              "#0d0887"
             ],
             [
              0.1111111111111111,
              "#46039f"
             ],
             [
              0.2222222222222222,
              "#7201a8"
             ],
             [
              0.3333333333333333,
              "#9c179e"
             ],
             [
              0.4444444444444444,
              "#bd3786"
             ],
             [
              0.5555555555555556,
              "#d8576b"
             ],
             [
              0.6666666666666666,
              "#ed7953"
             ],
             [
              0.7777777777777778,
              "#fb9f3a"
             ],
             [
              0.8888888888888888,
              "#fdca26"
             ],
             [
              1,
              "#f0f921"
             ]
            ],
            "type": "contour"
           }
          ],
          "contourcarpet": [
           {
            "colorbar": {
             "outlinewidth": 0,
             "ticks": ""
            },
            "type": "contourcarpet"
           }
          ],
          "heatmap": [
           {
            "colorbar": {
             "outlinewidth": 0,
             "ticks": ""
            },
            "colorscale": [
             [
              0,
              "#0d0887"
             ],
             [
              0.1111111111111111,
              "#46039f"
             ],
             [
              0.2222222222222222,
              "#7201a8"
             ],
             [
              0.3333333333333333,
              "#9c179e"
             ],
             [
              0.4444444444444444,
              "#bd3786"
             ],
             [
              0.5555555555555556,
              "#d8576b"
             ],
             [
              0.6666666666666666,
              "#ed7953"
             ],
             [
              0.7777777777777778,
              "#fb9f3a"
             ],
             [
              0.8888888888888888,
              "#fdca26"
             ],
             [
              1,
              "#f0f921"
             ]
            ],
            "type": "heatmap"
           }
          ],
          "heatmapgl": [
           {
            "colorbar": {
             "outlinewidth": 0,
             "ticks": ""
            },
            "colorscale": [
             [
              0,
              "#0d0887"
             ],
             [
              0.1111111111111111,
              "#46039f"
             ],
             [
              0.2222222222222222,
              "#7201a8"
             ],
             [
              0.3333333333333333,
              "#9c179e"
             ],
             [
              0.4444444444444444,
              "#bd3786"
             ],
             [
              0.5555555555555556,
              "#d8576b"
             ],
             [
              0.6666666666666666,
              "#ed7953"
             ],
             [
              0.7777777777777778,
              "#fb9f3a"
             ],
             [
              0.8888888888888888,
              "#fdca26"
             ],
             [
              1,
              "#f0f921"
             ]
            ],
            "type": "heatmapgl"
           }
          ],
          "histogram": [
           {
            "marker": {
             "pattern": {
              "fillmode": "overlay",
              "size": 10,
              "solidity": 0.2
             }
            },
            "type": "histogram"
           }
          ],
          "histogram2d": [
           {
            "colorbar": {
             "outlinewidth": 0,
             "ticks": ""
            },
            "colorscale": [
             [
              0,
              "#0d0887"
             ],
             [
              0.1111111111111111,
              "#46039f"
             ],
             [
              0.2222222222222222,
              "#7201a8"
             ],
             [
              0.3333333333333333,
              "#9c179e"
             ],
             [
              0.4444444444444444,
              "#bd3786"
             ],
             [
              0.5555555555555556,
              "#d8576b"
             ],
             [
              0.6666666666666666,
              "#ed7953"
             ],
             [
              0.7777777777777778,
              "#fb9f3a"
             ],
             [
              0.8888888888888888,
              "#fdca26"
             ],
             [
              1,
              "#f0f921"
             ]
            ],
            "type": "histogram2d"
           }
          ],
          "histogram2dcontour": [
           {
            "colorbar": {
             "outlinewidth": 0,
             "ticks": ""
            },
            "colorscale": [
             [
              0,
              "#0d0887"
             ],
             [
              0.1111111111111111,
              "#46039f"
             ],
             [
              0.2222222222222222,
              "#7201a8"
             ],
             [
              0.3333333333333333,
              "#9c179e"
             ],
             [
              0.4444444444444444,
              "#bd3786"
             ],
             [
              0.5555555555555556,
              "#d8576b"
             ],
             [
              0.6666666666666666,
              "#ed7953"
             ],
             [
              0.7777777777777778,
              "#fb9f3a"
             ],
             [
              0.8888888888888888,
              "#fdca26"
             ],
             [
              1,
              "#f0f921"
             ]
            ],
            "type": "histogram2dcontour"
           }
          ],
          "mesh3d": [
           {
            "colorbar": {
             "outlinewidth": 0,
             "ticks": ""
            },
            "type": "mesh3d"
           }
          ],
          "parcoords": [
           {
            "line": {
             "colorbar": {
              "outlinewidth": 0,
              "ticks": ""
             }
            },
            "type": "parcoords"
           }
          ],
          "pie": [
           {
            "automargin": true,
            "type": "pie"
           }
          ],
          "scatter": [
           {
            "fillpattern": {
             "fillmode": "overlay",
             "size": 10,
             "solidity": 0.2
            },
            "type": "scatter"
           }
          ],
          "scatter3d": [
           {
            "line": {
             "colorbar": {
              "outlinewidth": 0,
              "ticks": ""
             }
            },
            "marker": {
             "colorbar": {
              "outlinewidth": 0,
              "ticks": ""
             }
            },
            "type": "scatter3d"
           }
          ],
          "scattercarpet": [
           {
            "marker": {
             "colorbar": {
              "outlinewidth": 0,
              "ticks": ""
             }
            },
            "type": "scattercarpet"
           }
          ],
          "scattergeo": [
           {
            "marker": {
             "colorbar": {
              "outlinewidth": 0,
              "ticks": ""
             }
            },
            "type": "scattergeo"
           }
          ],
          "scattergl": [
           {
            "marker": {
             "colorbar": {
              "outlinewidth": 0,
              "ticks": ""
             }
            },
            "type": "scattergl"
           }
          ],
          "scattermapbox": [
           {
            "marker": {
             "colorbar": {
              "outlinewidth": 0,
              "ticks": ""
             }
            },
            "type": "scattermapbox"
           }
          ],
          "scatterpolar": [
           {
            "marker": {
             "colorbar": {
              "outlinewidth": 0,
              "ticks": ""
             }
            },
            "type": "scatterpolar"
           }
          ],
          "scatterpolargl": [
           {
            "marker": {
             "colorbar": {
              "outlinewidth": 0,
              "ticks": ""
             }
            },
            "type": "scatterpolargl"
           }
          ],
          "scatterternary": [
           {
            "marker": {
             "colorbar": {
              "outlinewidth": 0,
              "ticks": ""
             }
            },
            "type": "scatterternary"
           }
          ],
          "surface": [
           {
            "colorbar": {
             "outlinewidth": 0,
             "ticks": ""
            },
            "colorscale": [
             [
              0,
              "#0d0887"
             ],
             [
              0.1111111111111111,
              "#46039f"
             ],
             [
              0.2222222222222222,
              "#7201a8"
             ],
             [
              0.3333333333333333,
              "#9c179e"
             ],
             [
              0.4444444444444444,
              "#bd3786"
             ],
             [
              0.5555555555555556,
              "#d8576b"
             ],
             [
              0.6666666666666666,
              "#ed7953"
             ],
             [
              0.7777777777777778,
              "#fb9f3a"
             ],
             [
              0.8888888888888888,
              "#fdca26"
             ],
             [
              1,
              "#f0f921"
             ]
            ],
            "type": "surface"
           }
          ],
          "table": [
           {
            "cells": {
             "fill": {
              "color": "#EBF0F8"
             },
             "line": {
              "color": "white"
             }
            },
            "header": {
             "fill": {
              "color": "#C8D4E3"
             },
             "line": {
              "color": "white"
             }
            },
            "type": "table"
           }
          ]
         },
         "layout": {
          "annotationdefaults": {
           "arrowcolor": "#2a3f5f",
           "arrowhead": 0,
           "arrowwidth": 1
          },
          "autotypenumbers": "strict",
          "coloraxis": {
           "colorbar": {
            "outlinewidth": 0,
            "ticks": ""
           }
          },
          "colorscale": {
           "diverging": [
            [
             0,
             "#8e0152"
            ],
            [
             0.1,
             "#c51b7d"
            ],
            [
             0.2,
             "#de77ae"
            ],
            [
             0.3,
             "#f1b6da"
            ],
            [
             0.4,
             "#fde0ef"
            ],
            [
             0.5,
             "#f7f7f7"
            ],
            [
             0.6,
             "#e6f5d0"
            ],
            [
             0.7,
             "#b8e186"
            ],
            [
             0.8,
             "#7fbc41"
            ],
            [
             0.9,
             "#4d9221"
            ],
            [
             1,
             "#276419"
            ]
           ],
           "sequential": [
            [
             0,
             "#0d0887"
            ],
            [
             0.1111111111111111,
             "#46039f"
            ],
            [
             0.2222222222222222,
             "#7201a8"
            ],
            [
             0.3333333333333333,
             "#9c179e"
            ],
            [
             0.4444444444444444,
             "#bd3786"
            ],
            [
             0.5555555555555556,
             "#d8576b"
            ],
            [
             0.6666666666666666,
             "#ed7953"
            ],
            [
             0.7777777777777778,
             "#fb9f3a"
            ],
            [
             0.8888888888888888,
             "#fdca26"
            ],
            [
             1,
             "#f0f921"
            ]
           ],
           "sequentialminus": [
            [
             0,
             "#0d0887"
            ],
            [
             0.1111111111111111,
             "#46039f"
            ],
            [
             0.2222222222222222,
             "#7201a8"
            ],
            [
             0.3333333333333333,
             "#9c179e"
            ],
            [
             0.4444444444444444,
             "#bd3786"
            ],
            [
             0.5555555555555556,
             "#d8576b"
            ],
            [
             0.6666666666666666,
             "#ed7953"
            ],
            [
             0.7777777777777778,
             "#fb9f3a"
            ],
            [
             0.8888888888888888,
             "#fdca26"
            ],
            [
             1,
             "#f0f921"
            ]
           ]
          },
          "colorway": [
           "#636efa",
           "#EF553B",
           "#00cc96",
           "#ab63fa",
           "#FFA15A",
           "#19d3f3",
           "#FF6692",
           "#B6E880",
           "#FF97FF",
           "#FECB52"
          ],
          "font": {
           "color": "#2a3f5f"
          },
          "geo": {
           "bgcolor": "white",
           "lakecolor": "white",
           "landcolor": "#E5ECF6",
           "showlakes": true,
           "showland": true,
           "subunitcolor": "white"
          },
          "hoverlabel": {
           "align": "left"
          },
          "hovermode": "closest",
          "mapbox": {
           "style": "light"
          },
          "paper_bgcolor": "white",
          "plot_bgcolor": "#E5ECF6",
          "polar": {
           "angularaxis": {
            "gridcolor": "white",
            "linecolor": "white",
            "ticks": ""
           },
           "bgcolor": "#E5ECF6",
           "radialaxis": {
            "gridcolor": "white",
            "linecolor": "white",
            "ticks": ""
           }
          },
          "scene": {
           "xaxis": {
            "backgroundcolor": "#E5ECF6",
            "gridcolor": "white",
            "gridwidth": 2,
            "linecolor": "white",
            "showbackground": true,
            "ticks": "",
            "zerolinecolor": "white"
           },
           "yaxis": {
            "backgroundcolor": "#E5ECF6",
            "gridcolor": "white",
            "gridwidth": 2,
            "linecolor": "white",
            "showbackground": true,
            "ticks": "",
            "zerolinecolor": "white"
           },
           "zaxis": {
            "backgroundcolor": "#E5ECF6",
            "gridcolor": "white",
            "gridwidth": 2,
            "linecolor": "white",
            "showbackground": true,
            "ticks": "",
            "zerolinecolor": "white"
           }
          },
          "shapedefaults": {
           "line": {
            "color": "#2a3f5f"
           }
          },
          "ternary": {
           "aaxis": {
            "gridcolor": "white",
            "linecolor": "white",
            "ticks": ""
           },
           "baxis": {
            "gridcolor": "white",
            "linecolor": "white",
            "ticks": ""
           },
           "bgcolor": "#E5ECF6",
           "caxis": {
            "gridcolor": "white",
            "linecolor": "white",
            "ticks": ""
           }
          },
          "title": {
           "x": 0.05
          },
          "xaxis": {
           "automargin": true,
           "gridcolor": "white",
           "linecolor": "white",
           "ticks": "",
           "title": {
            "standoff": 15
           },
           "zerolinecolor": "white",
           "zerolinewidth": 2
          },
          "yaxis": {
           "automargin": true,
           "gridcolor": "white",
           "linecolor": "white",
           "ticks": "",
           "title": {
            "standoff": 15
           },
           "zerolinecolor": "white",
           "zerolinewidth": 2
          }
         }
        },
        "title": {
         "text": "Feature Loadings for Principal Component 1"
        },
        "xaxis": {
         "anchor": "y",
         "domain": [
          0,
          1
         ],
         "tickangle": -45,
         "title": {
          "text": "Features"
         }
        },
        "yaxis": {
         "anchor": "x",
         "domain": [
          0,
          1
         ],
         "title": {
          "text": "Loadings for PC1"
         }
        }
       }
      }
     },
     "metadata": {},
     "output_type": "display_data"
    },
    {
     "data": {
      "application/vnd.plotly.v1+json": {
       "config": {
        "plotlyServerURL": "https://plot.ly"
       },
       "data": [
        {
         "alignmentgroup": "True",
         "hovertemplate": "Features=%{x}<br>Loadings for PC2=%{y}<extra></extra>",
         "legendgroup": "",
         "marker": {
          "color": "#636efa",
          "pattern": {
           "shape": ""
          }
         },
         "name": "",
         "offsetgroup": "",
         "orientation": "v",
         "showlegend": false,
         "textposition": "auto",
         "type": "bar",
         "x": [
          "Atr1",
          "Atr2",
          "Atr3",
          "Atr4",
          "Atr5",
          "Atr6",
          "Atr7",
          "Atr8",
          "Atr9",
          "Atr10",
          "Atr11",
          "Atr12",
          "Atr13",
          "Atr14",
          "Atr15",
          "Atr16",
          "Atr17",
          "Atr18",
          "Atr19",
          "Atr20",
          "Atr21",
          "Atr22",
          "Atr23",
          "Atr24",
          "Atr25",
          "Atr26",
          "Atr27",
          "Atr28",
          "Atr29",
          "Atr30",
          "Atr31",
          "Atr32",
          "Atr33",
          "Atr34",
          "Atr35",
          "Atr36",
          "Atr37",
          "Atr38",
          "Atr39",
          "Atr40",
          "Atr41",
          "Atr42",
          "Atr43",
          "Atr44",
          "Atr45",
          "Atr46",
          "Atr47",
          "Atr48",
          "Atr49",
          "Atr50",
          "Atr51",
          "Atr52",
          "Atr53",
          "Atr54"
         ],
         "xaxis": "x",
         "y": [
          -0.10317007069004093,
          -0.1166471960917044,
          -0.16954200437057154,
          -0.1483982611256558,
          -0.002749055820294055,
          -0.09291607549861264,
          -0.31852350666830187,
          -0.06908089413027142,
          -0.07506611884466002,
          -0.1799887340180948,
          -0.08723545608322164,
          -0.15745703689146984,
          -0.04220843427095369,
          -0.11213160488710691,
          -0.10774719918985694,
          -0.15196617731015902,
          -0.059950178863774226,
          -0.13747387848525613,
          -0.05298284142584672,
          -0.11420796991954155,
          0.005272185710127785,
          0.0002075918942793103,
          0.11767583161328378,
          -0.053909444484874294,
          0.023226613775767246,
          -0.07338783514080433,
          -0.011071478954829078,
          -0.02426006695430376,
          0.046031884857399834,
          -0.0803034991302572,
          0.054748268031275055,
          -0.02370765013365432,
          0.06040735155577472,
          0.06542694142674169,
          0.09277188398925712,
          0.07686050210963698,
          -0.022044453719834503,
          0.007165018426417318,
          -0.02103484281742485,
          -0.03769691465509219,
          0.007039915032846458,
          0.1605326960500942,
          0.30725163148748874,
          0.08046242036671387,
          0.3247034983590524,
          0.4131489659272269,
          0.2750089577194605,
          0.08792634129084528,
          0.11975708415177602,
          0.10709751169386651,
          0.11589355884043599,
          0.20863099889237285,
          0.11491895076926881,
          0.09862790146866406
         ],
         "yaxis": "y"
        }
       ],
       "layout": {
        "barmode": "relative",
        "legend": {
         "tracegroupgap": 0
        },
        "template": {
         "data": {
          "bar": [
           {
            "error_x": {
             "color": "#2a3f5f"
            },
            "error_y": {
             "color": "#2a3f5f"
            },
            "marker": {
             "line": {
              "color": "#E5ECF6",
              "width": 0.5
             },
             "pattern": {
              "fillmode": "overlay",
              "size": 10,
              "solidity": 0.2
             }
            },
            "type": "bar"
           }
          ],
          "barpolar": [
           {
            "marker": {
             "line": {
              "color": "#E5ECF6",
              "width": 0.5
             },
             "pattern": {
              "fillmode": "overlay",
              "size": 10,
              "solidity": 0.2
             }
            },
            "type": "barpolar"
           }
          ],
          "carpet": [
           {
            "aaxis": {
             "endlinecolor": "#2a3f5f",
             "gridcolor": "white",
             "linecolor": "white",
             "minorgridcolor": "white",
             "startlinecolor": "#2a3f5f"
            },
            "baxis": {
             "endlinecolor": "#2a3f5f",
             "gridcolor": "white",
             "linecolor": "white",
             "minorgridcolor": "white",
             "startlinecolor": "#2a3f5f"
            },
            "type": "carpet"
           }
          ],
          "choropleth": [
           {
            "colorbar": {
             "outlinewidth": 0,
             "ticks": ""
            },
            "type": "choropleth"
           }
          ],
          "contour": [
           {
            "colorbar": {
             "outlinewidth": 0,
             "ticks": ""
            },
            "colorscale": [
             [
              0,
              "#0d0887"
             ],
             [
              0.1111111111111111,
              "#46039f"
             ],
             [
              0.2222222222222222,
              "#7201a8"
             ],
             [
              0.3333333333333333,
              "#9c179e"
             ],
             [
              0.4444444444444444,
              "#bd3786"
             ],
             [
              0.5555555555555556,
              "#d8576b"
             ],
             [
              0.6666666666666666,
              "#ed7953"
             ],
             [
              0.7777777777777778,
              "#fb9f3a"
             ],
             [
              0.8888888888888888,
              "#fdca26"
             ],
             [
              1,
              "#f0f921"
             ]
            ],
            "type": "contour"
           }
          ],
          "contourcarpet": [
           {
            "colorbar": {
             "outlinewidth": 0,
             "ticks": ""
            },
            "type": "contourcarpet"
           }
          ],
          "heatmap": [
           {
            "colorbar": {
             "outlinewidth": 0,
             "ticks": ""
            },
            "colorscale": [
             [
              0,
              "#0d0887"
             ],
             [
              0.1111111111111111,
              "#46039f"
             ],
             [
              0.2222222222222222,
              "#7201a8"
             ],
             [
              0.3333333333333333,
              "#9c179e"
             ],
             [
              0.4444444444444444,
              "#bd3786"
             ],
             [
              0.5555555555555556,
              "#d8576b"
             ],
             [
              0.6666666666666666,
              "#ed7953"
             ],
             [
              0.7777777777777778,
              "#fb9f3a"
             ],
             [
              0.8888888888888888,
              "#fdca26"
             ],
             [
              1,
              "#f0f921"
             ]
            ],
            "type": "heatmap"
           }
          ],
          "heatmapgl": [
           {
            "colorbar": {
             "outlinewidth": 0,
             "ticks": ""
            },
            "colorscale": [
             [
              0,
              "#0d0887"
             ],
             [
              0.1111111111111111,
              "#46039f"
             ],
             [
              0.2222222222222222,
              "#7201a8"
             ],
             [
              0.3333333333333333,
              "#9c179e"
             ],
             [
              0.4444444444444444,
              "#bd3786"
             ],
             [
              0.5555555555555556,
              "#d8576b"
             ],
             [
              0.6666666666666666,
              "#ed7953"
             ],
             [
              0.7777777777777778,
              "#fb9f3a"
             ],
             [
              0.8888888888888888,
              "#fdca26"
             ],
             [
              1,
              "#f0f921"
             ]
            ],
            "type": "heatmapgl"
           }
          ],
          "histogram": [
           {
            "marker": {
             "pattern": {
              "fillmode": "overlay",
              "size": 10,
              "solidity": 0.2
             }
            },
            "type": "histogram"
           }
          ],
          "histogram2d": [
           {
            "colorbar": {
             "outlinewidth": 0,
             "ticks": ""
            },
            "colorscale": [
             [
              0,
              "#0d0887"
             ],
             [
              0.1111111111111111,
              "#46039f"
             ],
             [
              0.2222222222222222,
              "#7201a8"
             ],
             [
              0.3333333333333333,
              "#9c179e"
             ],
             [
              0.4444444444444444,
              "#bd3786"
             ],
             [
              0.5555555555555556,
              "#d8576b"
             ],
             [
              0.6666666666666666,
              "#ed7953"
             ],
             [
              0.7777777777777778,
              "#fb9f3a"
             ],
             [
              0.8888888888888888,
              "#fdca26"
             ],
             [
              1,
              "#f0f921"
             ]
            ],
            "type": "histogram2d"
           }
          ],
          "histogram2dcontour": [
           {
            "colorbar": {
             "outlinewidth": 0,
             "ticks": ""
            },
            "colorscale": [
             [
              0,
              "#0d0887"
             ],
             [
              0.1111111111111111,
              "#46039f"
             ],
             [
              0.2222222222222222,
              "#7201a8"
             ],
             [
              0.3333333333333333,
              "#9c179e"
             ],
             [
              0.4444444444444444,
              "#bd3786"
             ],
             [
              0.5555555555555556,
              "#d8576b"
             ],
             [
              0.6666666666666666,
              "#ed7953"
             ],
             [
              0.7777777777777778,
              "#fb9f3a"
             ],
             [
              0.8888888888888888,
              "#fdca26"
             ],
             [
              1,
              "#f0f921"
             ]
            ],
            "type": "histogram2dcontour"
           }
          ],
          "mesh3d": [
           {
            "colorbar": {
             "outlinewidth": 0,
             "ticks": ""
            },
            "type": "mesh3d"
           }
          ],
          "parcoords": [
           {
            "line": {
             "colorbar": {
              "outlinewidth": 0,
              "ticks": ""
             }
            },
            "type": "parcoords"
           }
          ],
          "pie": [
           {
            "automargin": true,
            "type": "pie"
           }
          ],
          "scatter": [
           {
            "fillpattern": {
             "fillmode": "overlay",
             "size": 10,
             "solidity": 0.2
            },
            "type": "scatter"
           }
          ],
          "scatter3d": [
           {
            "line": {
             "colorbar": {
              "outlinewidth": 0,
              "ticks": ""
             }
            },
            "marker": {
             "colorbar": {
              "outlinewidth": 0,
              "ticks": ""
             }
            },
            "type": "scatter3d"
           }
          ],
          "scattercarpet": [
           {
            "marker": {
             "colorbar": {
              "outlinewidth": 0,
              "ticks": ""
             }
            },
            "type": "scattercarpet"
           }
          ],
          "scattergeo": [
           {
            "marker": {
             "colorbar": {
              "outlinewidth": 0,
              "ticks": ""
             }
            },
            "type": "scattergeo"
           }
          ],
          "scattergl": [
           {
            "marker": {
             "colorbar": {
              "outlinewidth": 0,
              "ticks": ""
             }
            },
            "type": "scattergl"
           }
          ],
          "scattermapbox": [
           {
            "marker": {
             "colorbar": {
              "outlinewidth": 0,
              "ticks": ""
             }
            },
            "type": "scattermapbox"
           }
          ],
          "scatterpolar": [
           {
            "marker": {
             "colorbar": {
              "outlinewidth": 0,
              "ticks": ""
             }
            },
            "type": "scatterpolar"
           }
          ],
          "scatterpolargl": [
           {
            "marker": {
             "colorbar": {
              "outlinewidth": 0,
              "ticks": ""
             }
            },
            "type": "scatterpolargl"
           }
          ],
          "scatterternary": [
           {
            "marker": {
             "colorbar": {
              "outlinewidth": 0,
              "ticks": ""
             }
            },
            "type": "scatterternary"
           }
          ],
          "surface": [
           {
            "colorbar": {
             "outlinewidth": 0,
             "ticks": ""
            },
            "colorscale": [
             [
              0,
              "#0d0887"
             ],
             [
              0.1111111111111111,
              "#46039f"
             ],
             [
              0.2222222222222222,
              "#7201a8"
             ],
             [
              0.3333333333333333,
              "#9c179e"
             ],
             [
              0.4444444444444444,
              "#bd3786"
             ],
             [
              0.5555555555555556,
              "#d8576b"
             ],
             [
              0.6666666666666666,
              "#ed7953"
             ],
             [
              0.7777777777777778,
              "#fb9f3a"
             ],
             [
              0.8888888888888888,
              "#fdca26"
             ],
             [
              1,
              "#f0f921"
             ]
            ],
            "type": "surface"
           }
          ],
          "table": [
           {
            "cells": {
             "fill": {
              "color": "#EBF0F8"
             },
             "line": {
              "color": "white"
             }
            },
            "header": {
             "fill": {
              "color": "#C8D4E3"
             },
             "line": {
              "color": "white"
             }
            },
            "type": "table"
           }
          ]
         },
         "layout": {
          "annotationdefaults": {
           "arrowcolor": "#2a3f5f",
           "arrowhead": 0,
           "arrowwidth": 1
          },
          "autotypenumbers": "strict",
          "coloraxis": {
           "colorbar": {
            "outlinewidth": 0,
            "ticks": ""
           }
          },
          "colorscale": {
           "diverging": [
            [
             0,
             "#8e0152"
            ],
            [
             0.1,
             "#c51b7d"
            ],
            [
             0.2,
             "#de77ae"
            ],
            [
             0.3,
             "#f1b6da"
            ],
            [
             0.4,
             "#fde0ef"
            ],
            [
             0.5,
             "#f7f7f7"
            ],
            [
             0.6,
             "#e6f5d0"
            ],
            [
             0.7,
             "#b8e186"
            ],
            [
             0.8,
             "#7fbc41"
            ],
            [
             0.9,
             "#4d9221"
            ],
            [
             1,
             "#276419"
            ]
           ],
           "sequential": [
            [
             0,
             "#0d0887"
            ],
            [
             0.1111111111111111,
             "#46039f"
            ],
            [
             0.2222222222222222,
             "#7201a8"
            ],
            [
             0.3333333333333333,
             "#9c179e"
            ],
            [
             0.4444444444444444,
             "#bd3786"
            ],
            [
             0.5555555555555556,
             "#d8576b"
            ],
            [
             0.6666666666666666,
             "#ed7953"
            ],
            [
             0.7777777777777778,
             "#fb9f3a"
            ],
            [
             0.8888888888888888,
             "#fdca26"
            ],
            [
             1,
             "#f0f921"
            ]
           ],
           "sequentialminus": [
            [
             0,
             "#0d0887"
            ],
            [
             0.1111111111111111,
             "#46039f"
            ],
            [
             0.2222222222222222,
             "#7201a8"
            ],
            [
             0.3333333333333333,
             "#9c179e"
            ],
            [
             0.4444444444444444,
             "#bd3786"
            ],
            [
             0.5555555555555556,
             "#d8576b"
            ],
            [
             0.6666666666666666,
             "#ed7953"
            ],
            [
             0.7777777777777778,
             "#fb9f3a"
            ],
            [
             0.8888888888888888,
             "#fdca26"
            ],
            [
             1,
             "#f0f921"
            ]
           ]
          },
          "colorway": [
           "#636efa",
           "#EF553B",
           "#00cc96",
           "#ab63fa",
           "#FFA15A",
           "#19d3f3",
           "#FF6692",
           "#B6E880",
           "#FF97FF",
           "#FECB52"
          ],
          "font": {
           "color": "#2a3f5f"
          },
          "geo": {
           "bgcolor": "white",
           "lakecolor": "white",
           "landcolor": "#E5ECF6",
           "showlakes": true,
           "showland": true,
           "subunitcolor": "white"
          },
          "hoverlabel": {
           "align": "left"
          },
          "hovermode": "closest",
          "mapbox": {
           "style": "light"
          },
          "paper_bgcolor": "white",
          "plot_bgcolor": "#E5ECF6",
          "polar": {
           "angularaxis": {
            "gridcolor": "white",
            "linecolor": "white",
            "ticks": ""
           },
           "bgcolor": "#E5ECF6",
           "radialaxis": {
            "gridcolor": "white",
            "linecolor": "white",
            "ticks": ""
           }
          },
          "scene": {
           "xaxis": {
            "backgroundcolor": "#E5ECF6",
            "gridcolor": "white",
            "gridwidth": 2,
            "linecolor": "white",
            "showbackground": true,
            "ticks": "",
            "zerolinecolor": "white"
           },
           "yaxis": {
            "backgroundcolor": "#E5ECF6",
            "gridcolor": "white",
            "gridwidth": 2,
            "linecolor": "white",
            "showbackground": true,
            "ticks": "",
            "zerolinecolor": "white"
           },
           "zaxis": {
            "backgroundcolor": "#E5ECF6",
            "gridcolor": "white",
            "gridwidth": 2,
            "linecolor": "white",
            "showbackground": true,
            "ticks": "",
            "zerolinecolor": "white"
           }
          },
          "shapedefaults": {
           "line": {
            "color": "#2a3f5f"
           }
          },
          "ternary": {
           "aaxis": {
            "gridcolor": "white",
            "linecolor": "white",
            "ticks": ""
           },
           "baxis": {
            "gridcolor": "white",
            "linecolor": "white",
            "ticks": ""
           },
           "bgcolor": "#E5ECF6",
           "caxis": {
            "gridcolor": "white",
            "linecolor": "white",
            "ticks": ""
           }
          },
          "title": {
           "x": 0.05
          },
          "xaxis": {
           "automargin": true,
           "gridcolor": "white",
           "linecolor": "white",
           "ticks": "",
           "title": {
            "standoff": 15
           },
           "zerolinecolor": "white",
           "zerolinewidth": 2
          },
          "yaxis": {
           "automargin": true,
           "gridcolor": "white",
           "linecolor": "white",
           "ticks": "",
           "title": {
            "standoff": 15
           },
           "zerolinecolor": "white",
           "zerolinewidth": 2
          }
         }
        },
        "title": {
         "text": "Feature Loadings for Principal Component 2"
        },
        "xaxis": {
         "anchor": "y",
         "domain": [
          0,
          1
         ],
         "tickangle": -45,
         "title": {
          "text": "Features"
         }
        },
        "yaxis": {
         "anchor": "x",
         "domain": [
          0,
          1
         ],
         "title": {
          "text": "Loadings for PC2"
         }
        }
       }
      }
     },
     "metadata": {},
     "output_type": "display_data"
    },
    {
     "data": {
      "application/vnd.plotly.v1+json": {
       "config": {
        "plotlyServerURL": "https://plot.ly"
       },
       "data": [
        {
         "alignmentgroup": "True",
         "hovertemplate": "Features=%{x}<br>Loadings for PC3=%{y}<extra></extra>",
         "legendgroup": "",
         "marker": {
          "color": "#636efa",
          "pattern": {
           "shape": ""
          }
         },
         "name": "",
         "offsetgroup": "",
         "orientation": "v",
         "showlegend": false,
         "textposition": "auto",
         "type": "bar",
         "x": [
          "Atr1",
          "Atr2",
          "Atr3",
          "Atr4",
          "Atr5",
          "Atr6",
          "Atr7",
          "Atr8",
          "Atr9",
          "Atr10",
          "Atr11",
          "Atr12",
          "Atr13",
          "Atr14",
          "Atr15",
          "Atr16",
          "Atr17",
          "Atr18",
          "Atr19",
          "Atr20",
          "Atr21",
          "Atr22",
          "Atr23",
          "Atr24",
          "Atr25",
          "Atr26",
          "Atr27",
          "Atr28",
          "Atr29",
          "Atr30",
          "Atr31",
          "Atr32",
          "Atr33",
          "Atr34",
          "Atr35",
          "Atr36",
          "Atr37",
          "Atr38",
          "Atr39",
          "Atr40",
          "Atr41",
          "Atr42",
          "Atr43",
          "Atr44",
          "Atr45",
          "Atr46",
          "Atr47",
          "Atr48",
          "Atr49",
          "Atr50",
          "Atr51",
          "Atr52",
          "Atr53",
          "Atr54"
         ],
         "xaxis": "x",
         "y": [
          -0.012296585668756682,
          -0.1612775648064102,
          0.018736852491759354,
          -0.03577707840823657,
          0.0012250439872058538,
          0.34057592874197873,
          0.08995721987864236,
          -0.11910415605863722,
          -0.04499496771291517,
          -0.06132887827690259,
          0.0064994360008103005,
          -0.13981197413508906,
          -0.025729624967349048,
          -0.14552388797770116,
          -0.08251488956694181,
          -0.07804176296846761,
          -0.017699703920731537,
          -0.12914116223760425,
          -0.02835940044669918,
          -0.09060568699421975,
          -0.04737608029000156,
          -0.07514110725417876,
          -0.044913181409342716,
          -0.15161546947795326,
          -0.03218675227078822,
          -0.18025084712859496,
          -0.10340379955633952,
          -0.0783414468882879,
          -0.03909174155168328,
          -0.07660002889668815,
          0.18172235250927732,
          0.2108555763086531,
          0.16422963547989197,
          0.22568513686764402,
          0.10461501325954768,
          0.12433531779011563,
          0.1916217518172423,
          0.13742709673604922,
          0.06714682684581344,
          0.11337602576609981,
          0.07618916469144615,
          -0.10200502849299965,
          -0.302006322530141,
          -0.01596897257600025,
          -0.266308584196934,
          -0.08659139016390405,
          -0.12786451070720714,
          0.17081304045635856,
          0.01979679655269292,
          0.07953526685908745,
          0.18987183292339183,
          0.17083076057646351,
          0.27731790714919907,
          0.14810795395973136
         ],
         "yaxis": "y"
        }
       ],
       "layout": {
        "barmode": "relative",
        "legend": {
         "tracegroupgap": 0
        },
        "template": {
         "data": {
          "bar": [
           {
            "error_x": {
             "color": "#2a3f5f"
            },
            "error_y": {
             "color": "#2a3f5f"
            },
            "marker": {
             "line": {
              "color": "#E5ECF6",
              "width": 0.5
             },
             "pattern": {
              "fillmode": "overlay",
              "size": 10,
              "solidity": 0.2
             }
            },
            "type": "bar"
           }
          ],
          "barpolar": [
           {
            "marker": {
             "line": {
              "color": "#E5ECF6",
              "width": 0.5
             },
             "pattern": {
              "fillmode": "overlay",
              "size": 10,
              "solidity": 0.2
             }
            },
            "type": "barpolar"
           }
          ],
          "carpet": [
           {
            "aaxis": {
             "endlinecolor": "#2a3f5f",
             "gridcolor": "white",
             "linecolor": "white",
             "minorgridcolor": "white",
             "startlinecolor": "#2a3f5f"
            },
            "baxis": {
             "endlinecolor": "#2a3f5f",
             "gridcolor": "white",
             "linecolor": "white",
             "minorgridcolor": "white",
             "startlinecolor": "#2a3f5f"
            },
            "type": "carpet"
           }
          ],
          "choropleth": [
           {
            "colorbar": {
             "outlinewidth": 0,
             "ticks": ""
            },
            "type": "choropleth"
           }
          ],
          "contour": [
           {
            "colorbar": {
             "outlinewidth": 0,
             "ticks": ""
            },
            "colorscale": [
             [
              0,
              "#0d0887"
             ],
             [
              0.1111111111111111,
              "#46039f"
             ],
             [
              0.2222222222222222,
              "#7201a8"
             ],
             [
              0.3333333333333333,
              "#9c179e"
             ],
             [
              0.4444444444444444,
              "#bd3786"
             ],
             [
              0.5555555555555556,
              "#d8576b"
             ],
             [
              0.6666666666666666,
              "#ed7953"
             ],
             [
              0.7777777777777778,
              "#fb9f3a"
             ],
             [
              0.8888888888888888,
              "#fdca26"
             ],
             [
              1,
              "#f0f921"
             ]
            ],
            "type": "contour"
           }
          ],
          "contourcarpet": [
           {
            "colorbar": {
             "outlinewidth": 0,
             "ticks": ""
            },
            "type": "contourcarpet"
           }
          ],
          "heatmap": [
           {
            "colorbar": {
             "outlinewidth": 0,
             "ticks": ""
            },
            "colorscale": [
             [
              0,
              "#0d0887"
             ],
             [
              0.1111111111111111,
              "#46039f"
             ],
             [
              0.2222222222222222,
              "#7201a8"
             ],
             [
              0.3333333333333333,
              "#9c179e"
             ],
             [
              0.4444444444444444,
              "#bd3786"
             ],
             [
              0.5555555555555556,
              "#d8576b"
             ],
             [
              0.6666666666666666,
              "#ed7953"
             ],
             [
              0.7777777777777778,
              "#fb9f3a"
             ],
             [
              0.8888888888888888,
              "#fdca26"
             ],
             [
              1,
              "#f0f921"
             ]
            ],
            "type": "heatmap"
           }
          ],
          "heatmapgl": [
           {
            "colorbar": {
             "outlinewidth": 0,
             "ticks": ""
            },
            "colorscale": [
             [
              0,
              "#0d0887"
             ],
             [
              0.1111111111111111,
              "#46039f"
             ],
             [
              0.2222222222222222,
              "#7201a8"
             ],
             [
              0.3333333333333333,
              "#9c179e"
             ],
             [
              0.4444444444444444,
              "#bd3786"
             ],
             [
              0.5555555555555556,
              "#d8576b"
             ],
             [
              0.6666666666666666,
              "#ed7953"
             ],
             [
              0.7777777777777778,
              "#fb9f3a"
             ],
             [
              0.8888888888888888,
              "#fdca26"
             ],
             [
              1,
              "#f0f921"
             ]
            ],
            "type": "heatmapgl"
           }
          ],
          "histogram": [
           {
            "marker": {
             "pattern": {
              "fillmode": "overlay",
              "size": 10,
              "solidity": 0.2
             }
            },
            "type": "histogram"
           }
          ],
          "histogram2d": [
           {
            "colorbar": {
             "outlinewidth": 0,
             "ticks": ""
            },
            "colorscale": [
             [
              0,
              "#0d0887"
             ],
             [
              0.1111111111111111,
              "#46039f"
             ],
             [
              0.2222222222222222,
              "#7201a8"
             ],
             [
              0.3333333333333333,
              "#9c179e"
             ],
             [
              0.4444444444444444,
              "#bd3786"
             ],
             [
              0.5555555555555556,
              "#d8576b"
             ],
             [
              0.6666666666666666,
              "#ed7953"
             ],
             [
              0.7777777777777778,
              "#fb9f3a"
             ],
             [
              0.8888888888888888,
              "#fdca26"
             ],
             [
              1,
              "#f0f921"
             ]
            ],
            "type": "histogram2d"
           }
          ],
          "histogram2dcontour": [
           {
            "colorbar": {
             "outlinewidth": 0,
             "ticks": ""
            },
            "colorscale": [
             [
              0,
              "#0d0887"
             ],
             [
              0.1111111111111111,
              "#46039f"
             ],
             [
              0.2222222222222222,
              "#7201a8"
             ],
             [
              0.3333333333333333,
              "#9c179e"
             ],
             [
              0.4444444444444444,
              "#bd3786"
             ],
             [
              0.5555555555555556,
              "#d8576b"
             ],
             [
              0.6666666666666666,
              "#ed7953"
             ],
             [
              0.7777777777777778,
              "#fb9f3a"
             ],
             [
              0.8888888888888888,
              "#fdca26"
             ],
             [
              1,
              "#f0f921"
             ]
            ],
            "type": "histogram2dcontour"
           }
          ],
          "mesh3d": [
           {
            "colorbar": {
             "outlinewidth": 0,
             "ticks": ""
            },
            "type": "mesh3d"
           }
          ],
          "parcoords": [
           {
            "line": {
             "colorbar": {
              "outlinewidth": 0,
              "ticks": ""
             }
            },
            "type": "parcoords"
           }
          ],
          "pie": [
           {
            "automargin": true,
            "type": "pie"
           }
          ],
          "scatter": [
           {
            "fillpattern": {
             "fillmode": "overlay",
             "size": 10,
             "solidity": 0.2
            },
            "type": "scatter"
           }
          ],
          "scatter3d": [
           {
            "line": {
             "colorbar": {
              "outlinewidth": 0,
              "ticks": ""
             }
            },
            "marker": {
             "colorbar": {
              "outlinewidth": 0,
              "ticks": ""
             }
            },
            "type": "scatter3d"
           }
          ],
          "scattercarpet": [
           {
            "marker": {
             "colorbar": {
              "outlinewidth": 0,
              "ticks": ""
             }
            },
            "type": "scattercarpet"
           }
          ],
          "scattergeo": [
           {
            "marker": {
             "colorbar": {
              "outlinewidth": 0,
              "ticks": ""
             }
            },
            "type": "scattergeo"
           }
          ],
          "scattergl": [
           {
            "marker": {
             "colorbar": {
              "outlinewidth": 0,
              "ticks": ""
             }
            },
            "type": "scattergl"
           }
          ],
          "scattermapbox": [
           {
            "marker": {
             "colorbar": {
              "outlinewidth": 0,
              "ticks": ""
             }
            },
            "type": "scattermapbox"
           }
          ],
          "scatterpolar": [
           {
            "marker": {
             "colorbar": {
              "outlinewidth": 0,
              "ticks": ""
             }
            },
            "type": "scatterpolar"
           }
          ],
          "scatterpolargl": [
           {
            "marker": {
             "colorbar": {
              "outlinewidth": 0,
              "ticks": ""
             }
            },
            "type": "scatterpolargl"
           }
          ],
          "scatterternary": [
           {
            "marker": {
             "colorbar": {
              "outlinewidth": 0,
              "ticks": ""
             }
            },
            "type": "scatterternary"
           }
          ],
          "surface": [
           {
            "colorbar": {
             "outlinewidth": 0,
             "ticks": ""
            },
            "colorscale": [
             [
              0,
              "#0d0887"
             ],
             [
              0.1111111111111111,
              "#46039f"
             ],
             [
              0.2222222222222222,
              "#7201a8"
             ],
             [
              0.3333333333333333,
              "#9c179e"
             ],
             [
              0.4444444444444444,
              "#bd3786"
             ],
             [
              0.5555555555555556,
              "#d8576b"
             ],
             [
              0.6666666666666666,
              "#ed7953"
             ],
             [
              0.7777777777777778,
              "#fb9f3a"
             ],
             [
              0.8888888888888888,
              "#fdca26"
             ],
             [
              1,
              "#f0f921"
             ]
            ],
            "type": "surface"
           }
          ],
          "table": [
           {
            "cells": {
             "fill": {
              "color": "#EBF0F8"
             },
             "line": {
              "color": "white"
             }
            },
            "header": {
             "fill": {
              "color": "#C8D4E3"
             },
             "line": {
              "color": "white"
             }
            },
            "type": "table"
           }
          ]
         },
         "layout": {
          "annotationdefaults": {
           "arrowcolor": "#2a3f5f",
           "arrowhead": 0,
           "arrowwidth": 1
          },
          "autotypenumbers": "strict",
          "coloraxis": {
           "colorbar": {
            "outlinewidth": 0,
            "ticks": ""
           }
          },
          "colorscale": {
           "diverging": [
            [
             0,
             "#8e0152"
            ],
            [
             0.1,
             "#c51b7d"
            ],
            [
             0.2,
             "#de77ae"
            ],
            [
             0.3,
             "#f1b6da"
            ],
            [
             0.4,
             "#fde0ef"
            ],
            [
             0.5,
             "#f7f7f7"
            ],
            [
             0.6,
             "#e6f5d0"
            ],
            [
             0.7,
             "#b8e186"
            ],
            [
             0.8,
             "#7fbc41"
            ],
            [
             0.9,
             "#4d9221"
            ],
            [
             1,
             "#276419"
            ]
           ],
           "sequential": [
            [
             0,
             "#0d0887"
            ],
            [
             0.1111111111111111,
             "#46039f"
            ],
            [
             0.2222222222222222,
             "#7201a8"
            ],
            [
             0.3333333333333333,
             "#9c179e"
            ],
            [
             0.4444444444444444,
             "#bd3786"
            ],
            [
             0.5555555555555556,
             "#d8576b"
            ],
            [
             0.6666666666666666,
             "#ed7953"
            ],
            [
             0.7777777777777778,
             "#fb9f3a"
            ],
            [
             0.8888888888888888,
             "#fdca26"
            ],
            [
             1,
             "#f0f921"
            ]
           ],
           "sequentialminus": [
            [
             0,
             "#0d0887"
            ],
            [
             0.1111111111111111,
             "#46039f"
            ],
            [
             0.2222222222222222,
             "#7201a8"
            ],
            [
             0.3333333333333333,
             "#9c179e"
            ],
            [
             0.4444444444444444,
             "#bd3786"
            ],
            [
             0.5555555555555556,
             "#d8576b"
            ],
            [
             0.6666666666666666,
             "#ed7953"
            ],
            [
             0.7777777777777778,
             "#fb9f3a"
            ],
            [
             0.8888888888888888,
             "#fdca26"
            ],
            [
             1,
             "#f0f921"
            ]
           ]
          },
          "colorway": [
           "#636efa",
           "#EF553B",
           "#00cc96",
           "#ab63fa",
           "#FFA15A",
           "#19d3f3",
           "#FF6692",
           "#B6E880",
           "#FF97FF",
           "#FECB52"
          ],
          "font": {
           "color": "#2a3f5f"
          },
          "geo": {
           "bgcolor": "white",
           "lakecolor": "white",
           "landcolor": "#E5ECF6",
           "showlakes": true,
           "showland": true,
           "subunitcolor": "white"
          },
          "hoverlabel": {
           "align": "left"
          },
          "hovermode": "closest",
          "mapbox": {
           "style": "light"
          },
          "paper_bgcolor": "white",
          "plot_bgcolor": "#E5ECF6",
          "polar": {
           "angularaxis": {
            "gridcolor": "white",
            "linecolor": "white",
            "ticks": ""
           },
           "bgcolor": "#E5ECF6",
           "radialaxis": {
            "gridcolor": "white",
            "linecolor": "white",
            "ticks": ""
           }
          },
          "scene": {
           "xaxis": {
            "backgroundcolor": "#E5ECF6",
            "gridcolor": "white",
            "gridwidth": 2,
            "linecolor": "white",
            "showbackground": true,
            "ticks": "",
            "zerolinecolor": "white"
           },
           "yaxis": {
            "backgroundcolor": "#E5ECF6",
            "gridcolor": "white",
            "gridwidth": 2,
            "linecolor": "white",
            "showbackground": true,
            "ticks": "",
            "zerolinecolor": "white"
           },
           "zaxis": {
            "backgroundcolor": "#E5ECF6",
            "gridcolor": "white",
            "gridwidth": 2,
            "linecolor": "white",
            "showbackground": true,
            "ticks": "",
            "zerolinecolor": "white"
           }
          },
          "shapedefaults": {
           "line": {
            "color": "#2a3f5f"
           }
          },
          "ternary": {
           "aaxis": {
            "gridcolor": "white",
            "linecolor": "white",
            "ticks": ""
           },
           "baxis": {
            "gridcolor": "white",
            "linecolor": "white",
            "ticks": ""
           },
           "bgcolor": "#E5ECF6",
           "caxis": {
            "gridcolor": "white",
            "linecolor": "white",
            "ticks": ""
           }
          },
          "title": {
           "x": 0.05
          },
          "xaxis": {
           "automargin": true,
           "gridcolor": "white",
           "linecolor": "white",
           "ticks": "",
           "title": {
            "standoff": 15
           },
           "zerolinecolor": "white",
           "zerolinewidth": 2
          },
          "yaxis": {
           "automargin": true,
           "gridcolor": "white",
           "linecolor": "white",
           "ticks": "",
           "title": {
            "standoff": 15
           },
           "zerolinecolor": "white",
           "zerolinewidth": 2
          }
         }
        },
        "title": {
         "text": "Feature Loadings for Principal Component 3"
        },
        "xaxis": {
         "anchor": "y",
         "domain": [
          0,
          1
         ],
         "tickangle": -45,
         "title": {
          "text": "Features"
         }
        },
        "yaxis": {
         "anchor": "x",
         "domain": [
          0,
          1
         ],
         "title": {
          "text": "Loadings for PC3"
         }
        }
       }
      }
     },
     "metadata": {},
     "output_type": "display_data"
    }
   ],
   "source": [
    "import seaborn as sns\n",
    "import matplotlib.pyplot as plt\n",
    "\n",
    "# 创建载荷矩阵\n",
    "loadings = pca.components_\n",
    "\n",
    "# 创建一个 DataFrame\n",
    "loading_matrix = pd.DataFrame(loadings, columns=X.columns, index=[f'PC{i+1}' for i in range(loadings.shape[0])])\n",
    "import plotly.express as px\n",
    "import pandas as pd\n",
    "\n",
    "# 创建载荷矩阵\n",
    "loadings = pca.components_\n",
    "\n",
    "# 创建一个 DataFrame\n",
    "loading_matrix = pd.DataFrame(loadings, columns=X.columns, index=[f'PC{i+1}' for i in range(loadings.shape[0])])\n",
    "\n",
    "# 选择前几个主成分进行可视化\n",
    "num_components = 3  # 可调整要显示的主成分数量\n",
    "\n",
    "for i in range(num_components):\n",
    "    fig = px.bar(\n",
    "        x=loading_matrix.columns,\n",
    "        y=loading_matrix.iloc[i],\n",
    "        labels={'x': 'Features', 'y': f'Loadings for PC{i+1}'},\n",
    "        title=f'Feature Loadings for Principal Component {i+1}'\n",
    "    )\n",
    "    fig.update_layout(xaxis_tickangle=-45)\n",
    "    fig.show()\n",
    "\n",
    "\n"
   ]
  },
  {
   "cell_type": "code",
   "execution_count": 33,
   "metadata": {},
   "outputs": [
    {
     "data": {
      "application/vnd.plotly.v1+json": {
       "config": {
        "plotlyServerURL": "https://plot.ly"
       },
       "data": [
        {
         "colorscale": [
          [
           0,
           "#440154"
          ],
          [
           0.1111111111111111,
           "#482878"
          ],
          [
           0.2222222222222222,
           "#3e4989"
          ],
          [
           0.3333333333333333,
           "#31688e"
          ],
          [
           0.4444444444444444,
           "#26828e"
          ],
          [
           0.5555555555555556,
           "#1f9e89"
          ],
          [
           0.6666666666666666,
           "#35b779"
          ],
          [
           0.7777777777777778,
           "#6ece58"
          ],
          [
           0.8888888888888888,
           "#b5de2b"
          ],
          [
           1,
           "#fde725"
          ]
         ],
         "showscale": true,
         "type": "heatmap",
         "x": [
          "Atr1",
          "Atr2",
          "Atr3",
          "Atr4",
          "Atr5",
          "Atr6",
          "Atr7",
          "Atr8",
          "Atr9",
          "Atr10",
          "Atr11",
          "Atr12",
          "Atr13",
          "Atr14",
          "Atr15",
          "Atr16",
          "Atr17",
          "Atr18",
          "Atr19",
          "Atr20",
          "Atr21",
          "Atr22",
          "Atr23",
          "Atr24",
          "Atr25",
          "Atr26",
          "Atr27",
          "Atr28",
          "Atr29",
          "Atr30",
          "Atr31",
          "Atr32",
          "Atr33",
          "Atr34",
          "Atr35",
          "Atr36",
          "Atr37",
          "Atr38",
          "Atr39",
          "Atr40",
          "Atr41",
          "Atr42",
          "Atr43",
          "Atr44",
          "Atr45",
          "Atr46",
          "Atr47",
          "Atr48",
          "Atr49",
          "Atr50",
          "Atr51",
          "Atr52",
          "Atr53",
          "Atr54"
         ],
         "y": [
          "PC1",
          "PC2",
          "PC3",
          "PC4",
          "PC5",
          "PC6",
          "PC7",
          "PC8",
          "PC9",
          "PC10",
          "PC11",
          "PC12",
          "PC13",
          "PC14",
          "PC15",
          "PC16",
          "PC17",
          "PC18",
          "PC19",
          "PC20"
         ],
         "z": [
          [
           0.14019425451444972,
           0.13700080701141581,
           0.1300860291684944,
           0.13477839954290677,
           0.1499078996355145,
           0.04841851236116175,
           0.07353290352743046,
           0.1451935072906563,
           0.14895534953660827,
           0.1372846855725238,
           0.14856080397676483,
           0.14247859294554896,
           0.14286802997047957,
           0.14248666378216746,
           0.14502694098889965,
           0.14321138171486056,
           0.15031298269342475,
           0.1485363567730206,
           0.15091626315574203,
           0.14894726993096336,
           0.14768034520006526,
           0.14407590931742845,
           0.14621106987531474,
           0.14339597323728856,
           0.144282158496963,
           0.14414161869590147,
           0.14685021425483372,
           0.14163389522282516,
           0.15035183255779686,
           0.14496206211605409,
           0.13290272014532567,
           0.13765445701315993,
           0.14648270341785694,
           0.14029450517914988,
           0.14741632709791663,
           0.14864486541674765,
           0.14301482616608033,
           0.14445579039917913,
           0.14521915676344135,
           0.1473860831826296,
           0.1463869854100065,
           0.12532024805342576,
           0.10041287186833758,
           0.13713395039229745,
           0.09867285538077712,
           0.08495343762743557,
           0.11867883452022411,
           0.11000495234420937,
           0.12487018810122538,
           0.12988417544162492,
           0.12248567194911886,
           0.11104409687556835,
           0.12092486244798194,
           0.1388049901423949
          ],
          [
           -0.10317007069004093,
           -0.1166471960917044,
           -0.16954200437057154,
           -0.1483982611256558,
           -0.002749055820294055,
           -0.09291607549861264,
           -0.31852350666830187,
           -0.06908089413027142,
           -0.07506611884466002,
           -0.1799887340180948,
           -0.08723545608322164,
           -0.15745703689146984,
           -0.04220843427095369,
           -0.11213160488710691,
           -0.10774719918985694,
           -0.15196617731015902,
           -0.059950178863774226,
           -0.13747387848525613,
           -0.05298284142584672,
           -0.11420796991954155,
           0.005272185710127785,
           0.0002075918942793103,
           0.11767583161328378,
           -0.053909444484874294,
           0.023226613775767246,
           -0.07338783514080433,
           -0.011071478954829078,
           -0.02426006695430376,
           0.046031884857399834,
           -0.0803034991302572,
           0.054748268031275055,
           -0.02370765013365432,
           0.06040735155577472,
           0.06542694142674169,
           0.09277188398925712,
           0.07686050210963698,
           -0.022044453719834503,
           0.007165018426417318,
           -0.02103484281742485,
           -0.03769691465509219,
           0.007039915032846458,
           0.1605326960500942,
           0.30725163148748874,
           0.08046242036671387,
           0.3247034983590524,
           0.4131489659272269,
           0.2750089577194605,
           0.08792634129084528,
           0.11975708415177602,
           0.10709751169386651,
           0.11589355884043599,
           0.20863099889237285,
           0.11491895076926881,
           0.09862790146866406
          ],
          [
           -0.012296585668756682,
           -0.1612775648064102,
           0.018736852491759354,
           -0.03577707840823657,
           0.0012250439872058538,
           0.34057592874197873,
           0.08995721987864236,
           -0.11910415605863722,
           -0.04499496771291517,
           -0.06132887827690259,
           0.0064994360008103005,
           -0.13981197413508906,
           -0.025729624967349048,
           -0.14552388797770116,
           -0.08251488956694181,
           -0.07804176296846761,
           -0.017699703920731537,
           -0.12914116223760425,
           -0.02835940044669918,
           -0.09060568699421975,
           -0.04737608029000156,
           -0.07514110725417876,
           -0.044913181409342716,
           -0.15161546947795326,
           -0.03218675227078822,
           -0.18025084712859496,
           -0.10340379955633952,
           -0.0783414468882879,
           -0.03909174155168328,
           -0.07660002889668815,
           0.18172235250927732,
           0.2108555763086531,
           0.16422963547989197,
           0.22568513686764402,
           0.10461501325954768,
           0.12433531779011563,
           0.1916217518172423,
           0.13742709673604922,
           0.06714682684581344,
           0.11337602576609981,
           0.07618916469144615,
           -0.10200502849299965,
           -0.302006322530141,
           -0.01596897257600025,
           -0.266308584196934,
           -0.08659139016390405,
           -0.12786451070720714,
           0.17081304045635856,
           0.01979679655269292,
           0.07953526685908745,
           0.18987183292339183,
           0.17083076057646351,
           0.27731790714919907,
           0.14810795395973136
          ],
          [
           -0.016368168233686812,
           -0.15501708135370798,
           -0.04252299403681498,
           -0.08396621679332843,
           -0.010995629073710877,
           0.6752984053882098,
           0.42616324931494554,
           -0.09629439772149545,
           0.05131036950821777,
           -0.005570893976779845,
           0.012690579179351624,
           -0.02911622583863864,
           0.010623201897910273,
           -0.030698688998819508,
           0.08849297141473116,
           0.07222311331965266,
           0.08091760269060648,
           0.0067004463834576,
           0.07696637260806835,
           -0.03361957868254012,
           -0.012989983288715418,
           -0.07644688757258404,
           -0.04934601320732559,
           -0.06745552628084714,
           -0.035675486105119135,
           -0.048070280489845046,
           0.0344757045554857,
           -0.05785048617437122,
           0.005453022496274742,
           -0.050300339764528905,
           -0.08300560989056209,
           -0.030198369301988024,
           -0.06305167429188585,
           -0.08598519683121178,
           -0.05080807277506136,
           -0.042818106290606374,
           -0.07098422163779526,
           -0.017935253635714396,
           0.027580162295332725,
           0.0604360967116588,
           0.03850772143762551,
           0.15427077215220442,
           0.24880592553367822,
           0.15853140196716542,
           0.21755260243247493,
           0.09093103886651893,
           0.12533371566826304,
           -0.08519748695129517,
           -0.05640505745786524,
           -0.07701436295154687,
           -0.1201845055373179,
           -0.053210502739398195,
           -0.1085959486628206,
           -0.04778903690095064
          ],
          [
           0.03270386885149743,
           0.13264553638990131,
           0.1585365262045848,
           0.1308579518203218,
           -0.023207949898447544,
           -0.16783701766259998,
           0.3954754170138137,
           -0.009043425149010298,
           0.024701423833901948,
           0.00212515750089598,
           -0.07616863225924797,
           0.03556670803472484,
           -0.08622770188216405,
           0.013481458426309989,
           -0.03037159310650893,
           0.03178639924738608,
           -0.07470195445719938,
           0.024632369088028443,
           -0.06344271677801662,
           0.061146072742713886,
           -0.06854990455044602,
           -0.06987318827730865,
           -0.17732258478589766,
           0.009540392477633285,
           -0.1888087661237316,
           -0.04127222228513404,
           -0.007879338234946428,
           -0.1578909929519477,
           -0.144646743981132,
           -0.05788414254224619,
           -0.13061397904408972,
           0.03486222335275642,
           -0.056553670577931044,
           -0.10841743507735935,
           -0.1341355630745605,
           -0.07449101064313164,
           -0.04828763089107468,
           -0.08037874813070083,
           -0.005697070060417599,
           -0.017579235605027572,
           -0.12072025312122867,
           0.05255064581899611,
           -0.03643691506772782,
           -0.008061649043761339,
           0.09461292865349079,
           0.10832112537389166,
           0.11876397758509286,
           0.4331925985796828,
           0.2451945765052456,
           0.28760646398590595,
           0.37142840974316527,
           0.0009797861296892264,
           -0.025017479183438343,
           -0.08045114481322972
          ],
          [
           -0.14605585135113416,
           0.06201217129418068,
           -0.11529299382570968,
           -0.09952749855019047,
           -0.10390726850500331,
           -0.07829536571661405,
           0.29986752100587316,
           0.16705906278745414,
           0.03872949339899914,
           -0.06520287284657295,
           -0.07746601132501862,
           0.053985859414435344,
           -0.09815936635665601,
           0.1543225901189884,
           -0.03610350269238391,
           0.03273680619192823,
           -0.08435924310936298,
           0.11105900517643012,
           -0.06782060148887586,
           0.12327409809952825,
           0.024996901817012144,
           0.0467614751782519,
           -0.0748889701185992,
           0.16035178440365086,
           -0.18780268835056818,
           0.06288275776280196,
           -0.0028295039602561477,
           -0.011338744958008073,
           -0.07080525503150162,
           0.13442727298962354,
           -0.05786666774507794,
           -0.05411785246741814,
           0.015406205304400926,
           -0.01603668196933549,
           0.014195880973441828,
           -0.001715087205573858,
           -0.04260618844870259,
           -0.08092915860753416,
           -0.028732263003876816,
           -0.06629489231063375,
           -0.012114002513758541,
           -0.016541928990209634,
           -0.03516481455070591,
           -0.10347371263394216,
           0.013381557615671212,
           0.09336447712050859,
           0.061973837590170174,
           -0.06799564549893183,
           -0.31056686293771474,
           -0.22116864095373245,
           -0.09883623515127593,
           0.46568002583030876,
           0.4217627097810412,
           0.17432133391549018
          ],
          [
           0.14595763784174848,
           0.0025713325419646728,
           0.07994672265896463,
           -0.05070858879714196,
           0.09786374499289369,
           0.31804543381518124,
           -0.18048401779985493,
           0.06564210321838242,
           0.03318446387169516,
           -0.0329514918902295,
           0.11226057958935637,
           -0.04055233930770716,
           0.1522895172382876,
           0.004462110674615105,
           0.033348964394171954,
           -0.00014572309099987468,
           0.10428282428690243,
           0.01797116369179148,
           0.06578914438374565,
           -0.0181428235766776,
           0.07003736480002616,
           0.027321563635770516,
           0.1001034214084091,
           0.07999311556732157,
           0.15084459786177995,
           0.028896972097524478,
           0.11297899014408894,
           -0.009135771968799476,
           0.10778530788328107,
           0.0063446757167750605,
           -0.21247013828292438,
           -0.22864789456937,
           -0.09556809362641779,
           -0.22029323349751023,
           -0.06938097381804745,
           -0.09308080945418525,
           -0.14547003378110782,
           -0.1823428478365097,
           -0.17792289321035296,
           -0.15869010090416716,
           -0.17398190324444596,
           -0.3091939063977066,
           -0.18024684578264638,
           -0.05316040797131914,
           -0.2311824679878888,
           0.24114650092675413,
           0.03372319036222501,
           -0.021927222903470354,
           0.15335294823629436,
           0.21933577565443113,
           0.06937452174393889,
           0.2049145082713571,
           0.14562851455217582,
           0.03852933257076426
          ],
          [
           -0.22699477363591786,
           -0.10293682223552922,
           -0.2598238854525197,
           0.002070692727622947,
           -0.21121257631503404,
           0.04379442517816157,
           0.21180006847484883,
           -0.054960791900486305,
           -0.11784418357344313,
           0.08901815569117866,
           -0.1767150831222634,
           0.009187918900991743,
           -0.2362996959689139,
           0.01952487528308494,
           -0.10319826937715251,
           0.07036079801914971,
           -0.14157152128820316,
           0.015887876347896394,
           -0.1398918280901855,
           0.040708305500567976,
           0.049614110460324885,
           0.1917053750592352,
           -0.001711751280792615,
           0.12660967743148002,
           0.09407937506042463,
           0.20893311133428555,
           0.061585223851417056,
           0.2928667171502952,
           -0.016095204339358647,
           0.13772547809586297,
           0.11545539351319652,
           -0.043978485614522396,
           0.050814652890566414,
           0.026587857485473387,
           0.05162047701115666,
           0.027424166420815865,
           0.03524387026764168,
           0.03838666031914268,
           -0.02947408347407036,
           0.028093638763660875,
           0.023614231495827247,
           -0.11736843959138746,
           -0.11944030137859754,
           0.15090813833285655,
           -0.20066510500062915,
           0.2962900938602378,
           -0.05231116922533383,
           -0.21600320249230492,
           0.26069749524903685,
           0.15059257421567723,
           0.0770318308445417,
           -0.15243646088615498,
           -0.11748616482756195,
           -0.06458603174364677
          ],
          [
           -0.010880849678337034,
           0.1256148027031243,
           0.11573995580832327,
           0.04044521108079275,
           -0.0718544053277536,
           0.1389120154668001,
           -0.11218069228654359,
           -0.05849299107796885,
           -0.10125064763393418,
           0.02186031415832968,
           -0.06469673783248127,
           0.04037190421176364,
           -0.011075725125586753,
           0.06557298620485048,
           -0.051591741920733375,
           -0.04981647206869802,
           -0.036487133760223146,
           -0.057793433675022265,
           -0.025419596910462167,
           -0.026749842890924247,
           -0.005021610261852993,
           0.04727537139216165,
           0.08900323034809146,
           0.06495895345080331,
           0.09242705944832033,
           0.08179771109787547,
           0.021827837831253683,
           0.14302636941095268,
           0.01806441245096217,
           0.029943569219068975,
           0.05453475413057077,
           0.1165600844080715,
           -0.1357396641719691,
           0.018240122374727583,
           -0.046131634093522667,
           0.05072420690934064,
           -0.07780046291737272,
           0.006501203828702102,
           -0.09966186396334631,
           0.039478290006032056,
           -0.01400127621287056,
           0.1293904776548868,
           -0.11233372574547185,
           0.030031235918174203,
           -0.20543933757128552,
           0.289482175870322,
           0.16924443876147977,
           0.5412828171822801,
           -0.24161753180533793,
           -0.2990801255553246,
           -0.19119865261761063,
           -0.24483187790295524,
           0.13316634748329392,
           -0.2165856165582157
          ],
          [
           0.053823989879771106,
           -0.10738374293036412,
           0.06288063254612067,
           0.45917534595454207,
           -0.008030068842894861,
           -0.05751733032384396,
           -0.02018679788595281,
           -0.00943231248601216,
           0.06622988494398245,
           0.362912302309391,
           -0.005741730349798385,
           -0.14951738146512586,
           0.0020885442510672203,
           -0.20083150244343156,
           0.028404927532220126,
           0.3228505222218161,
           -0.009044934130253646,
           -0.06914619663114463,
           -0.010620055643326742,
           -0.12766807270932548,
           0.005703608051735198,
           0.295223439622861,
           -0.021077749535351634,
           -0.15590338752104715,
           -0.13232778313845572,
           -0.23535933063542888,
           -0.11601152641991308,
           0.2223910048284454,
           -0.06030962120064307,
           -0.14896576395500868,
           -0.16285776672389637,
           -0.0727282345757934,
           -0.056512091641121365,
           0.022445039337883926,
           0.027839945143348015,
           0.10824235881534187,
           -0.0723918780626241,
           0.1122779609786087,
           -0.12232123019039066,
           0.007494288389390497,
           -0.1102119501188256,
           0.061389427567485694,
           -0.03661332834849509,
           -0.012562374575243496,
           0.07478727812717402,
           0.1452162283067946,
           -0.04908263560974574,
           -0.0635039193210039,
           -0.04573402906288337,
           -0.06253194185751319,
           -0.08566922750457298,
           0.13730180623055274,
           0.06195695873112058,
           0.027411429068225402
          ],
          [
           0.12334550233647013,
           0.0013837149198441551,
           -0.022367199058999268,
           -0.09139956377347339,
           -0.00014387651166943016,
           -0.237090582322317,
           0.079226636232367,
           -0.011520557688169118,
           0.031176239780374593,
           -0.015302930852634455,
           0.08814321173303569,
           0.09001889805535923,
           0.11560049188376495,
           -0.022018058928845313,
           0.1255782487533474,
           0.000894820300630178,
           0.09393170251174715,
           0.11738152427085735,
           0.02623647331940221,
           0.006815890415559175,
           -0.18409346344858762,
           -0.28791434842038177,
           -0.027318581373497672,
           -0.03416304311478735,
           0.1300683534206611,
           -0.020576250438295553,
           -0.053283461618535005,
           -0.20236701176417596,
           -0.09441869012777546,
           -0.1424409305914697,
           -0.012953813402707492,
           -0.12147122362336346,
           -0.16897570191537264,
           0.04598874418003633,
           -0.034091585690220506,
           0.08239241230176111,
           0.09157567557146665,
           0.1905985449846397,
           0.05943353765055039,
           0.29860238204982914,
           -0.002604779192046276,
           0.014722085483637471,
           -0.15591605183855872,
           0.2567722846630629,
           -0.059870645663707346,
           0.472406224073555,
           -0.2284846311158205,
           -0.1569912724734631,
           -0.0804561797374993,
           -0.040055601973003944,
           -0.048740577452688186,
           0.10543405456834815,
           -0.004544164160308545,
           -0.16621728754378934
          ],
          [
           0.1899291203163802,
           0.10585882265752689,
           0.41957299093088535,
           0.085251346350501,
           -0.05149847959023571,
           -0.07937799649067484,
           0.14507355160380087,
           -0.11862053158772862,
           -0.01868369468119538,
           -0.2273424048266821,
           -0.07991221809300982,
           -0.12541356737726927,
           -0.201898997747827,
           -0.056003356729530385,
           -0.06698559962313322,
           -0.12149792347049443,
           -0.018682500961511722,
           -0.06270345878555211,
           -0.00948905757716667,
           0.002552152087340581,
           0.1142310095131141,
           -0.006748006702923637,
           0.06345836817576603,
           0.06779872902335234,
           -0.053581256825882384,
           -0.03365133143077945,
           0.10667612816278728,
           -0.04175909715798877,
           0.04243643311239171,
           -0.04406408335554626,
           -0.09186121025593864,
           -0.008173910464595195,
           0.10212969040302461,
           0.030176443929121027,
           0.15969792817370426,
           0.08942086976334764,
           -0.03855629649311601,
           0.030118899406731327,
           0.03743668360701137,
           0.0084523628420989,
           0.14230872747434783,
           -0.3944955507784492,
           -0.19375382339473193,
           0.11147089059012293,
           0.28578485960613276,
           0.10165462429980499,
           0.10977138511980261,
           -0.12330723790054142,
           0.08199621178562151,
           -0.10744114747323978,
           -0.2665748407029875,
           -0.16533481941603534,
           0.018366961912649533,
           0.1475113947882225
          ],
          [
           -0.11665505151059183,
           -0.1524214987267993,
           -0.039135442973624174,
           -0.15999629609110327,
           0.07091009980699287,
           -0.15395580757406638,
           0.15310557652506585,
           0.056072825650192226,
           0.14241101479439344,
           0.09329210307383495,
           -0.008043726690798229,
           0.09345448106645937,
           0.2098843594303114,
           -0.10359962867875208,
           0.1720751790679434,
           0.0770386268697694,
           0.09135122500128878,
           -0.015545041711786833,
           -0.024783640266420437,
           0.004495348681033684,
           0.10197698715284598,
           0.07175567420196893,
           0.1286884720828741,
           -0.06144750273305288,
           -0.005415175144357215,
           -0.08699013515573707,
           0.008961788125066254,
           -0.09872106953471732,
           0.017126097138932116,
           -0.19164173149637725,
           0.27262791008555554,
           0.1761632503736298,
           0.052304212098062006,
           -0.0259832448205111,
           -0.012902856614366678,
           -0.00830164989144748,
           0.06256939899486356,
           -0.1124923249970718,
           -0.21366543918194614,
           -0.1386630945099758,
           -0.11073210098300208,
           -0.11501154730462415,
           -0.2455113829179786,
           -0.009424213599453675,
           0.07556520860431126,
           0.062185903048869354,
           0.39783487206851853,
           -0.19532397198621287,
           -0.2127997439921377,
           -0.012961544992408808,
           0.19486682420155943,
           -0.2805199058563367,
           0.07802578110812741,
           -0.050373330641213576
          ],
          [
           0.05866992939217005,
           0.08290667120355524,
           -0.08444426241697854,
           -0.1111531579644788,
           -0.041506634304178794,
           0.11310287974958702,
           -0.12867443489856095,
           0.1848190503889419,
           0.06163022655467384,
           -0.0925417956834991,
           -0.011567007291047898,
           -0.03135143479958257,
           -0.03631384903630456,
           0.13838357395982784,
           0.06411176635760772,
           -0.023970614498673597,
           -0.0417387934929562,
           0.052143240905605306,
           -0.06819704061794973,
           0.011481324453374658,
           0.060010382083631436,
           0.06935724579605712,
           0.003980012066541583,
           -0.004244222985002266,
           -0.11422460072076768,
           -0.02957217217150121,
           -0.06555943029271599,
           -0.00954038144984471,
           -0.04372985709294568,
           0.13466569164398823,
           -0.324459492919366,
           0.14049577625283555,
           0.05059136743577321,
           0.22509719858749455,
           -0.046285253395125896,
           0.16737109477586531,
           -0.18550770577783726,
           0.1979868299168373,
           -0.2518949919766636,
           0.03046113400654872,
           -0.169863119018912,
           -0.16735503038997981,
           0.09029798827260051,
           0.27351401912227524,
           0.09580304067762777,
           0.0035541807083925383,
           -0.21516354385087505,
           0.008143197591868934,
           -0.2433700317710881,
           -0.031942211523698465,
           0.36717410583418436,
           -0.22692629816015025,
           -0.0586650868946947,
           0.13608927733138743
          ],
          [
           0.3418505940892119,
           -0.07515333922140724,
           -0.15745532448220326,
           -0.015885721165167482,
           -0.02412967251133158,
           -0.10163666441070951,
           0.18058978899185582,
           -0.21689124355362738,
           -0.11783263442509703,
           -0.048319647452044506,
           -0.005722634084935008,
           -0.1963938854045714,
           0.04857188860648756,
           0.12535523544871247,
           -0.09470176402737207,
           0.07383112578105533,
           -0.007911953129179493,
           -0.10600028699582331,
           0.0885355593353922,
           -0.06181325885437637,
           -0.007212263896979855,
           0.13259932975045205,
           0.1529969109375984,
           0.009119203561166259,
           0.13071069671624122,
           0.09458780790204506,
           0.1529504368549412,
           0.17454221029218497,
           0.12590709525009575,
           -0.1465877888375311,
           0.17471035274128174,
           -0.13210342106440542,
           0.03083136963905986,
           -0.0961676129769296,
           -0.0966761716421898,
           -0.1483087273321355,
           0.056966981664045,
           -0.16442329921503607,
           0.05778504462946556,
           -0.040290694305366685,
           0.05539779803536363,
           -0.05819280634713683,
           -0.0375635232836847,
           0.02068405559389649,
           0.21169660524218514,
           -0.004793839185689675,
           -0.3108736494071347,
           0.16345421881234834,
           -0.3410656105717932,
           -0.035495334448201916,
           0.2471725547708727,
           0.058731274091046455,
           -0.07778249735711956,
           0.06179151210526852
          ],
          [
           -0.07216438323108722,
           -0.1604513722787021,
           0.35333308018806947,
           -0.04885226834561897,
           -0.07118968699825444,
           -0.08627932803802421,
           0.006843902048743501,
           -0.09423388702150437,
           0.20897232668590504,
           -0.07287034881151955,
           -0.1525736496979202,
           -0.07373383890814786,
           -0.06363773743387344,
           -0.0863472917499429,
           0.26904785844534584,
           -0.08223211015937094,
           -0.07137103681308953,
           -0.04373767029138852,
           -0.08147936595371547,
           -0.09520153885671927,
           0.4057171242790973,
           0.03365742970749834,
           -0.05146394080935561,
           -0.07701006410508657,
           -0.0011995168310268284,
           0.06389791316227383,
           0.3866381242176859,
           -0.07660176219744441,
           0.03782560953668457,
           0.012318853824103582,
           0.0556903852824988,
           0.09383408633392334,
           0.05929983224478696,
           0.038753229865033614,
           -0.05703460653047739,
           -0.05972864142466054,
           -0.004106811233702258,
           -0.03712103723843316,
           -0.06639405474958397,
           -0.04114295768486376,
           -0.1269584164690184,
           0.19277515904477477,
           0.168773765945281,
           0.044056288475994895,
           -0.1943863607719401,
           0.03863249603502207,
           -0.26130520005963864,
           -0.05219996409581242,
           0.021003992559435868,
           -0.11821378447871193,
           0.06613157051690081,
           0.16059171177001497,
           -0.008712134293932389,
           -0.15521588650571766
          ],
          [
           -0.08464780547714679,
           -0.017566122823938934,
           -0.0796493863984561,
           0.18758701116161033,
           0.06868702203821718,
           -0.060777653471384474,
           0.031636446470986276,
           -0.0065536205447884605,
           -0.0030083058449818373,
           0.08464864092039578,
           -0.05695116054672477,
           0.0023165008955488564,
           0.040996118712166324,
           -0.08996785798357014,
           -0.0255388410813992,
           -0.04567263667395696,
           -0.020415533137357944,
           0.07574339786624201,
           0.02495564030670111,
           -0.04694483416735407,
           -0.2022285662129757,
           -0.02986436035085238,
           0.08020528166866997,
           0.11961656564705486,
           0.094405588640466,
           0.049246910422088785,
           0.004654026196528001,
           -0.012818814431123177,
           -0.029391207457797552,
           -0.1579843799347383,
           0.07417227526186648,
           0.22793601754316176,
           0.033147158144427175,
           -0.013229507191630744,
           -0.11321124854249168,
           -0.045835205069636814,
           0.020862508920419912,
           -0.1678049003103115,
           -0.17186881999321066,
           0.01096248119014957,
           0.0013292342222464193,
           -0.40212273006226934,
           0.3320272480965272,
           0.4667551611093816,
           -0.040769181571586516,
           -0.21882636285026108,
           -0.011518300894800854,
           0.0837867371152718,
           0.1258101371820729,
           -0.12019738578475316,
           -0.08423170393114433,
           0.1730362820178274,
           0.1732079204776618,
           -0.18445692523245397
          ],
          [
           0.06739136585563506,
           0.1664516399378461,
           0.2416195337545842,
           0.026483799526463986,
           0.02428525074328118,
           0.18437129662402318,
           -0.09787614070072123,
           -0.03191468554796574,
           -0.15381046141491933,
           0.06369366000065399,
           -0.061204397958901265,
           0.12601631099550137,
           0.04366511868119975,
           0.1547985844300698,
           -0.08566976405184028,
           0.04359819351903997,
           -0.02002712204122578,
           0.05715298276839356,
           0.042312278284364735,
           0.13217053730798237,
           -0.11635534346495749,
           0.0334108355070703,
           -0.06162289413043981,
           -0.05590009319344186,
           -0.12854337172940813,
           -0.07289147204491386,
           -0.15058196202779667,
           -0.030831625060791595,
           -0.10682917820032717,
           0.08553512171903987,
           0.3619419205264224,
           0.2331824222991485,
           0.1217160663390436,
           0.12066953593949514,
           -0.012373020369713782,
           -0.03995281158967924,
           0.07150195323522596,
           -0.15123266635121985,
           -0.0918435075116922,
           -0.0706549519468251,
           -0.16613032339156344,
           -0.18456590829273745,
           0.17728780452772439,
           -0.2800838171946353,
           0.12067256675124503,
           0.31477819580448846,
           -0.17824970284412445,
           -0.147404773189913,
           -0.017588678823895795,
           -0.026839480949828458,
           0.006272457634153879,
           0.12703989384704775,
           -0.21057140423418666,
           -0.11913946628263858
          ],
          [
           -0.301354856514778,
           -0.12643242764460177,
           0.13276253671996016,
           -0.20316782933699595,
           -0.07033562972851382,
           0.01238201653249904,
           -0.1007922646184863,
           -0.07098840842196688,
           -0.02356671186583531,
           0.09779227588840278,
           0.08122356891660243,
           0.17958336443311346,
           0.1819401809290735,
           0.0782463122684176,
           0.01497342971288064,
           0.033642845450664816,
           -0.10175845567001814,
           -0.07399946864813907,
           -0.0736069413932183,
           0.014524100557311376,
           0.0664106083918419,
           0.09276368681389317,
           -0.0892607471071368,
           -0.15239104295624437,
           0.04597554529842488,
           -0.06912044907645115,
           0.07659217265608577,
           0.19923305930535432,
           -0.02627046486593173,
           0.10472497327258261,
           -0.1811801167169223,
           0.050535369722402496,
           -0.15554984655091933,
           0.028112327054272773,
           -0.057389414168921356,
           -0.09119454143766104,
           0.09715868741505057,
           -0.03707434219369116,
           0.2698224276744363,
           0.120164405719931,
           0.007172638386343821,
           -0.2290133712058972,
           -0.06085014717838038,
           -0.009639710790945749,
           0.3784892741666146,
           -0.038053515557934105,
           -0.16212388443918643,
           0.0782376103193813,
           -0.048532330265171626,
           0.2199496360296184,
           -0.07405431348833517,
           -0.05136538645992439,
           0.28016411683034925,
           -0.2321491937396673
          ],
          [
           0.008784028496848378,
           -0.17655259996412292,
           -0.18793900790986387,
           0.07304436506397927,
           0.128781102163566,
           -0.12330242499859295,
           0.17772526632473745,
           -0.07966029708002496,
           -0.14526368492268332,
           -0.07538597404251811,
           0.09509407294858985,
           0.07883159517960657,
           0.07102805047846537,
           -0.06983435806856733,
           -0.24185614395436894,
           -0.10840188470916691,
           0.14726110963907577,
           0.012758421967930708,
           0.25025154215780915,
           0.11011739602921163,
           0.10103252216204744,
           0.01468836342115135,
           0.0674900992526543,
           -0.060856751055503776,
           -0.005578569858051288,
           -0.017277225471805095,
           -0.06979462878363606,
           -0.09429949196384263,
           0.31353656902065835,
           0.18892230545620936,
           -0.20595471141664418,
           0.2927568374313288,
           0.14117137402412577,
           -0.04839816590955963,
           -0.003740372574174212,
           0.02351349791448102,
           -0.1050484940144322,
           0.008456110134939396,
           -0.06528894038119837,
           -0.09994907575503015,
           -0.20661969926801738,
           0.1617988063352011,
           -0.12256500997443294,
           -0.06845244174786408,
           0.10038670476841494,
           0.0805353489708775,
           -0.22258758186788352,
           -0.027611513546653366,
           0.23597892589785036,
           -0.1807768370036465,
           -0.0696694863168564,
           -0.07021345801947756,
           0.15145722408726342,
           -0.14118615588158778
          ]
         ]
        }
       ],
       "layout": {
        "template": {
         "data": {
          "bar": [
           {
            "error_x": {
             "color": "#2a3f5f"
            },
            "error_y": {
             "color": "#2a3f5f"
            },
            "marker": {
             "line": {
              "color": "#E5ECF6",
              "width": 0.5
             },
             "pattern": {
              "fillmode": "overlay",
              "size": 10,
              "solidity": 0.2
             }
            },
            "type": "bar"
           }
          ],
          "barpolar": [
           {
            "marker": {
             "line": {
              "color": "#E5ECF6",
              "width": 0.5
             },
             "pattern": {
              "fillmode": "overlay",
              "size": 10,
              "solidity": 0.2
             }
            },
            "type": "barpolar"
           }
          ],
          "carpet": [
           {
            "aaxis": {
             "endlinecolor": "#2a3f5f",
             "gridcolor": "white",
             "linecolor": "white",
             "minorgridcolor": "white",
             "startlinecolor": "#2a3f5f"
            },
            "baxis": {
             "endlinecolor": "#2a3f5f",
             "gridcolor": "white",
             "linecolor": "white",
             "minorgridcolor": "white",
             "startlinecolor": "#2a3f5f"
            },
            "type": "carpet"
           }
          ],
          "choropleth": [
           {
            "colorbar": {
             "outlinewidth": 0,
             "ticks": ""
            },
            "type": "choropleth"
           }
          ],
          "contour": [
           {
            "colorbar": {
             "outlinewidth": 0,
             "ticks": ""
            },
            "colorscale": [
             [
              0,
              "#0d0887"
             ],
             [
              0.1111111111111111,
              "#46039f"
             ],
             [
              0.2222222222222222,
              "#7201a8"
             ],
             [
              0.3333333333333333,
              "#9c179e"
             ],
             [
              0.4444444444444444,
              "#bd3786"
             ],
             [
              0.5555555555555556,
              "#d8576b"
             ],
             [
              0.6666666666666666,
              "#ed7953"
             ],
             [
              0.7777777777777778,
              "#fb9f3a"
             ],
             [
              0.8888888888888888,
              "#fdca26"
             ],
             [
              1,
              "#f0f921"
             ]
            ],
            "type": "contour"
           }
          ],
          "contourcarpet": [
           {
            "colorbar": {
             "outlinewidth": 0,
             "ticks": ""
            },
            "type": "contourcarpet"
           }
          ],
          "heatmap": [
           {
            "colorbar": {
             "outlinewidth": 0,
             "ticks": ""
            },
            "colorscale": [
             [
              0,
              "#0d0887"
             ],
             [
              0.1111111111111111,
              "#46039f"
             ],
             [
              0.2222222222222222,
              "#7201a8"
             ],
             [
              0.3333333333333333,
              "#9c179e"
             ],
             [
              0.4444444444444444,
              "#bd3786"
             ],
             [
              0.5555555555555556,
              "#d8576b"
             ],
             [
              0.6666666666666666,
              "#ed7953"
             ],
             [
              0.7777777777777778,
              "#fb9f3a"
             ],
             [
              0.8888888888888888,
              "#fdca26"
             ],
             [
              1,
              "#f0f921"
             ]
            ],
            "type": "heatmap"
           }
          ],
          "heatmapgl": [
           {
            "colorbar": {
             "outlinewidth": 0,
             "ticks": ""
            },
            "colorscale": [
             [
              0,
              "#0d0887"
             ],
             [
              0.1111111111111111,
              "#46039f"
             ],
             [
              0.2222222222222222,
              "#7201a8"
             ],
             [
              0.3333333333333333,
              "#9c179e"
             ],
             [
              0.4444444444444444,
              "#bd3786"
             ],
             [
              0.5555555555555556,
              "#d8576b"
             ],
             [
              0.6666666666666666,
              "#ed7953"
             ],
             [
              0.7777777777777778,
              "#fb9f3a"
             ],
             [
              0.8888888888888888,
              "#fdca26"
             ],
             [
              1,
              "#f0f921"
             ]
            ],
            "type": "heatmapgl"
           }
          ],
          "histogram": [
           {
            "marker": {
             "pattern": {
              "fillmode": "overlay",
              "size": 10,
              "solidity": 0.2
             }
            },
            "type": "histogram"
           }
          ],
          "histogram2d": [
           {
            "colorbar": {
             "outlinewidth": 0,
             "ticks": ""
            },
            "colorscale": [
             [
              0,
              "#0d0887"
             ],
             [
              0.1111111111111111,
              "#46039f"
             ],
             [
              0.2222222222222222,
              "#7201a8"
             ],
             [
              0.3333333333333333,
              "#9c179e"
             ],
             [
              0.4444444444444444,
              "#bd3786"
             ],
             [
              0.5555555555555556,
              "#d8576b"
             ],
             [
              0.6666666666666666,
              "#ed7953"
             ],
             [
              0.7777777777777778,
              "#fb9f3a"
             ],
             [
              0.8888888888888888,
              "#fdca26"
             ],
             [
              1,
              "#f0f921"
             ]
            ],
            "type": "histogram2d"
           }
          ],
          "histogram2dcontour": [
           {
            "colorbar": {
             "outlinewidth": 0,
             "ticks": ""
            },
            "colorscale": [
             [
              0,
              "#0d0887"
             ],
             [
              0.1111111111111111,
              "#46039f"
             ],
             [
              0.2222222222222222,
              "#7201a8"
             ],
             [
              0.3333333333333333,
              "#9c179e"
             ],
             [
              0.4444444444444444,
              "#bd3786"
             ],
             [
              0.5555555555555556,
              "#d8576b"
             ],
             [
              0.6666666666666666,
              "#ed7953"
             ],
             [
              0.7777777777777778,
              "#fb9f3a"
             ],
             [
              0.8888888888888888,
              "#fdca26"
             ],
             [
              1,
              "#f0f921"
             ]
            ],
            "type": "histogram2dcontour"
           }
          ],
          "mesh3d": [
           {
            "colorbar": {
             "outlinewidth": 0,
             "ticks": ""
            },
            "type": "mesh3d"
           }
          ],
          "parcoords": [
           {
            "line": {
             "colorbar": {
              "outlinewidth": 0,
              "ticks": ""
             }
            },
            "type": "parcoords"
           }
          ],
          "pie": [
           {
            "automargin": true,
            "type": "pie"
           }
          ],
          "scatter": [
           {
            "fillpattern": {
             "fillmode": "overlay",
             "size": 10,
             "solidity": 0.2
            },
            "type": "scatter"
           }
          ],
          "scatter3d": [
           {
            "line": {
             "colorbar": {
              "outlinewidth": 0,
              "ticks": ""
             }
            },
            "marker": {
             "colorbar": {
              "outlinewidth": 0,
              "ticks": ""
             }
            },
            "type": "scatter3d"
           }
          ],
          "scattercarpet": [
           {
            "marker": {
             "colorbar": {
              "outlinewidth": 0,
              "ticks": ""
             }
            },
            "type": "scattercarpet"
           }
          ],
          "scattergeo": [
           {
            "marker": {
             "colorbar": {
              "outlinewidth": 0,
              "ticks": ""
             }
            },
            "type": "scattergeo"
           }
          ],
          "scattergl": [
           {
            "marker": {
             "colorbar": {
              "outlinewidth": 0,
              "ticks": ""
             }
            },
            "type": "scattergl"
           }
          ],
          "scattermapbox": [
           {
            "marker": {
             "colorbar": {
              "outlinewidth": 0,
              "ticks": ""
             }
            },
            "type": "scattermapbox"
           }
          ],
          "scatterpolar": [
           {
            "marker": {
             "colorbar": {
              "outlinewidth": 0,
              "ticks": ""
             }
            },
            "type": "scatterpolar"
           }
          ],
          "scatterpolargl": [
           {
            "marker": {
             "colorbar": {
              "outlinewidth": 0,
              "ticks": ""
             }
            },
            "type": "scatterpolargl"
           }
          ],
          "scatterternary": [
           {
            "marker": {
             "colorbar": {
              "outlinewidth": 0,
              "ticks": ""
             }
            },
            "type": "scatterternary"
           }
          ],
          "surface": [
           {
            "colorbar": {
             "outlinewidth": 0,
             "ticks": ""
            },
            "colorscale": [
             [
              0,
              "#0d0887"
             ],
             [
              0.1111111111111111,
              "#46039f"
             ],
             [
              0.2222222222222222,
              "#7201a8"
             ],
             [
              0.3333333333333333,
              "#9c179e"
             ],
             [
              0.4444444444444444,
              "#bd3786"
             ],
             [
              0.5555555555555556,
              "#d8576b"
             ],
             [
              0.6666666666666666,
              "#ed7953"
             ],
             [
              0.7777777777777778,
              "#fb9f3a"
             ],
             [
              0.8888888888888888,
              "#fdca26"
             ],
             [
              1,
              "#f0f921"
             ]
            ],
            "type": "surface"
           }
          ],
          "table": [
           {
            "cells": {
             "fill": {
              "color": "#EBF0F8"
             },
             "line": {
              "color": "white"
             }
            },
            "header": {
             "fill": {
              "color": "#C8D4E3"
             },
             "line": {
              "color": "white"
             }
            },
            "type": "table"
           }
          ]
         },
         "layout": {
          "annotationdefaults": {
           "arrowcolor": "#2a3f5f",
           "arrowhead": 0,
           "arrowwidth": 1
          },
          "autotypenumbers": "strict",
          "coloraxis": {
           "colorbar": {
            "outlinewidth": 0,
            "ticks": ""
           }
          },
          "colorscale": {
           "diverging": [
            [
             0,
             "#8e0152"
            ],
            [
             0.1,
             "#c51b7d"
            ],
            [
             0.2,
             "#de77ae"
            ],
            [
             0.3,
             "#f1b6da"
            ],
            [
             0.4,
             "#fde0ef"
            ],
            [
             0.5,
             "#f7f7f7"
            ],
            [
             0.6,
             "#e6f5d0"
            ],
            [
             0.7,
             "#b8e186"
            ],
            [
             0.8,
             "#7fbc41"
            ],
            [
             0.9,
             "#4d9221"
            ],
            [
             1,
             "#276419"
            ]
           ],
           "sequential": [
            [
             0,
             "#0d0887"
            ],
            [
             0.1111111111111111,
             "#46039f"
            ],
            [
             0.2222222222222222,
             "#7201a8"
            ],
            [
             0.3333333333333333,
             "#9c179e"
            ],
            [
             0.4444444444444444,
             "#bd3786"
            ],
            [
             0.5555555555555556,
             "#d8576b"
            ],
            [
             0.6666666666666666,
             "#ed7953"
            ],
            [
             0.7777777777777778,
             "#fb9f3a"
            ],
            [
             0.8888888888888888,
             "#fdca26"
            ],
            [
             1,
             "#f0f921"
            ]
           ],
           "sequentialminus": [
            [
             0,
             "#0d0887"
            ],
            [
             0.1111111111111111,
             "#46039f"
            ],
            [
             0.2222222222222222,
             "#7201a8"
            ],
            [
             0.3333333333333333,
             "#9c179e"
            ],
            [
             0.4444444444444444,
             "#bd3786"
            ],
            [
             0.5555555555555556,
             "#d8576b"
            ],
            [
             0.6666666666666666,
             "#ed7953"
            ],
            [
             0.7777777777777778,
             "#fb9f3a"
            ],
            [
             0.8888888888888888,
             "#fdca26"
            ],
            [
             1,
             "#f0f921"
            ]
           ]
          },
          "colorway": [
           "#636efa",
           "#EF553B",
           "#00cc96",
           "#ab63fa",
           "#FFA15A",
           "#19d3f3",
           "#FF6692",
           "#B6E880",
           "#FF97FF",
           "#FECB52"
          ],
          "font": {
           "color": "#2a3f5f"
          },
          "geo": {
           "bgcolor": "white",
           "lakecolor": "white",
           "landcolor": "#E5ECF6",
           "showlakes": true,
           "showland": true,
           "subunitcolor": "white"
          },
          "hoverlabel": {
           "align": "left"
          },
          "hovermode": "closest",
          "mapbox": {
           "style": "light"
          },
          "paper_bgcolor": "white",
          "plot_bgcolor": "#E5ECF6",
          "polar": {
           "angularaxis": {
            "gridcolor": "white",
            "linecolor": "white",
            "ticks": ""
           },
           "bgcolor": "#E5ECF6",
           "radialaxis": {
            "gridcolor": "white",
            "linecolor": "white",
            "ticks": ""
           }
          },
          "scene": {
           "xaxis": {
            "backgroundcolor": "#E5ECF6",
            "gridcolor": "white",
            "gridwidth": 2,
            "linecolor": "white",
            "showbackground": true,
            "ticks": "",
            "zerolinecolor": "white"
           },
           "yaxis": {
            "backgroundcolor": "#E5ECF6",
            "gridcolor": "white",
            "gridwidth": 2,
            "linecolor": "white",
            "showbackground": true,
            "ticks": "",
            "zerolinecolor": "white"
           },
           "zaxis": {
            "backgroundcolor": "#E5ECF6",
            "gridcolor": "white",
            "gridwidth": 2,
            "linecolor": "white",
            "showbackground": true,
            "ticks": "",
            "zerolinecolor": "white"
           }
          },
          "shapedefaults": {
           "line": {
            "color": "#2a3f5f"
           }
          },
          "ternary": {
           "aaxis": {
            "gridcolor": "white",
            "linecolor": "white",
            "ticks": ""
           },
           "baxis": {
            "gridcolor": "white",
            "linecolor": "white",
            "ticks": ""
           },
           "bgcolor": "#E5ECF6",
           "caxis": {
            "gridcolor": "white",
            "linecolor": "white",
            "ticks": ""
           }
          },
          "title": {
           "x": 0.05
          },
          "xaxis": {
           "automargin": true,
           "gridcolor": "white",
           "linecolor": "white",
           "ticks": "",
           "title": {
            "standoff": 15
           },
           "zerolinecolor": "white",
           "zerolinewidth": 2
          },
          "yaxis": {
           "automargin": true,
           "gridcolor": "white",
           "linecolor": "white",
           "ticks": "",
           "title": {
            "standoff": 15
           },
           "zerolinecolor": "white",
           "zerolinewidth": 2
          }
         }
        },
        "title": {
         "text": "Principal Component Loadings Heatmap"
        },
        "xaxis": {
         "nticks": 36,
         "tickangle": -45
        },
        "yaxis": {
         "nticks": 5
        }
       }
      }
     },
     "metadata": {},
     "output_type": "display_data"
    }
   ],
   "source": [
    "import plotly.graph_objects as go\n",
    "\n",
    "# 创建载荷矩阵\n",
    "loadings = pca.components_\n",
    "\n",
    "# 创建一个 DataFrame\n",
    "loading_matrix = pd.DataFrame(loadings, columns=X.columns, index=[f'PC{i+1}' for i in range(loadings.shape[0])])\n",
    "\n",
    "# 创建热力图\n",
    "fig = go.Figure(data=go.Heatmap(\n",
    "    z=loading_matrix.values,\n",
    "    x=loading_matrix.columns,\n",
    "    y=loading_matrix.index,\n",
    "    colorscale='Viridis',\n",
    "    showscale=True  # 显示颜色刻度\n",
    "))\n",
    "\n",
    "fig.update_layout(\n",
    "    title='Principal Component Loadings Heatmap',\n",
    "    xaxis_nticks=36,\n",
    "    yaxis_nticks=5,\n",
    "    xaxis_tickangle=-45\n",
    ")\n",
    "\n",
    "fig.show()\n"
   ]
  },
  {
   "cell_type": "code",
   "execution_count": 34,
   "metadata": {},
   "outputs": [
    {
     "data": {
      "image/png": "[encoded data removed]",
      "text/plain": [
       "<Figure size 800x600 with 1 Axes>"
      ]
     },
     "metadata": {},
     "output_type": "display_data"
    }
   ],
   "source": [
    "from sklearn.decomposition import FactorAnalysis\n",
    "\n",
    "# 进行因子分析，选择前 20 个因子\n",
    "fa = FactorAnalysis(n_components=20)\n",
    "factor_components = fa.fit_transform(X_scaled)\n",
    "\n",
    "# 将结果转换为 DataFrame\n",
    "fa_df = pd.DataFrame(data=factor_components, columns=[f'Factor {i+1}' for i in range(20)])\n",
    "fa_df['Class'] = df['Class']\n",
    "\n",
    "# 可视化前两个因子\n",
    "plt.figure(figsize=(8,6))\n",
    "plt.scatter(fa_df['Factor 1'], fa_df['Factor 2'], c=fa_df['Class'])\n",
    "plt.xlabel('Factor 1')\n",
    "plt.ylabel('Factor 2')\n",
    "plt.title('Factor Analysis of DataFrame')\n",
    "plt.show()\n"
   ]
  },
  {
   "cell_type": "code",
   "execution_count": 35,
   "metadata": {},
   "outputs": [
    {
     "name": "stdout",
     "output_type": "stream",
     "text": [
      "       Factor 1  Factor 2  Factor 3  Factor 4  Factor 5  Factor 6  Factor 7  \\\n",
      "Atr1   0.891863  0.088296  0.037819  0.216805 -0.009007  0.079662  0.001881   \n",
      "Atr2   0.867737  0.215901  0.006906 -0.067429  0.050728 -0.045789 -0.054063   \n",
      "Atr3   0.822851  0.142496  0.120537  0.090894  0.034319  0.130842  0.051118   \n",
      "Atr4   0.855046  0.137403  0.146902 -0.026302 -0.096568  0.303866 -0.098064   \n",
      "Atr5   0.951196 -0.010814 -0.004175  0.185570  0.066016  0.027900  0.058301   \n",
      "Atr6   0.301656 -0.050855  0.155841  0.235731 -0.104107  0.012141  0.120739   \n",
      "Atr7   0.459782  0.376257  0.401294 -0.098236  0.091830  0.044334  0.045422   \n",
      "Atr8   0.926166  0.169738 -0.024093 -0.092699  0.071293 -0.028586  0.086232   \n",
      "Atr9   0.947187  0.113305  0.042617  0.042853  0.052443  0.075011  0.134174   \n",
      "Atr10  0.872129  0.214249  0.111294 -0.011831 -0.133284  0.222281 -0.086098   \n",
      "Atr11  0.946324  0.082895  0.038441  0.201131 -0.016554  0.003226  0.044217   \n",
      "Atr12  0.908066  0.272351  0.037870 -0.049833  0.015328 -0.096803 -0.030767   \n",
      "Atr13  0.908170  0.040747 -0.040588  0.211257 -0.004266  0.034591  0.072248   \n",
      "Atr14  0.906784  0.229758 -0.044260 -0.107962  0.027426 -0.120288 -0.007056   \n",
      "Atr15  0.923356  0.178132  0.024872  0.084373 -0.006670  0.043074  0.100783   \n",
      "Atr16  0.910191  0.218025  0.098396 -0.028636 -0.084484  0.218572 -0.029355   \n",
      "Atr17  0.957405  0.064259  0.002954  0.185433 -0.024071  0.000013  0.068308   \n",
      "Atr18  0.947435  0.270460  0.044176 -0.040096  0.036982 -0.076357  0.011171   \n",
      "Atr19  0.959894  0.061701 -0.015032  0.163784 -0.035913  0.001519  0.050975   \n",
      "Atr20  0.947397  0.194225  0.039637 -0.097213  0.066209 -0.077462 -0.008236   \n",
      "Atr21  0.940813 -0.030848 -0.152065 -0.103977  0.024026  0.096929  0.119988   \n",
      "Atr22  0.914799 -0.018700 -0.131754 -0.193954 -0.083993  0.231628 -0.042849   \n",
      "Atr23  0.929325 -0.172015 -0.236484  0.065569 -0.076019 -0.022833 -0.007978   \n",
      "Atr24  0.910244  0.163327 -0.115780 -0.133000  0.045962 -0.101532 -0.052210   \n",
      "Atr25  0.919281 -0.057864 -0.174176  0.153293 -0.093190 -0.094470 -0.161260   \n",
      "Atr26  0.918504  0.195259 -0.160559 -0.128315 -0.000977 -0.139658 -0.126676   \n",
      "Atr27  0.930826  0.070489 -0.170767 -0.006870  0.058329  0.000548 -0.012195   \n",
      "Atr28  0.902306  0.006414 -0.119452 -0.175826 -0.202178  0.131877 -0.159324   \n",
      "Atr29  0.956964 -0.073028 -0.184881  0.075107 -0.030225 -0.011335  0.027168   \n",
      "Atr30  0.923863  0.124964 -0.047882 -0.187994  0.015410 -0.091317 -0.012826   \n",
      "Atr31  0.836973 -0.222512  0.060713 -0.039612 -0.034440 -0.106696 -0.060939   \n",
      "Atr32  0.865565 -0.147057  0.204731 -0.032810  0.011265 -0.024548  0.025721   \n",
      "Atr33  0.925681 -0.231502  0.063691 -0.096225  0.089578 -0.004037  0.062790   \n",
      "Atr34  0.885437 -0.287305  0.193879 -0.086021 -0.053566 -0.059303  0.012002   \n",
      "Atr35  0.934833 -0.255520  0.028759 -0.073985 -0.027381 -0.024248  0.028787   \n",
      "Atr36  0.942175 -0.239408  0.114095 -0.060244 -0.066213 -0.005199  0.019035   \n",
      "Atr37  0.903265 -0.129016  0.172767  0.010707  0.010717 -0.047296 -0.032731   \n",
      "Atr38  0.915819 -0.161949  0.206759 -0.004505 -0.111622 -0.019796 -0.037471   \n",
      "Atr39  0.914699 -0.044441  0.136440  0.031610  0.018617 -0.094749 -0.074592   \n",
      "Atr40  0.931829 -0.056075  0.233131  0.065545 -0.095640 -0.093622 -0.111341   \n",
      "Atr41  0.925150 -0.111782  0.074606  0.000675 -0.079247 -0.122932 -0.050557   \n",
      "Atr42  0.778742 -0.088365 -0.023618  0.008110 -0.013154 -0.041429 -0.021507   \n",
      "Atr43  0.620865 -0.121285 -0.265395  0.022662  0.067432 -0.077350 -0.013732   \n",
      "Atr44  0.863879 -0.085054  0.003210  0.045462 -0.043679 -0.077969 -0.110060   \n",
      "Atr45  0.606351 -0.163066 -0.201738  0.038064  0.128592 -0.017275  0.028593   \n",
      "Atr46  0.518845 -0.318584 -0.250125 -0.037766  0.100217 -0.046639 -0.139594   \n",
      "Atr47  0.733725 -0.182562 -0.226227 -0.012075  0.154601 -0.009882  0.028978   \n",
      "Atr48  0.672208 -0.156797  0.109601  0.023795  0.168968  0.047062 -0.119767   \n",
      "Atr49  0.780080 -0.145260 -0.041239  0.059233  0.285448  0.105997 -0.271147   \n",
      "Atr50  0.811314 -0.149566  0.007752  0.095654  0.386819  0.141335 -0.277413   \n",
      "Atr51  0.759276 -0.198105  0.104778  0.010980  0.405909  0.118745 -0.143388   \n",
      "Atr52  0.689942 -0.237791  0.022400 -0.080919  0.239201 -0.037918  0.181594   \n",
      "Atr53  0.757341 -0.262552  0.086869 -0.123012  0.096953 -0.062706  0.198801   \n",
      "Atr54  0.875819 -0.228626  0.035292 -0.077681  0.114353 -0.002357  0.131988   \n",
      "\n",
      "       Factor 8  Factor 9  Factor 10  Factor 11  Factor 12  Factor 13  \\\n",
      "Atr1   0.024638  0.100983  -0.023616   0.113492   0.188506  -0.084335   \n",
      "Atr2  -0.088347  0.094968  -0.057316   0.136735   0.137855   0.006075   \n",
      "Atr3   0.114279  0.036265  -0.163823   0.114542   0.199670  -0.013056   \n",
      "Atr4  -0.057992  0.085416   0.044015   0.134255   0.100653  -0.009260   \n",
      "Atr5  -0.042133  0.059307   0.027404   0.041508  -0.018389   0.020699   \n",
      "Atr6   0.254432 -0.158369   0.150740  -0.227834  -0.005541  -0.021440   \n",
      "Atr7   0.255071 -0.232530   0.193916  -0.064286   0.122913   0.040269   \n",
      "Atr8  -0.183956  0.052087  -0.044665  -0.027497  -0.048712   0.015523   \n",
      "Atr9  -0.010607 -0.117407  -0.059924  -0.029114  -0.018423   0.045573   \n",
      "Atr10 -0.018610  0.037425   0.036922  -0.065517  -0.074504   0.085747   \n",
      "Atr11 -0.009078  0.077107  -0.009978  -0.077286  -0.021819  -0.057575   \n",
      "Atr12 -0.009593  0.020063  -0.049956   0.044135  -0.084040   0.038061   \n",
      "Atr13 -0.045022  0.039598  -0.028085  -0.051190  -0.066491   0.053883   \n",
      "Atr14 -0.024165  0.031322  -0.014119   0.015724   0.066522  -0.018759   \n",
      "Atr15  0.045125 -0.132659  -0.071193  -0.019166  -0.070142   0.064189   \n",
      "Atr16 -0.023394 -0.043613   0.107604  -0.068136  -0.045435  -0.001813   \n",
      "Atr17  0.002910  0.006545   0.039049   0.011120  -0.044633  -0.006246   \n",
      "Atr18 -0.060572 -0.001541   0.008388   0.010410  -0.019929  -0.000603   \n",
      "Atr19  0.020029  0.015235   0.067760   0.032572   0.018358  -0.022299   \n",
      "Atr20 -0.014190  0.039151   0.007206   0.038096   0.002109  -0.019409   \n",
      "Atr21  0.136031 -0.074578  -0.111532  -0.003608   0.005069  -0.036839   \n",
      "Atr22 -0.030320  0.039707   0.053632  -0.033980  -0.005823   0.036120   \n",
      "Atr23 -0.083650  0.018832  -0.001401   0.011563   0.025425   0.070520   \n",
      "Atr24 -0.040047  0.042529   0.030908   0.005878   0.097805   0.002751   \n",
      "Atr25  0.036197  0.044267  -0.053394  -0.086445  -0.026396   0.032073   \n",
      "Atr26  0.063964  0.015531   0.002323   0.005082   0.020361   0.010977   \n",
      "Atr27  0.154824 -0.107753  -0.030034  -0.035730   0.100351   0.031945   \n",
      "Atr28 -0.004187  0.025178   0.042838  -0.076637  -0.005303  -0.024266   \n",
      "Atr29  0.062636  0.039967   0.037478   0.003149  -0.007134  -0.038645   \n",
      "Atr30  0.036714  0.076466  -0.036282  -0.013386  -0.032572  -0.089609   \n",
      "Atr31  0.097349  0.087663   0.050896  -0.016429  -0.070585   0.166583   \n",
      "Atr32  0.112000  0.083046  -0.010743   0.068664   0.013592   0.247286   \n",
      "Atr33  0.119728  0.109251   0.081456   0.060364  -0.053579   0.043932   \n",
      "Atr34  0.020851  0.043833  -0.033114   0.015435  -0.033215   0.079392   \n",
      "Atr35 -0.009269  0.008024   0.008465   0.027525  -0.051918  -0.107918   \n",
      "Atr36 -0.099627 -0.040627  -0.072546   0.036716   0.003866  -0.025139   \n",
      "Atr37  0.109860  0.081955   0.027383  -0.067970  -0.043873   0.068036   \n",
      "Atr38 -0.009783 -0.046582  -0.083589  -0.001106  -0.035864  -0.049858   \n",
      "Atr39  0.152791 -0.030609   0.104718  -0.011865   0.006623  -0.093550   \n",
      "Atr40  0.018724 -0.104519  -0.031405  -0.048336   0.048064   0.005165   \n",
      "Atr41  0.108726 -0.028539   0.106376  -0.011268   0.021446  -0.030654   \n",
      "Atr42 -0.050198 -0.281778   0.143122   0.084391  -0.018558   0.044702   \n",
      "Atr43 -0.127598 -0.376636   0.256677   0.181592  -0.084763  -0.012984   \n",
      "Atr44 -0.029776 -0.231114   0.018421   0.029820   0.013483   0.094117   \n",
      "Atr45 -0.145635 -0.371920   0.313273   0.228796  -0.007346  -0.037725   \n",
      "Atr46 -0.261303 -0.323769   0.060739  -0.053225   0.137441   0.007256   \n",
      "Atr47 -0.159772 -0.240865   0.164885   0.093345   0.019422   0.087298   \n",
      "Atr48 -0.038893  0.021540  -0.043065   0.083679   0.318760   0.158840   \n",
      "Atr49  0.037278 -0.031115  -0.009679   0.100593  -0.063651  -0.075827   \n",
      "Atr50 -0.033867 -0.016009  -0.068474  -0.061259  -0.066395  -0.072952   \n",
      "Atr51 -0.010187  0.030653  -0.055535  -0.035900   0.024566   0.170627   \n",
      "Atr52 -0.190281  0.007691   0.202891  -0.273969   0.154867  -0.086458   \n",
      "Atr53 -0.123532  0.101681   0.048069  -0.295244   0.218266   0.058851   \n",
      "Atr54 -0.031741  0.070867   0.097132  -0.061310   0.029050  -0.109109   \n",
      "\n",
      "       Factor 14  Factor 15  Factor 16  Factor 17  Factor 18  Factor 19  \\\n",
      "Atr1    0.073389   0.014729  -0.100370  -0.075478  -0.086540   0.020979   \n",
      "Atr2   -0.080535   0.048335   0.031433  -0.056398  -0.039019  -0.045539   \n",
      "Atr3   -0.044612   0.043918   0.119333  -0.001615   0.006470   0.038744   \n",
      "Atr4    0.016920   0.081874   0.059889   0.098412   0.074495   0.056112   \n",
      "Atr5   -0.038014   0.017447   0.046585   0.050809  -0.028125  -0.077454   \n",
      "Atr6    0.157030  -0.288480  -0.035916   0.010405   0.103691  -0.101075   \n",
      "Atr7    0.191839  -0.236466   0.054603  -0.134082   0.168098  -0.038440   \n",
      "Atr8   -0.029932   0.062077  -0.041008  -0.007792   0.064235  -0.034222   \n",
      "Atr9    0.007445   0.095061   0.010356  -0.014525   0.043608  -0.025054   \n",
      "Atr10  -0.035792   0.028713   0.035227   0.027825  -0.031379  -0.007014   \n",
      "Atr11  -0.085582  -0.016572  -0.048069   0.003273   0.047671  -0.014003   \n",
      "Atr12  -0.056238  -0.065860   0.112088  -0.026395  -0.038140   0.081997   \n",
      "Atr13  -0.050151  -0.053569   0.075716  -0.071342  -0.102874   0.033000   \n",
      "Atr14  -0.086950  -0.035380  -0.042203  -0.116175  -0.024931  -0.021587   \n",
      "Atr15   0.031498   0.082580  -0.020372  -0.024936  -0.050801   0.058194   \n",
      "Atr16   0.021036  -0.028388  -0.009470  -0.034331  -0.051109  -0.022800   \n",
      "Atr17   0.061686  -0.043661   0.038706   0.001036  -0.039138  -0.018980   \n",
      "Atr18   0.043635   0.006690  -0.019791   0.030248   0.007218   0.024091   \n",
      "Atr19  -0.010574  -0.060100  -0.014919   0.012698   0.031965   0.027825   \n",
      "Atr20  -0.007126  -0.067450   0.043483  -0.031761  -0.005622  -0.022010   \n",
      "Atr21  -0.025754  -0.026369  -0.004169   0.004957   0.001666   0.026286   \n",
      "Atr22  -0.023746  -0.011369  -0.017396  -0.034346  -0.027529  -0.018912   \n",
      "Atr23   0.023838   0.000129  -0.017582  -0.074717   0.058546   0.046274   \n",
      "Atr24   0.050386   0.044880   0.013515  -0.010858   0.026368  -0.027865   \n",
      "Atr25   0.053921   0.028654   0.044373   0.033298  -0.025686  -0.026008   \n",
      "Atr26   0.044196   0.021530  -0.003087   0.030660  -0.038394  -0.040065   \n",
      "Atr27   0.010148   0.074945   0.026904   0.036195  -0.024157  -0.057392   \n",
      "Atr28  -0.044803  -0.011086  -0.021356   0.003803   0.003603  -0.005284   \n",
      "Atr29  -0.007183  -0.060065  -0.021662   0.066697   0.018811   0.000063   \n",
      "Atr30  -0.067316  -0.076463  -0.050732   0.049189   0.026672   0.018730   \n",
      "Atr31   0.013404   0.025668   0.063883  -0.082448  -0.013110   0.073840   \n",
      "Atr32  -0.098928  -0.081564   0.007589   0.062141   0.057308  -0.017704   \n",
      "Atr33   0.050014   0.021670  -0.037428   0.008357  -0.014617   0.012338   \n",
      "Atr34  -0.035578   0.041002  -0.059175   0.007529  -0.055732   0.007907   \n",
      "Atr35   0.042881   0.026761   0.095450  -0.041065  -0.008794  -0.001967   \n",
      "Atr36   0.028846  -0.038293   0.013942   0.007183  -0.012853  -0.026863   \n",
      "Atr37  -0.028045   0.069568   0.001001  -0.035900   0.015533   0.072820   \n",
      "Atr38  -0.034060   0.007626  -0.095401   0.040929   0.019151  -0.019156   \n",
      "Atr39  -0.131231   0.069396   0.034784  -0.047128  -0.033861   0.051717   \n",
      "Atr40  -0.022405   0.001538  -0.028943   0.005508   0.003294   0.020497   \n",
      "Atr41  -0.028096   0.114446   0.039815  -0.064272   0.077690  -0.056734   \n",
      "Atr42  -0.204411  -0.021535  -0.020195   0.083153  -0.079487   0.018562   \n",
      "Atr43  -0.149945   0.050059  -0.079647   0.089793  -0.061679  -0.013053   \n",
      "Atr44   0.140516  -0.032263  -0.100248   0.073215   0.012162   0.021877   \n",
      "Atr45  -0.148026   0.014462  -0.085377  -0.056189  -0.010573   0.020655   \n",
      "Atr46   0.081571  -0.118774   0.008454   0.091455  -0.138461   0.071466   \n",
      "Atr47  -0.080122  -0.058904   0.154462  -0.024850   0.059064  -0.057319   \n",
      "Atr48  -0.200984  -0.121441   0.089847   0.036270  -0.027407  -0.017526   \n",
      "Atr49   0.050129   0.014124   0.047639   0.152571   0.107228   0.060314   \n",
      "Atr50   0.005047  -0.016355   0.017727  -0.055709   0.034211   0.013000   \n",
      "Atr51  -0.003051  -0.069819  -0.157252  -0.033050  -0.066576  -0.056374   \n",
      "Atr52   0.022396   0.094461  -0.000879   0.097966  -0.093556   0.164892   \n",
      "Atr53  -0.020041  -0.048421   0.118919   0.078794   0.001152   0.017207   \n",
      "Atr54   0.029428   0.058129  -0.080253  -0.049129   0.004560  -0.084591   \n",
      "\n",
      "       Factor 20  \n",
      "Atr1   -0.040506  \n",
      "Atr2   -0.039162  \n",
      "Atr3   -0.070294  \n",
      "Atr4    0.011391  \n",
      "Atr5    0.067761  \n",
      "Atr6    0.006781  \n",
      "Atr7    0.020423  \n",
      "Atr8   -0.053361  \n",
      "Atr9    0.034936  \n",
      "Atr10  -0.025358  \n",
      "Atr11  -0.021763  \n",
      "Atr12  -0.023081  \n",
      "Atr13  -0.001460  \n",
      "Atr14   0.113075  \n",
      "Atr15  -0.047268  \n",
      "Atr16  -0.035489  \n",
      "Atr17  -0.031880  \n",
      "Atr18   0.016442  \n",
      "Atr19   0.043569  \n",
      "Atr20   0.023389  \n",
      "Atr21   0.000208  \n",
      "Atr22   0.001294  \n",
      "Atr23   0.006937  \n",
      "Atr24  -0.059691  \n",
      "Atr25   0.000718  \n",
      "Atr26  -0.033694  \n",
      "Atr27   0.035517  \n",
      "Atr28   0.063268  \n",
      "Atr29  -0.017658  \n",
      "Atr30  -0.038083  \n",
      "Atr31   0.030829  \n",
      "Atr32  -0.003161  \n",
      "Atr33   0.000135  \n",
      "Atr34   0.013532  \n",
      "Atr35  -0.006614  \n",
      "Atr36   0.016131  \n",
      "Atr37  -0.009609  \n",
      "Atr38  -0.062080  \n",
      "Atr39   0.010537  \n",
      "Atr40   0.014494  \n",
      "Atr41  -0.046642  \n",
      "Atr42  -0.080347  \n",
      "Atr43   0.050486  \n",
      "Atr44  -0.007128  \n",
      "Atr45  -0.021256  \n",
      "Atr46  -0.052760  \n",
      "Atr47  -0.152434  \n",
      "Atr48  -0.092047  \n",
      "Atr49   0.019385  \n",
      "Atr50   0.004822  \n",
      "Atr51  -0.016476  \n",
      "Atr52   0.057796  \n",
      "Atr53  -0.043828  \n",
      "Atr54  -0.017064  \n"
     ]
    }
   ],
   "source": [
    "factor_loadings = pd.DataFrame(fa.components_.T, columns=[f'Factor {i+1}' for i in range(fa.components_.shape[0])], index=X.columns)\n",
    "\n",
    "# 打印或保存因子载荷矩阵\n",
    "print(factor_loadings)\n"
   ]
  },
  {
   "cell_type": "code",
   "execution_count": 36,
   "metadata": {},
   "outputs": [
    {
     "name": "stdout",
     "output_type": "stream",
     "text": [
      "Model Accuracy: 0.9705882352941176\n"
     ]
    }
   ],
   "source": [
    "from sklearn.model_selection import train_test_split\n",
    "from sklearn.linear_model import LogisticRegression\n",
    "from sklearn.metrics import accuracy_score\n",
    "\n",
    "# 使用因子分析后的数据\n",
    "X_train, X_test, y_train, y_test = train_test_split(factor_components, df['Class'], test_size=0.2, random_state=42)\n",
    "model = LogisticRegression()\n",
    "model.fit(X_train, y_train)\n",
    "\n",
    "# 预测和评估\n",
    "y_pred = model.predict(X_test)\n",
    "accuracy = accuracy_score(y_test, y_pred)\n",
    "print(f\"Model Accuracy: {accuracy}\")\n"
   ]
  },
  {
   "cell_type": "code",
   "execution_count": 37,
   "metadata": {},
   "outputs": [
    {
     "name": "stdout",
     "output_type": "stream",
     "text": [
      "Selected Important Features:\n",
      "       Factor 1  Factor 2  Factor 3  Factor 4  Factor 5  Factor 6  Factor 7  \\\n",
      "Atr1   0.891863  0.088296  0.037819  0.216805 -0.009007  0.079662  0.001881   \n",
      "Atr2   0.867737  0.215901  0.006906 -0.067429  0.050728 -0.045789 -0.054063   \n",
      "Atr3   0.822851  0.142496  0.120537  0.090894  0.034319  0.130842  0.051118   \n",
      "Atr4   0.855046  0.137403  0.146902 -0.026302 -0.096568  0.303866 -0.098064   \n",
      "Atr5   0.951196 -0.010814 -0.004175  0.185570  0.066016  0.027900  0.058301   \n",
      "Atr8   0.926166  0.169738 -0.024093 -0.092699  0.071293 -0.028586  0.086232   \n",
      "Atr9   0.947187  0.113305  0.042617  0.042853  0.052443  0.075011  0.134174   \n",
      "Atr10  0.872129  0.214249  0.111294 -0.011831 -0.133284  0.222281 -0.086098   \n",
      "Atr11  0.946324  0.082895  0.038441  0.201131 -0.016554  0.003226  0.044217   \n",
      "Atr12  0.908066  0.272351  0.037870 -0.049833  0.015328 -0.096803 -0.030767   \n",
      "Atr13  0.908170  0.040747 -0.040588  0.211257 -0.004266  0.034591  0.072248   \n",
      "Atr14  0.906784  0.229758 -0.044260 -0.107962  0.027426 -0.120288 -0.007056   \n",
      "Atr15  0.923356  0.178132  0.024872  0.084373 -0.006670  0.043074  0.100783   \n",
      "Atr16  0.910191  0.218025  0.098396 -0.028636 -0.084484  0.218572 -0.029355   \n",
      "Atr17  0.957405  0.064259  0.002954  0.185433 -0.024071  0.000013  0.068308   \n",
      "Atr18  0.947435  0.270460  0.044176 -0.040096  0.036982 -0.076357  0.011171   \n",
      "Atr19  0.959894  0.061701 -0.015032  0.163784 -0.035913  0.001519  0.050975   \n",
      "Atr20  0.947397  0.194225  0.039637 -0.097213  0.066209 -0.077462 -0.008236   \n",
      "Atr21  0.940813 -0.030848 -0.152065 -0.103977  0.024026  0.096929  0.119988   \n",
      "Atr22  0.914799 -0.018700 -0.131754 -0.193954 -0.083993  0.231628 -0.042849   \n",
      "Atr23  0.929325 -0.172015 -0.236484  0.065569 -0.076019 -0.022833 -0.007978   \n",
      "Atr24  0.910244  0.163327 -0.115780 -0.133000  0.045962 -0.101532 -0.052210   \n",
      "Atr25  0.919281 -0.057864 -0.174176  0.153293 -0.093190 -0.094470 -0.161260   \n",
      "Atr26  0.918504  0.195259 -0.160559 -0.128315 -0.000977 -0.139658 -0.126676   \n",
      "Atr27  0.930826  0.070489 -0.170767 -0.006870  0.058329  0.000548 -0.012195   \n",
      "Atr28  0.902306  0.006414 -0.119452 -0.175826 -0.202178  0.131877 -0.159324   \n",
      "Atr29  0.956964 -0.073028 -0.184881  0.075107 -0.030225 -0.011335  0.027168   \n",
      "Atr30  0.923863  0.124964 -0.047882 -0.187994  0.015410 -0.091317 -0.012826   \n",
      "Atr31  0.836973 -0.222512  0.060713 -0.039612 -0.034440 -0.106696 -0.060939   \n",
      "Atr32  0.865565 -0.147057  0.204731 -0.032810  0.011265 -0.024548  0.025721   \n",
      "Atr33  0.925681 -0.231502  0.063691 -0.096225  0.089578 -0.004037  0.062790   \n",
      "Atr34  0.885437 -0.287305  0.193879 -0.086021 -0.053566 -0.059303  0.012002   \n",
      "Atr35  0.934833 -0.255520  0.028759 -0.073985 -0.027381 -0.024248  0.028787   \n",
      "Atr36  0.942175 -0.239408  0.114095 -0.060244 -0.066213 -0.005199  0.019035   \n",
      "Atr37  0.903265 -0.129016  0.172767  0.010707  0.010717 -0.047296 -0.032731   \n",
      "Atr38  0.915819 -0.161949  0.206759 -0.004505 -0.111622 -0.019796 -0.037471   \n",
      "Atr39  0.914699 -0.044441  0.136440  0.031610  0.018617 -0.094749 -0.074592   \n",
      "Atr40  0.931829 -0.056075  0.233131  0.065545 -0.095640 -0.093622 -0.111341   \n",
      "Atr41  0.925150 -0.111782  0.074606  0.000675 -0.079247 -0.122932 -0.050557   \n",
      "Atr42  0.778742 -0.088365 -0.023618  0.008110 -0.013154 -0.041429 -0.021507   \n",
      "Atr43  0.620865 -0.121285 -0.265395  0.022662  0.067432 -0.077350 -0.013732   \n",
      "Atr44  0.863879 -0.085054  0.003210  0.045462 -0.043679 -0.077969 -0.110060   \n",
      "Atr45  0.606351 -0.163066 -0.201738  0.038064  0.128592 -0.017275  0.028593   \n",
      "Atr46  0.518845 -0.318584 -0.250125 -0.037766  0.100217 -0.046639 -0.139594   \n",
      "Atr47  0.733725 -0.182562 -0.226227 -0.012075  0.154601 -0.009882  0.028978   \n",
      "Atr48  0.672208 -0.156797  0.109601  0.023795  0.168968  0.047062 -0.119767   \n",
      "Atr49  0.780080 -0.145260 -0.041239  0.059233  0.285448  0.105997 -0.271147   \n",
      "Atr50  0.811314 -0.149566  0.007752  0.095654  0.386819  0.141335 -0.277413   \n",
      "Atr51  0.759276 -0.198105  0.104778  0.010980  0.405909  0.118745 -0.143388   \n",
      "Atr52  0.689942 -0.237791  0.022400 -0.080919  0.239201 -0.037918  0.181594   \n",
      "Atr53  0.757341 -0.262552  0.086869 -0.123012  0.096953 -0.062706  0.198801   \n",
      "Atr54  0.875819 -0.228626  0.035292 -0.077681  0.114353 -0.002357  0.131988   \n",
      "\n",
      "       Factor 8  Factor 9  Factor 10  Factor 11  Factor 12  Factor 13  \\\n",
      "Atr1   0.024638  0.100983  -0.023616   0.113492   0.188506  -0.084335   \n",
      "Atr2  -0.088347  0.094968  -0.057316   0.136735   0.137855   0.006075   \n",
      "Atr3   0.114279  0.036265  -0.163823   0.114542   0.199670  -0.013056   \n",
      "Atr4  -0.057992  0.085416   0.044015   0.134255   0.100653  -0.009260   \n",
      "Atr5  -0.042133  0.059307   0.027404   0.041508  -0.018389   0.020699   \n",
      "Atr8  -0.183956  0.052087  -0.044665  -0.027497  -0.048712   0.015523   \n",
      "Atr9  -0.010607 -0.117407  -0.059924  -0.029114  -0.018423   0.045573   \n",
      "Atr10 -0.018610  0.037425   0.036922  -0.065517  -0.074504   0.085747   \n",
      "Atr11 -0.009078  0.077107  -0.009978  -0.077286  -0.021819  -0.057575   \n",
      "Atr12 -0.009593  0.020063  -0.049956   0.044135  -0.084040   0.038061   \n",
      "Atr13 -0.045022  0.039598  -0.028085  -0.051190  -0.066491   0.053883   \n",
      "Atr14 -0.024165  0.031322  -0.014119   0.015724   0.066522  -0.018759   \n",
      "Atr15  0.045125 -0.132659  -0.071193  -0.019166  -0.070142   0.064189   \n",
      "Atr16 -0.023394 -0.043613   0.107604  -0.068136  -0.045435  -0.001813   \n",
      "Atr17  0.002910  0.006545   0.039049   0.011120  -0.044633  -0.006246   \n",
      "Atr18 -0.060572 -0.001541   0.008388   0.010410  -0.019929  -0.000603   \n",
      "Atr19  0.020029  0.015235   0.067760   0.032572   0.018358  -0.022299   \n",
      "Atr20 -0.014190  0.039151   0.007206   0.038096   0.002109  -0.019409   \n",
      "Atr21  0.136031 -0.074578  -0.111532  -0.003608   0.005069  -0.036839   \n",
      "Atr22 -0.030320  0.039707   0.053632  -0.033980  -0.005823   0.036120   \n",
      "Atr23 -0.083650  0.018832  -0.001401   0.011563   0.025425   0.070520   \n",
      "Atr24 -0.040047  0.042529   0.030908   0.005878   0.097805   0.002751   \n",
      "Atr25  0.036197  0.044267  -0.053394  -0.086445  -0.026396   0.032073   \n",
      "Atr26  0.063964  0.015531   0.002323   0.005082   0.020361   0.010977   \n",
      "Atr27  0.154824 -0.107753  -0.030034  -0.035730   0.100351   0.031945   \n",
      "Atr28 -0.004187  0.025178   0.042838  -0.076637  -0.005303  -0.024266   \n",
      "Atr29  0.062636  0.039967   0.037478   0.003149  -0.007134  -0.038645   \n",
      "Atr30  0.036714  0.076466  -0.036282  -0.013386  -0.032572  -0.089609   \n",
      "Atr31  0.097349  0.087663   0.050896  -0.016429  -0.070585   0.166583   \n",
      "Atr32  0.112000  0.083046  -0.010743   0.068664   0.013592   0.247286   \n",
      "Atr33  0.119728  0.109251   0.081456   0.060364  -0.053579   0.043932   \n",
      "Atr34  0.020851  0.043833  -0.033114   0.015435  -0.033215   0.079392   \n",
      "Atr35 -0.009269  0.008024   0.008465   0.027525  -0.051918  -0.107918   \n",
      "Atr36 -0.099627 -0.040627  -0.072546   0.036716   0.003866  -0.025139   \n",
      "Atr37  0.109860  0.081955   0.027383  -0.067970  -0.043873   0.068036   \n",
      "Atr38 -0.009783 -0.046582  -0.083589  -0.001106  -0.035864  -0.049858   \n",
      "Atr39  0.152791 -0.030609   0.104718  -0.011865   0.006623  -0.093550   \n",
      "Atr40  0.018724 -0.104519  -0.031405  -0.048336   0.048064   0.005165   \n",
      "Atr41  0.108726 -0.028539   0.106376  -0.011268   0.021446  -0.030654   \n",
      "Atr42 -0.050198 -0.281778   0.143122   0.084391  -0.018558   0.044702   \n",
      "Atr43 -0.127598 -0.376636   0.256677   0.181592  -0.084763  -0.012984   \n",
      "Atr44 -0.029776 -0.231114   0.018421   0.029820   0.013483   0.094117   \n",
      "Atr45 -0.145635 -0.371920   0.313273   0.228796  -0.007346  -0.037725   \n",
      "Atr46 -0.261303 -0.323769   0.060739  -0.053225   0.137441   0.007256   \n",
      "Atr47 -0.159772 -0.240865   0.164885   0.093345   0.019422   0.087298   \n",
      "Atr48 -0.038893  0.021540  -0.043065   0.083679   0.318760   0.158840   \n",
      "Atr49  0.037278 -0.031115  -0.009679   0.100593  -0.063651  -0.075827   \n",
      "Atr50 -0.033867 -0.016009  -0.068474  -0.061259  -0.066395  -0.072952   \n",
      "Atr51 -0.010187  0.030653  -0.055535  -0.035900   0.024566   0.170627   \n",
      "Atr52 -0.190281  0.007691   0.202891  -0.273969   0.154867  -0.086458   \n",
      "Atr53 -0.123532  0.101681   0.048069  -0.295244   0.218266   0.058851   \n",
      "Atr54 -0.031741  0.070867   0.097132  -0.061310   0.029050  -0.109109   \n",
      "\n",
      "       Factor 14  Factor 15  Factor 16  Factor 17  Factor 18  Factor 19  \\\n",
      "Atr1    0.073389   0.014729  -0.100370  -0.075478  -0.086540   0.020979   \n",
      "Atr2   -0.080535   0.048335   0.031433  -0.056398  -0.039019  -0.045539   \n",
      "Atr3   -0.044612   0.043918   0.119333  -0.001615   0.006470   0.038744   \n",
      "Atr4    0.016920   0.081874   0.059889   0.098412   0.074495   0.056112   \n",
      "Atr5   -0.038014   0.017447   0.046585   0.050809  -0.028125  -0.077454   \n",
      "Atr8   -0.029932   0.062077  -0.041008  -0.007792   0.064235  -0.034222   \n",
      "Atr9    0.007445   0.095061   0.010356  -0.014525   0.043608  -0.025054   \n",
      "Atr10  -0.035792   0.028713   0.035227   0.027825  -0.031379  -0.007014   \n",
      "Atr11  -0.085582  -0.016572  -0.048069   0.003273   0.047671  -0.014003   \n",
      "Atr12  -0.056238  -0.065860   0.112088  -0.026395  -0.038140   0.081997   \n",
      "Atr13  -0.050151  -0.053569   0.075716  -0.071342  -0.102874   0.033000   \n",
      "Atr14  -0.086950  -0.035380  -0.042203  -0.116175  -0.024931  -0.021587   \n",
      "Atr15   0.031498   0.082580  -0.020372  -0.024936  -0.050801   0.058194   \n",
      "Atr16   0.021036  -0.028388  -0.009470  -0.034331  -0.051109  -0.022800   \n",
      "Atr17   0.061686  -0.043661   0.038706   0.001036  -0.039138  -0.018980   \n",
      "Atr18   0.043635   0.006690  -0.019791   0.030248   0.007218   0.024091   \n",
      "Atr19  -0.010574  -0.060100  -0.014919   0.012698   0.031965   0.027825   \n",
      "Atr20  -0.007126  -0.067450   0.043483  -0.031761  -0.005622  -0.022010   \n",
      "Atr21  -0.025754  -0.026369  -0.004169   0.004957   0.001666   0.026286   \n",
      "Atr22  -0.023746  -0.011369  -0.017396  -0.034346  -0.027529  -0.018912   \n",
      "Atr23   0.023838   0.000129  -0.017582  -0.074717   0.058546   0.046274   \n",
      "Atr24   0.050386   0.044880   0.013515  -0.010858   0.026368  -0.027865   \n",
      "Atr25   0.053921   0.028654   0.044373   0.033298  -0.025686  -0.026008   \n",
      "Atr26   0.044196   0.021530  -0.003087   0.030660  -0.038394  -0.040065   \n",
      "Atr27   0.010148   0.074945   0.026904   0.036195  -0.024157  -0.057392   \n",
      "Atr28  -0.044803  -0.011086  -0.021356   0.003803   0.003603  -0.005284   \n",
      "Atr29  -0.007183  -0.060065  -0.021662   0.066697   0.018811   0.000063   \n",
      "Atr30  -0.067316  -0.076463  -0.050732   0.049189   0.026672   0.018730   \n",
      "Atr31   0.013404   0.025668   0.063883  -0.082448  -0.013110   0.073840   \n",
      "Atr32  -0.098928  -0.081564   0.007589   0.062141   0.057308  -0.017704   \n",
      "Atr33   0.050014   0.021670  -0.037428   0.008357  -0.014617   0.012338   \n",
      "Atr34  -0.035578   0.041002  -0.059175   0.007529  -0.055732   0.007907   \n",
      "Atr35   0.042881   0.026761   0.095450  -0.041065  -0.008794  -0.001967   \n",
      "Atr36   0.028846  -0.038293   0.013942   0.007183  -0.012853  -0.026863   \n",
      "Atr37  -0.028045   0.069568   0.001001  -0.035900   0.015533   0.072820   \n",
      "Atr38  -0.034060   0.007626  -0.095401   0.040929   0.019151  -0.019156   \n",
      "Atr39  -0.131231   0.069396   0.034784  -0.047128  -0.033861   0.051717   \n",
      "Atr40  -0.022405   0.001538  -0.028943   0.005508   0.003294   0.020497   \n",
      "Atr41  -0.028096   0.114446   0.039815  -0.064272   0.077690  -0.056734   \n",
      "Atr42  -0.204411  -0.021535  -0.020195   0.083153  -0.079487   0.018562   \n",
      "Atr43  -0.149945   0.050059  -0.079647   0.089793  -0.061679  -0.013053   \n",
      "Atr44   0.140516  -0.032263  -0.100248   0.073215   0.012162   0.021877   \n",
      "Atr45  -0.148026   0.014462  -0.085377  -0.056189  -0.010573   0.020655   \n",
      "Atr46   0.081571  -0.118774   0.008454   0.091455  -0.138461   0.071466   \n",
      "Atr47  -0.080122  -0.058904   0.154462  -0.024850   0.059064  -0.057319   \n",
      "Atr48  -0.200984  -0.121441   0.089847   0.036270  -0.027407  -0.017526   \n",
      "Atr49   0.050129   0.014124   0.047639   0.152571   0.107228   0.060314   \n",
      "Atr50   0.005047  -0.016355   0.017727  -0.055709   0.034211   0.013000   \n",
      "Atr51  -0.003051  -0.069819  -0.157252  -0.033050  -0.066576  -0.056374   \n",
      "Atr52   0.022396   0.094461  -0.000879   0.097966  -0.093556   0.164892   \n",
      "Atr53  -0.020041  -0.048421   0.118919   0.078794   0.001152   0.017207   \n",
      "Atr54   0.029428   0.058129  -0.080253  -0.049129   0.004560  -0.084591   \n",
      "\n",
      "       Factor 20  \n",
      "Atr1   -0.040506  \n",
      "Atr2   -0.039162  \n",
      "Atr3   -0.070294  \n",
      "Atr4    0.011391  \n",
      "Atr5    0.067761  \n",
      "Atr8   -0.053361  \n",
      "Atr9    0.034936  \n",
      "Atr10  -0.025358  \n",
      "Atr11  -0.021763  \n",
      "Atr12  -0.023081  \n",
      "Atr13  -0.001460  \n",
      "Atr14   0.113075  \n",
      "Atr15  -0.047268  \n",
      "Atr16  -0.035489  \n",
      "Atr17  -0.031880  \n",
      "Atr18   0.016442  \n",
      "Atr19   0.043569  \n",
      "Atr20   0.023389  \n",
      "Atr21   0.000208  \n",
      "Atr22   0.001294  \n",
      "Atr23   0.006937  \n",
      "Atr24  -0.059691  \n",
      "Atr25   0.000718  \n",
      "Atr26  -0.033694  \n",
      "Atr27   0.035517  \n",
      "Atr28   0.063268  \n",
      "Atr29  -0.017658  \n",
      "Atr30  -0.038083  \n",
      "Atr31   0.030829  \n",
      "Atr32  -0.003161  \n",
      "Atr33   0.000135  \n",
      "Atr34   0.013532  \n",
      "Atr35  -0.006614  \n",
      "Atr36   0.016131  \n",
      "Atr37  -0.009609  \n",
      "Atr38  -0.062080  \n",
      "Atr39   0.010537  \n",
      "Atr40   0.014494  \n",
      "Atr41  -0.046642  \n",
      "Atr42  -0.080347  \n",
      "Atr43   0.050486  \n",
      "Atr44  -0.007128  \n",
      "Atr45  -0.021256  \n",
      "Atr46  -0.052760  \n",
      "Atr47  -0.152434  \n",
      "Atr48  -0.092047  \n",
      "Atr49   0.019385  \n",
      "Atr50   0.004822  \n",
      "Atr51  -0.016476  \n",
      "Atr52   0.057796  \n",
      "Atr53  -0.043828  \n",
      "Atr54  -0.017064  \n"
     ]
    }
   ],
   "source": [
    "# 设置阈值\n",
    "threshold = 0.5\n",
    "\n",
    "# 选择重要特征\n",
    "important_features = factor_loadings.apply(lambda x: x.abs() > threshold, axis=0)\n",
    "selected_features = factor_loadings[important_features.any(axis=1)]\n",
    "\n",
    "print(\"Selected Important Features:\")\n",
    "print(selected_features)\n"
   ]
  },
  {
   "cell_type": "code",
   "execution_count": 38,
   "metadata": {},
   "outputs": [
    {
     "name": "stdout",
     "output_type": "stream",
     "text": [
      "Model Accuracy with Selected Features: 1.0\n"
     ]
    }
   ],
   "source": [
    "# 使用选定的特征\n",
    "selected_feature_names = selected_features.index\n",
    "X_selected = X[selected_feature_names]\n",
    "\n",
    "# 分割数据集\n",
    "X_train, X_test, y_train, y_test = train_test_split(X_selected, df['Class'], test_size=0.2, random_state=42)\n",
    "\n",
    "# 构建分类模型\n",
    "model = LogisticRegression()\n",
    "model.fit(X_train, y_train)\n",
    "\n",
    "# 预测和评估\n",
    "y_pred = model.predict(X_test)\n",
    "accuracy = accuracy_score(y_test, y_pred)\n",
    "print(f\"Model Accuracy with Selected Features: {accuracy}\")\n"
   ]
  },
  {
   "cell_type": "markdown",
   "metadata": {},
   "source": [
    "Deep Dive into dataset\n",
    "information regarding this dataset was extracted from the paper titled \"divorce prediction using correlation based feature selection and artificial neural networks,\" which utilized the dataset in question.\n",
    "\n",
    "Here are some additional insights that could be beneficial for data scientists working with this dataset:\n",
    "\n",
    "1. Uses: Researchers could explore how predictive factors evolve over time within marriages, providing deeper insights into the dynamics of relationship deterioration.\n",
    "\n",
    "2. Combination of Predictors: Gottman highlights the combination of predictors such as the \"four horsemen\" (Criticism, Contempt, Stonewalling, Defensiveness) along with failed repair attempts as highly indicative of future divorce. Data scientists could investigate interactions between these predictors to uncover synergistic or antagonistic relationships that enhance or diminish divorce prediction accuracy.\n",
    "\n",
    "3. Behavioral Dynamics: The study emphasizes the importance of observing couples' behaviors and reactions during conflict, suggesting that even a few minutes of interaction following an argument can provide insight into the likelihood of divorce. This emphasis on real-time behavioral observations suggests the potential for time-series analysis of behavioral data within the dataset, capturing moment-to-moment dynamics preceding divorce.\n",
    "\n",
    "4. Quality of Friendship: Gottman and Silver suggest that the quality of friendship between spouses significantly influences marital satisfaction and longevity. Data scientists could explore measures of friendship quality within the DPS dataset and assess their predictive power regarding divorce outcomes. This could involve developing novel features or indices to quantify friendship quality based on DPS responses.\n",
    "\n",
    "5. Cultural Context: The introduction highlights the rising divorce rates in Turkey and the need for culturally sensitive interventions. Data scientists should consider cultural nuances and variations in relationship dynamics when analyzing the dataset. Exploring how cultural factors interact with predictive variables could enhance the generalizability and effectiveness of divorce prediction models across diverse populations.\n",
    "\n",
    "6. Utilization of Data Mining: The study discusses the use of data mining methods in psychology and psychiatry research, albeit with limited application to divorce prediction. Data scientists could draw inspiration from these methodologies and adapt them to analyze the DPS dataset. Techniques such as classification, estimation, and clustering mentioned in the introduction could inform the development of innovative predictive models for divorce risk assessment.\n",
    "\n",
    "Incorporating these insights into data analysis strategies can enrich the exploration of the DPS dataset, leading to more nuanced understanding and accurate prediction of divorce outcomes.\n"
   ]
  },
  {
   "cell_type": "markdown",
   "metadata": {},
   "source": []
  }
 ],
 "metadata": {
  "kernelspec": {
   "display_name": "Python 3 (ipykernel)",
   "language": "python",
   "name": "python3"
  },
  "language_info": {
   "codemirror_mode": {
    "name": "ipython",
    "version": 3
   },
   "file_extension": ".py",
   "mimetype": "text/x-python",
   "name": "python",
   "nbconvert_exporter": "python",
   "pygments_lexer": "ipython3",
   "version": "3.11.5"
  }
 },
 "nbformat": 4,
 "nbformat_minor": 2
}
